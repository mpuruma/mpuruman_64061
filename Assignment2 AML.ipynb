{
  "cells": [
    {
      "cell_type": "markdown",
      "metadata": {
        "id": "tPf1F_4TB3tc"
      },
      "source": [
        "This is a companion notebook for the book [Deep Learning with Python, Second Edition](https://www.manning.com/books/deep-learning-with-python-second-edition?a_aid=keras&a_bid=76564dff). For readability, it only contains runnable code blocks and section titles, and omits everything else in the book: text paragraphs, figures, and pseudocode.\n",
        "\n",
        "**If you want to be able to follow what's going on, I recommend reading the notebook side by side with your copy of the book.**\n",
        "\n",
        "This notebook was generated for TensorFlow 2.6."
      ]
    },
    {
      "cell_type": "markdown",
      "metadata": {
        "id": "rUqo9iHXB3te"
      },
      "source": [
        "## Modern convnet architecture patterns"
      ]
    },
    {
      "cell_type": "markdown",
      "metadata": {
        "id": "A_rd6hjRB3te"
      },
      "source": [
        "### Modularity, hierarchy, and reuse"
      ]
    },
    {
      "cell_type": "markdown",
      "metadata": {
        "id": "YwLvf6gdB3te"
      },
      "source": [
        "### Residual connections"
      ]
    },
    {
      "cell_type": "markdown",
      "metadata": {
        "id": "eo_iHFkaB3tf"
      },
      "source": [
        "**Residual block where the number of filters changes**"
      ]
    },
    {
      "cell_type": "code",
      "execution_count": 2,
      "metadata": {
        "id": "p0fuwd9wB3tf"
      },
      "outputs": [],
      "source": [
        "from tensorflow import keras\n",
        "from tensorflow.keras import layers\n",
        "\n",
        "inputs = keras.Input(shape=(32, 32, 3))\n",
        "x = layers.Conv2D(32, 3, activation=\"relu\")(inputs)\n",
        "residual = x\n",
        "x = layers.Conv2D(64, 3, activation=\"relu\", padding=\"same\")(x)\n",
        "residual = layers.Conv2D(64, 1)(residual)\n",
        "x = layers.add([x, residual])"
      ]
    },
    {
      "cell_type": "markdown",
      "metadata": {
        "id": "mK-3ig-HB3tg"
      },
      "source": [
        "**Case where target block includes a max pooling layer**"
      ]
    },
    {
      "cell_type": "code",
      "execution_count": 3,
      "metadata": {
        "id": "RMcxd8iCB3tg"
      },
      "outputs": [],
      "source": [
        "inputs = keras.Input(shape=(32, 32, 3))\n",
        "x = layers.Conv2D(32, 3, activation=\"relu\")(inputs)\n",
        "residual = x\n",
        "x = layers.Conv2D(64, 3, activation=\"relu\", padding=\"same\")(x)\n",
        "x = layers.MaxPooling2D(2, padding=\"same\")(x)\n",
        "residual = layers.Conv2D(64, 1, strides=2)(residual)\n",
        "x = layers.add([x, residual])"
      ]
    },
    {
      "cell_type": "code",
      "execution_count": 5,
      "metadata": {
        "colab": {
          "base_uri": "https://localhost:8080/"
        },
        "id": "baNd2VvXB3tg",
        "outputId": "7390d253-1ef6-4568-f370-9b7536d050a8"
      },
      "outputs": [
        {
          "output_type": "stream",
          "name": "stdout",
          "text": [
            "Model: \"model_1\"\n",
            "__________________________________________________________________________________________________\n",
            " Layer (type)                   Output Shape         Param #     Connected to                     \n",
            "==================================================================================================\n",
            " input_4 (InputLayer)           [(None, 32, 32, 3)]  0           []                               \n",
            "                                                                                                  \n",
            " rescaling_1 (Rescaling)        (None, 32, 32, 3)    0           ['input_4[0][0]']                \n",
            "                                                                                                  \n",
            " conv2d_15 (Conv2D)             (None, 32, 32, 32)   896         ['rescaling_1[0][0]']            \n",
            "                                                                                                  \n",
            " conv2d_16 (Conv2D)             (None, 32, 32, 32)   9248        ['conv2d_15[0][0]']              \n",
            "                                                                                                  \n",
            " max_pooling2d_3 (MaxPooling2D)  (None, 16, 16, 32)  0           ['conv2d_16[0][0]']              \n",
            "                                                                                                  \n",
            " conv2d_17 (Conv2D)             (None, 16, 16, 32)   128         ['rescaling_1[0][0]']            \n",
            "                                                                                                  \n",
            " add_5 (Add)                    (None, 16, 16, 32)   0           ['max_pooling2d_3[0][0]',        \n",
            "                                                                  'conv2d_17[0][0]']              \n",
            "                                                                                                  \n",
            " conv2d_18 (Conv2D)             (None, 16, 16, 64)   18496       ['add_5[0][0]']                  \n",
            "                                                                                                  \n",
            " conv2d_19 (Conv2D)             (None, 16, 16, 64)   36928       ['conv2d_18[0][0]']              \n",
            "                                                                                                  \n",
            " max_pooling2d_4 (MaxPooling2D)  (None, 8, 8, 64)    0           ['conv2d_19[0][0]']              \n",
            "                                                                                                  \n",
            " conv2d_20 (Conv2D)             (None, 8, 8, 64)     2112        ['add_5[0][0]']                  \n",
            "                                                                                                  \n",
            " add_6 (Add)                    (None, 8, 8, 64)     0           ['max_pooling2d_4[0][0]',        \n",
            "                                                                  'conv2d_20[0][0]']              \n",
            "                                                                                                  \n",
            " conv2d_21 (Conv2D)             (None, 8, 8, 128)    73856       ['add_6[0][0]']                  \n",
            "                                                                                                  \n",
            " conv2d_22 (Conv2D)             (None, 8, 8, 128)    147584      ['conv2d_21[0][0]']              \n",
            "                                                                                                  \n",
            " conv2d_23 (Conv2D)             (None, 8, 8, 128)    8320        ['add_6[0][0]']                  \n",
            "                                                                                                  \n",
            " add_7 (Add)                    (None, 8, 8, 128)    0           ['conv2d_22[0][0]',              \n",
            "                                                                  'conv2d_23[0][0]']              \n",
            "                                                                                                  \n",
            " global_average_pooling2d_1 (Gl  (None, 128)         0           ['add_7[0][0]']                  \n",
            " obalAveragePooling2D)                                                                            \n",
            "                                                                                                  \n",
            " dense_1 (Dense)                (None, 1)            129         ['global_average_pooling2d_1[0][0\n",
            "                                                                 ]']                              \n",
            "                                                                                                  \n",
            "==================================================================================================\n",
            "Total params: 297,697\n",
            "Trainable params: 297,697\n",
            "Non-trainable params: 0\n",
            "__________________________________________________________________________________________________\n"
          ]
        }
      ],
      "source": [
        "inputs = keras.Input(shape=(32, 32, 3))\n",
        "x = layers.Rescaling(1./255)(inputs)\n",
        "\n",
        "def residual_block(x, filters, pooling=False):\n",
        "    residual = x\n",
        "    x = layers.Conv2D(filters, 3, activation=\"relu\", padding=\"same\")(x)\n",
        "    x = layers.Conv2D(filters, 3, activation=\"relu\", padding=\"same\")(x)\n",
        "    if pooling:\n",
        "        x = layers.MaxPooling2D(2, padding=\"same\")(x)\n",
        "        residual = layers.Conv2D(filters, 1, strides=2)(residual)\n",
        "    elif filters != residual.shape[-1]:\n",
        "        residual = layers.Conv2D(filters, 1)(residual)\n",
        "    x = layers.add([x, residual])\n",
        "    return x\n",
        "\n",
        "x = residual_block(x, filters=32, pooling=True)\n",
        "x = residual_block(x, filters=64, pooling=True)\n",
        "x = residual_block(x, filters=128, pooling=False)\n",
        "\n",
        "x = layers.GlobalAveragePooling2D()(x)\n",
        "outputs = layers.Dense(1, activation=\"sigmoid\")(x)\n",
        "model = keras.Model(inputs=inputs, outputs=outputs)\n",
        "model.summary()"
      ]
    },
    {
      "cell_type": "markdown",
      "metadata": {
        "id": "DVjKAR36B3tg"
      },
      "source": [
        "### Batch normalization"
      ]
    },
    {
      "cell_type": "markdown",
      "metadata": {
        "id": "mZJaT6p-B3tg"
      },
      "source": [
        "### Depthwise separable convolutions"
      ]
    },
    {
      "cell_type": "markdown",
      "metadata": {
        "id": "Ti8-kTABB3tg"
      },
      "source": [
        "### Putting it together: A mini Xception-like model"
      ]
    },
    {
      "cell_type": "code",
      "execution_count": 6,
      "metadata": {
        "colab": {
          "base_uri": "https://localhost:8080/",
          "height": 91
        },
        "id": "mSTE24eOB3tg",
        "outputId": "ae78ab36-63be-41be-9dac-b3ec2a5bec1d"
      },
      "outputs": [
        {
          "output_type": "display_data",
          "data": {
            "text/plain": [
              "<IPython.core.display.HTML object>"
            ],
            "text/html": [
              "\n",
              "     <input type=\"file\" id=\"files-f0ad48c1-615a-400b-a0cd-6994924dc2c7\" name=\"files[]\" multiple disabled\n",
              "        style=\"border:none\" />\n",
              "     <output id=\"result-f0ad48c1-615a-400b-a0cd-6994924dc2c7\">\n",
              "      Upload widget is only available when the cell has been executed in the\n",
              "      current browser session. Please rerun this cell to enable.\n",
              "      </output>\n",
              "      <script>// Copyright 2017 Google LLC\n",
              "//\n",
              "// Licensed under the Apache License, Version 2.0 (the \"License\");\n",
              "// you may not use this file except in compliance with the License.\n",
              "// You may obtain a copy of the License at\n",
              "//\n",
              "//      http://www.apache.org/licenses/LICENSE-2.0\n",
              "//\n",
              "// Unless required by applicable law or agreed to in writing, software\n",
              "// distributed under the License is distributed on an \"AS IS\" BASIS,\n",
              "// WITHOUT WARRANTIES OR CONDITIONS OF ANY KIND, either express or implied.\n",
              "// See the License for the specific language governing permissions and\n",
              "// limitations under the License.\n",
              "\n",
              "/**\n",
              " * @fileoverview Helpers for google.colab Python module.\n",
              " */\n",
              "(function(scope) {\n",
              "function span(text, styleAttributes = {}) {\n",
              "  const element = document.createElement('span');\n",
              "  element.textContent = text;\n",
              "  for (const key of Object.keys(styleAttributes)) {\n",
              "    element.style[key] = styleAttributes[key];\n",
              "  }\n",
              "  return element;\n",
              "}\n",
              "\n",
              "// Max number of bytes which will be uploaded at a time.\n",
              "const MAX_PAYLOAD_SIZE = 100 * 1024;\n",
              "\n",
              "function _uploadFiles(inputId, outputId) {\n",
              "  const steps = uploadFilesStep(inputId, outputId);\n",
              "  const outputElement = document.getElementById(outputId);\n",
              "  // Cache steps on the outputElement to make it available for the next call\n",
              "  // to uploadFilesContinue from Python.\n",
              "  outputElement.steps = steps;\n",
              "\n",
              "  return _uploadFilesContinue(outputId);\n",
              "}\n",
              "\n",
              "// This is roughly an async generator (not supported in the browser yet),\n",
              "// where there are multiple asynchronous steps and the Python side is going\n",
              "// to poll for completion of each step.\n",
              "// This uses a Promise to block the python side on completion of each step,\n",
              "// then passes the result of the previous step as the input to the next step.\n",
              "function _uploadFilesContinue(outputId) {\n",
              "  const outputElement = document.getElementById(outputId);\n",
              "  const steps = outputElement.steps;\n",
              "\n",
              "  const next = steps.next(outputElement.lastPromiseValue);\n",
              "  return Promise.resolve(next.value.promise).then((value) => {\n",
              "    // Cache the last promise value to make it available to the next\n",
              "    // step of the generator.\n",
              "    outputElement.lastPromiseValue = value;\n",
              "    return next.value.response;\n",
              "  });\n",
              "}\n",
              "\n",
              "/**\n",
              " * Generator function which is called between each async step of the upload\n",
              " * process.\n",
              " * @param {string} inputId Element ID of the input file picker element.\n",
              " * @param {string} outputId Element ID of the output display.\n",
              " * @return {!Iterable<!Object>} Iterable of next steps.\n",
              " */\n",
              "function* uploadFilesStep(inputId, outputId) {\n",
              "  const inputElement = document.getElementById(inputId);\n",
              "  inputElement.disabled = false;\n",
              "\n",
              "  const outputElement = document.getElementById(outputId);\n",
              "  outputElement.innerHTML = '';\n",
              "\n",
              "  const pickedPromise = new Promise((resolve) => {\n",
              "    inputElement.addEventListener('change', (e) => {\n",
              "      resolve(e.target.files);\n",
              "    });\n",
              "  });\n",
              "\n",
              "  const cancel = document.createElement('button');\n",
              "  inputElement.parentElement.appendChild(cancel);\n",
              "  cancel.textContent = 'Cancel upload';\n",
              "  const cancelPromise = new Promise((resolve) => {\n",
              "    cancel.onclick = () => {\n",
              "      resolve(null);\n",
              "    };\n",
              "  });\n",
              "\n",
              "  // Wait for the user to pick the files.\n",
              "  const files = yield {\n",
              "    promise: Promise.race([pickedPromise, cancelPromise]),\n",
              "    response: {\n",
              "      action: 'starting',\n",
              "    }\n",
              "  };\n",
              "\n",
              "  cancel.remove();\n",
              "\n",
              "  // Disable the input element since further picks are not allowed.\n",
              "  inputElement.disabled = true;\n",
              "\n",
              "  if (!files) {\n",
              "    return {\n",
              "      response: {\n",
              "        action: 'complete',\n",
              "      }\n",
              "    };\n",
              "  }\n",
              "\n",
              "  for (const file of files) {\n",
              "    const li = document.createElement('li');\n",
              "    li.append(span(file.name, {fontWeight: 'bold'}));\n",
              "    li.append(span(\n",
              "        `(${file.type || 'n/a'}) - ${file.size} bytes, ` +\n",
              "        `last modified: ${\n",
              "            file.lastModifiedDate ? file.lastModifiedDate.toLocaleDateString() :\n",
              "                                    'n/a'} - `));\n",
              "    const percent = span('0% done');\n",
              "    li.appendChild(percent);\n",
              "\n",
              "    outputElement.appendChild(li);\n",
              "\n",
              "    const fileDataPromise = new Promise((resolve) => {\n",
              "      const reader = new FileReader();\n",
              "      reader.onload = (e) => {\n",
              "        resolve(e.target.result);\n",
              "      };\n",
              "      reader.readAsArrayBuffer(file);\n",
              "    });\n",
              "    // Wait for the data to be ready.\n",
              "    let fileData = yield {\n",
              "      promise: fileDataPromise,\n",
              "      response: {\n",
              "        action: 'continue',\n",
              "      }\n",
              "    };\n",
              "\n",
              "    // Use a chunked sending to avoid message size limits. See b/62115660.\n",
              "    let position = 0;\n",
              "    do {\n",
              "      const length = Math.min(fileData.byteLength - position, MAX_PAYLOAD_SIZE);\n",
              "      const chunk = new Uint8Array(fileData, position, length);\n",
              "      position += length;\n",
              "\n",
              "      const base64 = btoa(String.fromCharCode.apply(null, chunk));\n",
              "      yield {\n",
              "        response: {\n",
              "          action: 'append',\n",
              "          file: file.name,\n",
              "          data: base64,\n",
              "        },\n",
              "      };\n",
              "\n",
              "      let percentDone = fileData.byteLength === 0 ?\n",
              "          100 :\n",
              "          Math.round((position / fileData.byteLength) * 100);\n",
              "      percent.textContent = `${percentDone}% done`;\n",
              "\n",
              "    } while (position < fileData.byteLength);\n",
              "  }\n",
              "\n",
              "  // All done.\n",
              "  yield {\n",
              "    response: {\n",
              "      action: 'complete',\n",
              "    }\n",
              "  };\n",
              "}\n",
              "\n",
              "scope.google = scope.google || {};\n",
              "scope.google.colab = scope.google.colab || {};\n",
              "scope.google.colab._files = {\n",
              "  _uploadFiles,\n",
              "  _uploadFilesContinue,\n",
              "};\n",
              "})(self);\n",
              "</script> "
            ]
          },
          "metadata": {}
        },
        {
          "output_type": "stream",
          "name": "stdout",
          "text": [
            "Saving kaggle.json to kaggle.json\n"
          ]
        },
        {
          "output_type": "execute_result",
          "data": {
            "text/plain": [
              "{'kaggle.json': b'{\"username\":\"manaswinipurumandla\",\"key\":\"06efc8858e05861c43f63750a4bbda57\"}'}"
            ]
          },
          "metadata": {},
          "execution_count": 6
        }
      ],
      "source": [
        "from google.colab import files\n",
        "files.upload()"
      ]
    },
    {
      "cell_type": "code",
      "source": [
        "!mkdir ~/.kaggle\n",
        "!cp kaggle.json ~/.kaggle/\n",
        "!chmod 600 ~/.kaggle/kaggle.json"
      ],
      "metadata": {
        "id": "5ppspgaSCG5B"
      },
      "execution_count": 7,
      "outputs": []
    },
    {
      "cell_type": "code",
      "source": [
        "!kaggle competitions download -c dogs-vs-cats"
      ],
      "metadata": {
        "colab": {
          "base_uri": "https://localhost:8080/"
        },
        "id": "HW3QmHbnCKvc",
        "outputId": "25543131-1e7e-456b-f18b-536344144b07"
      },
      "execution_count": 8,
      "outputs": [
        {
          "output_type": "stream",
          "name": "stdout",
          "text": [
            "Downloading dogs-vs-cats.zip to /content\n",
            " 97% 791M/812M [00:03<00:00, 304MB/s]\n",
            "100% 812M/812M [00:03<00:00, 235MB/s]\n"
          ]
        }
      ]
    },
    {
      "cell_type": "code",
      "source": [
        "!unzip -qq dogs-vs-cats.zip\n",
        "!unzip -qq test1.zip\n",
        "!unzip -qq train.zip"
      ],
      "metadata": {
        "id": "t4oh7xsoCRGv"
      },
      "execution_count": 9,
      "outputs": []
    },
    {
      "cell_type": "markdown",
      "source": [
        "# **Question 1**\n",
        "\n",
        "\n",
        "Consider the Cats & Dogs example. Start initially with a training sample of 1000, a validation \n",
        "sample of 500, and a test sample of 500 (like in the text). Use any technique to reduce \n",
        "overfitting and improve performance in developing a network that you train from scratch. What \n",
        "performance did you achieve? "
      ],
      "metadata": {
        "id": "1fmvFvwRCXBZ"
      }
    },
    {
      "cell_type": "code",
      "source": [
        "import os, shutil, pathlib\n",
        "\n",
        "original_dir = pathlib.Path(\"train\")\n",
        "new_base_dir = pathlib.Path(\"cats_vs_dogs_small\")\n",
        "\n",
        "def make_subset(subset_name, start_index, end_index):\n",
        "    for category in (\"cat\", \"dog\"):\n",
        "        dir = new_base_dir / subset_name / category\n",
        "        os.makedirs(dir)\n",
        "        fnames = [f\"{category}.{i}.jpg\" for i in range(start_index, end_index)]\n",
        "        for fname in fnames:\n",
        "            shutil.copyfile(src=original_dir / fname,\n",
        "                            dst=dir / fname)\n",
        "#Initially taking 1000 samples for training set\n",
        "make_subset(\"train\", start_index=0, end_index=1000)\n",
        "#500 samples for validation set\n",
        "make_subset(\"validation\", start_index=1000, end_index=1500)\n",
        "#500 for test set\n",
        "make_subset(\"test\", start_index=1500, end_index=2000)"
      ],
      "metadata": {
        "id": "_sp1o_AKCYnr"
      },
      "execution_count": 10,
      "outputs": []
    },
    {
      "cell_type": "code",
      "source": [
        "from tensorflow.keras.utils import image_dataset_from_directory\n",
        "\n",
        "train_dataset = image_dataset_from_directory(\n",
        "    new_base_dir / \"train\",\n",
        "    image_size=(180, 180),\n",
        "    batch_size=32)\n",
        "validation_dataset = image_dataset_from_directory(\n",
        "    new_base_dir / \"validation\",\n",
        "    image_size=(180, 180),\n",
        "    batch_size=32)\n",
        "test_dataset = image_dataset_from_directory(\n",
        "    new_base_dir / \"test\",\n",
        "    image_size=(180, 180),\n",
        "    batch_size=32)"
      ],
      "metadata": {
        "colab": {
          "base_uri": "https://localhost:8080/"
        },
        "id": "v2ppm_TXCd8M",
        "outputId": "3a84e15c-b5ad-4f45-cb80-c9d6e1423f71"
      },
      "execution_count": 11,
      "outputs": [
        {
          "output_type": "stream",
          "name": "stdout",
          "text": [
            "Found 2000 files belonging to 2 classes.\n",
            "Found 1000 files belonging to 2 classes.\n",
            "Found 1000 files belonging to 2 classes.\n"
          ]
        }
      ]
    },
    {
      "cell_type": "code",
      "source": [
        "import numpy as np\n",
        "import tensorflow as tf\n",
        "random_numbers = np.random.normal(size=(1000, 16))\n",
        "dataset = tf.data.Dataset.from_tensor_slices(random_numbers)"
      ],
      "metadata": {
        "id": "XD_OtNX3Cgl6"
      },
      "execution_count": 12,
      "outputs": []
    },
    {
      "cell_type": "code",
      "source": [
        "for i, element in enumerate(dataset):\n",
        "    print(element.shape)\n",
        "    if i >= 2:\n",
        "        break"
      ],
      "metadata": {
        "colab": {
          "base_uri": "https://localhost:8080/"
        },
        "id": "B0WVAp7LCi1i",
        "outputId": "b6a34cdf-3fa5-4c36-95bb-d49b99c64779"
      },
      "execution_count": 13,
      "outputs": [
        {
          "output_type": "stream",
          "name": "stdout",
          "text": [
            "(16,)\n",
            "(16,)\n",
            "(16,)\n"
          ]
        }
      ]
    },
    {
      "cell_type": "code",
      "source": [
        "batched_dataset = dataset.batch(32)\n",
        "for i, element in enumerate(batched_dataset):\n",
        "    print(element.shape)\n",
        "    if i >= 2:\n",
        "        break"
      ],
      "metadata": {
        "colab": {
          "base_uri": "https://localhost:8080/"
        },
        "id": "-nJDLgBNClft",
        "outputId": "abb7678c-b580-4701-c3ea-62dc6abaa897"
      },
      "execution_count": 14,
      "outputs": [
        {
          "output_type": "stream",
          "name": "stdout",
          "text": [
            "(32, 16)\n",
            "(32, 16)\n",
            "(32, 16)\n"
          ]
        }
      ]
    },
    {
      "cell_type": "code",
      "source": [
        "reshaped_dataset = dataset.map(lambda x: tf.reshape(x, (4, 4)))\n",
        "for i, element in enumerate(reshaped_dataset):\n",
        "    print(element.shape)\n",
        "    if i >= 2:\n",
        "        break"
      ],
      "metadata": {
        "colab": {
          "base_uri": "https://localhost:8080/"
        },
        "id": "l-Hoex8ICoLH",
        "outputId": "05e962fe-eae9-455f-9034-04c6b3d259c4"
      },
      "execution_count": 15,
      "outputs": [
        {
          "output_type": "stream",
          "name": "stdout",
          "text": [
            "(4, 4)\n",
            "(4, 4)\n",
            "(4, 4)\n"
          ]
        }
      ]
    },
    {
      "cell_type": "code",
      "source": [
        "for data_batch, labels_batch in train_dataset:\n",
        "    print(\"data batch shape:\", data_batch.shape)\n",
        "    print(\"labels batch shape:\", labels_batch.shape)\n",
        "    break"
      ],
      "metadata": {
        "colab": {
          "base_uri": "https://localhost:8080/"
        },
        "id": "lDPEk_iXCsVF",
        "outputId": "e8c838ec-53a6-4503-bd01-0a9d121acb50"
      },
      "execution_count": 16,
      "outputs": [
        {
          "output_type": "stream",
          "name": "stdout",
          "text": [
            "data batch shape: (32, 180, 180, 3)\n",
            "labels batch shape: (32,)\n"
          ]
        }
      ]
    },
    {
      "cell_type": "code",
      "source": [
        "from tensorflow import keras\n",
        "from tensorflow.keras import layers\n",
        "\n",
        "inputs = keras.Input(shape=(180, 180, 3))\n",
        "x = layers.Rescaling(1./255)(inputs)\n",
        "x = layers.Conv2D(filters=32, kernel_size=3, activation=\"relu\")(x)\n",
        "x = layers.MaxPooling2D(pool_size=2)(x)\n",
        "x = layers.Conv2D(filters=64, kernel_size=3, activation=\"relu\")(x)\n",
        "x = layers.MaxPooling2D(pool_size=2)(x)\n",
        "x = layers.Conv2D(filters=128, kernel_size=3, activation=\"relu\")(x)\n",
        "x = layers.MaxPooling2D(pool_size=2)(x)\n",
        "x = layers.Conv2D(filters=256, kernel_size=3, activation=\"relu\")(x)\n",
        "x = layers.MaxPooling2D(pool_size=2)(x)\n",
        "x = layers.Conv2D(filters=256, kernel_size=3, activation=\"relu\")(x)\n",
        "x = layers.Flatten()(x)\n",
        "x = layers.Dropout(0.5)(x)\n",
        "outputs = layers.Dense(1, activation=\"sigmoid\")(x)\n",
        "model = keras.Model(inputs=inputs, outputs=outputs)"
      ],
      "metadata": {
        "id": "YDcXK-LdCviz"
      },
      "execution_count": 17,
      "outputs": []
    },
    {
      "cell_type": "code",
      "source": [
        "model.compile(loss=\"binary_crossentropy\",\n",
        "              optimizer=\"rmsprop\",\n",
        "              metrics=[\"accuracy\"])"
      ],
      "metadata": {
        "id": "CIvjb-HBCyNv"
      },
      "execution_count": 18,
      "outputs": []
    },
    {
      "cell_type": "code",
      "source": [
        "model.summary()"
      ],
      "metadata": {
        "colab": {
          "base_uri": "https://localhost:8080/"
        },
        "id": "f4iB2xe7C0es",
        "outputId": "840a35eb-dd00-460e-8829-b38559d12b2e"
      },
      "execution_count": 17,
      "outputs": [
        {
          "output_type": "stream",
          "name": "stdout",
          "text": [
            "Model: \"model_1\"\n",
            "_________________________________________________________________\n",
            " Layer (type)                Output Shape              Param #   \n",
            "=================================================================\n",
            " input_4 (InputLayer)        [(None, 180, 180, 3)]     0         \n",
            "                                                                 \n",
            " rescaling_1 (Rescaling)     (None, 180, 180, 3)       0         \n",
            "                                                                 \n",
            " conv2d_15 (Conv2D)          (None, 178, 178, 32)      896       \n",
            "                                                                 \n",
            " max_pooling2d_3 (MaxPooling  (None, 89, 89, 32)       0         \n",
            " 2D)                                                             \n",
            "                                                                 \n",
            " conv2d_16 (Conv2D)          (None, 87, 87, 64)        18496     \n",
            "                                                                 \n",
            " max_pooling2d_4 (MaxPooling  (None, 43, 43, 64)       0         \n",
            " 2D)                                                             \n",
            "                                                                 \n",
            " conv2d_17 (Conv2D)          (None, 41, 41, 128)       73856     \n",
            "                                                                 \n",
            " max_pooling2d_5 (MaxPooling  (None, 20, 20, 128)      0         \n",
            " 2D)                                                             \n",
            "                                                                 \n",
            " conv2d_18 (Conv2D)          (None, 18, 18, 256)       295168    \n",
            "                                                                 \n",
            " max_pooling2d_6 (MaxPooling  (None, 9, 9, 256)        0         \n",
            " 2D)                                                             \n",
            "                                                                 \n",
            " conv2d_19 (Conv2D)          (None, 7, 7, 256)         590080    \n",
            "                                                                 \n",
            " flatten (Flatten)           (None, 12544)             0         \n",
            "                                                                 \n",
            " dropout (Dropout)           (None, 12544)             0         \n",
            "                                                                 \n",
            " dense_1 (Dense)             (None, 1)                 12545     \n",
            "                                                                 \n",
            "=================================================================\n",
            "Total params: 991,041\n",
            "Trainable params: 991,041\n",
            "Non-trainable params: 0\n",
            "_________________________________________________________________\n"
          ]
        }
      ]
    },
    {
      "cell_type": "code",
      "source": [
        "callbacks = [\n",
        "    keras.callbacks.ModelCheckpoint(\n",
        "        filepath=\"convnet_from_scratch.keras\",\n",
        "        save_best_only=True,\n",
        "        monitor=\"val_loss\")\n",
        "]\n",
        "history = model.fit(\n",
        "    train_dataset,\n",
        "    epochs=30,\n",
        "    validation_data=validation_dataset,\n",
        "    callbacks=callbacks)"
      ],
      "metadata": {
        "colab": {
          "base_uri": "https://localhost:8080/"
        },
        "id": "kqEpCt_qC3rZ",
        "outputId": "a1386e9a-7c4d-41fb-b866-f43c85d3a64b"
      },
      "execution_count": 19,
      "outputs": [
        {
          "output_type": "stream",
          "name": "stdout",
          "text": [
            "Epoch 1/30\n",
            "63/63 [==============================] - 15s 86ms/step - loss: 0.7632 - accuracy: 0.5085 - val_loss: 0.6920 - val_accuracy: 0.6210\n",
            "Epoch 2/30\n",
            "63/63 [==============================] - 5s 74ms/step - loss: 0.7026 - accuracy: 0.5035 - val_loss: 0.6914 - val_accuracy: 0.5000\n",
            "Epoch 3/30\n",
            "63/63 [==============================] - 5s 74ms/step - loss: 0.6993 - accuracy: 0.5410 - val_loss: 0.6849 - val_accuracy: 0.5650\n",
            "Epoch 4/30\n",
            "63/63 [==============================] - 5s 74ms/step - loss: 0.6812 - accuracy: 0.6050 - val_loss: 0.6269 - val_accuracy: 0.6580\n",
            "Epoch 5/30\n",
            "63/63 [==============================] - 5s 74ms/step - loss: 0.6368 - accuracy: 0.6510 - val_loss: 0.6311 - val_accuracy: 0.6360\n",
            "Epoch 6/30\n",
            "63/63 [==============================] - 5s 75ms/step - loss: 0.6163 - accuracy: 0.6785 - val_loss: 0.6009 - val_accuracy: 0.6680\n",
            "Epoch 7/30\n",
            "63/63 [==============================] - 5s 73ms/step - loss: 0.5686 - accuracy: 0.7055 - val_loss: 0.6539 - val_accuracy: 0.6400\n",
            "Epoch 8/30\n",
            "63/63 [==============================] - 5s 73ms/step - loss: 0.5503 - accuracy: 0.7180 - val_loss: 0.5774 - val_accuracy: 0.6960\n",
            "Epoch 9/30\n",
            "63/63 [==============================] - 5s 74ms/step - loss: 0.4974 - accuracy: 0.7475 - val_loss: 0.5907 - val_accuracy: 0.7140\n",
            "Epoch 10/30\n",
            "63/63 [==============================] - 5s 73ms/step - loss: 0.4530 - accuracy: 0.7875 - val_loss: 0.8797 - val_accuracy: 0.6430\n",
            "Epoch 11/30\n",
            "63/63 [==============================] - 5s 73ms/step - loss: 0.4124 - accuracy: 0.8190 - val_loss: 0.6130 - val_accuracy: 0.7000\n",
            "Epoch 12/30\n",
            "63/63 [==============================] - 5s 81ms/step - loss: 0.3771 - accuracy: 0.8285 - val_loss: 0.6345 - val_accuracy: 0.7100\n",
            "Epoch 13/30\n",
            "63/63 [==============================] - 5s 78ms/step - loss: 0.3403 - accuracy: 0.8510 - val_loss: 0.7921 - val_accuracy: 0.7070\n",
            "Epoch 14/30\n",
            "63/63 [==============================] - 5s 78ms/step - loss: 0.3049 - accuracy: 0.8645 - val_loss: 0.6434 - val_accuracy: 0.7180\n",
            "Epoch 15/30\n",
            "63/63 [==============================] - 5s 77ms/step - loss: 0.2403 - accuracy: 0.9045 - val_loss: 0.7454 - val_accuracy: 0.7370\n",
            "Epoch 16/30\n",
            "63/63 [==============================] - 5s 78ms/step - loss: 0.2268 - accuracy: 0.9065 - val_loss: 0.7795 - val_accuracy: 0.7460\n",
            "Epoch 17/30\n",
            "63/63 [==============================] - 5s 79ms/step - loss: 0.2000 - accuracy: 0.9270 - val_loss: 0.8363 - val_accuracy: 0.7330\n",
            "Epoch 18/30\n",
            "63/63 [==============================] - 5s 78ms/step - loss: 0.1701 - accuracy: 0.9345 - val_loss: 0.9330 - val_accuracy: 0.7190\n",
            "Epoch 19/30\n",
            "63/63 [==============================] - 5s 79ms/step - loss: 0.1438 - accuracy: 0.9435 - val_loss: 0.9786 - val_accuracy: 0.7530\n",
            "Epoch 20/30\n",
            "63/63 [==============================] - 6s 92ms/step - loss: 0.1325 - accuracy: 0.9445 - val_loss: 1.0643 - val_accuracy: 0.7270\n",
            "Epoch 21/30\n",
            "63/63 [==============================] - 5s 82ms/step - loss: 0.1139 - accuracy: 0.9605 - val_loss: 1.4702 - val_accuracy: 0.7200\n",
            "Epoch 22/30\n",
            "63/63 [==============================] - 5s 81ms/step - loss: 0.1062 - accuracy: 0.9590 - val_loss: 1.0580 - val_accuracy: 0.7330\n",
            "Epoch 23/30\n",
            "63/63 [==============================] - 5s 81ms/step - loss: 0.0891 - accuracy: 0.9680 - val_loss: 1.0884 - val_accuracy: 0.7480\n",
            "Epoch 24/30\n",
            "63/63 [==============================] - 5s 82ms/step - loss: 0.0724 - accuracy: 0.9725 - val_loss: 1.1393 - val_accuracy: 0.7470\n",
            "Epoch 25/30\n",
            "63/63 [==============================] - 5s 82ms/step - loss: 0.1010 - accuracy: 0.9635 - val_loss: 1.2423 - val_accuracy: 0.7270\n",
            "Epoch 26/30\n",
            "63/63 [==============================] - 5s 81ms/step - loss: 0.0636 - accuracy: 0.9770 - val_loss: 1.7361 - val_accuracy: 0.7140\n",
            "Epoch 27/30\n",
            "63/63 [==============================] - 6s 82ms/step - loss: 0.0721 - accuracy: 0.9715 - val_loss: 1.6089 - val_accuracy: 0.7220\n",
            "Epoch 28/30\n",
            "63/63 [==============================] - 5s 82ms/step - loss: 0.0842 - accuracy: 0.9735 - val_loss: 1.3566 - val_accuracy: 0.7280\n",
            "Epoch 29/30\n",
            "63/63 [==============================] - 5s 82ms/step - loss: 0.0668 - accuracy: 0.9755 - val_loss: 1.3431 - val_accuracy: 0.7500\n",
            "Epoch 30/30\n",
            "63/63 [==============================] - 5s 81ms/step - loss: 0.0677 - accuracy: 0.9770 - val_loss: 1.5491 - val_accuracy: 0.7300\n"
          ]
        }
      ]
    },
    {
      "cell_type": "code",
      "source": [
        "import matplotlib.pyplot as plt\n",
        "plt.figure(figsize=(10,10))\n",
        "accuracy = history.history[\"accuracy\"]\n",
        "val_accuracy = history.history[\"val_accuracy\"]\n",
        "loss = history.history[\"loss\"]\n",
        "val_loss = history.history[\"val_loss\"]\n",
        "epochs = range(1, len(accuracy) + 1)\n",
        "plt.plot(epochs, accuracy, \"bo\", label=\"Accuracy of Training\")\n",
        "plt.plot(epochs, val_accuracy, \"b\", label=\"Accuracy of Validation\")\n",
        "plt.title(\"validation  and training accuracy\")\n",
        "plt.legend()\n",
        "plt.figure()\n",
        "plt.figure(figsize=(10,10))\n",
        "plt.plot(epochs, loss, \"bo\", label=\" loss of Training\")\n",
        "plt.plot(epochs, val_loss, \"b\", label=\"loss of validation\")\n",
        "plt.title(\"Training and validation loss\")\n",
        "plt.legend()\n",
        "plt.show()"
      ],
      "metadata": {
        "colab": {
          "base_uri": "https://localhost:8080/",
          "height": 1000
        },
        "id": "7eEFPx28IWXV",
        "outputId": "a1fcc1cc-8aa9-4f62-ca31-940ee3370824"
      },
      "execution_count": 21,
      "outputs": [
        {
          "output_type": "display_data",
          "data": {
            "text/plain": [
              "<Figure size 720x720 with 1 Axes>"
            ],
            "image/png": "[encoded data removed]"
          },
          "metadata": {
            "needs_background": "light"
          }
        },
        {
          "output_type": "display_data",
          "data": {
            "text/plain": [
              "<Figure size 432x288 with 0 Axes>"
            ]
          },
          "metadata": {}
        },
        {
          "output_type": "display_data",
          "data": {
            "text/plain": [
              "<Figure size 720x720 with 1 Axes>"
            ],
            "image/png": "[encoded data removed]"
          },
          "metadata": {
            "needs_background": "light"
          }
        }
      ]
    },
    {
      "cell_type": "code",
      "source": [
        "test_model = keras.models.load_model(\"convnet_from_scratch.keras\")\n",
        "test_loss, test_acc = test_model.evaluate(test_dataset)\n",
        "print(f\"Test accuracy: {test_acc:.3f}\")"
      ],
      "metadata": {
        "colab": {
          "base_uri": "https://localhost:8080/"
        },
        "id": "hV-9G1EHIlJ8",
        "outputId": "64e423a6-5638-4030-c17c-1f01e9f58cac"
      },
      "execution_count": 22,
      "outputs": [
        {
          "output_type": "stream",
          "name": "stdout",
          "text": [
            "32/32 [==============================] - 2s 37ms/step - loss: 0.6092 - accuracy: 0.6710\n",
            "Test accuracy: 0.671\n"
          ]
        }
      ]
    },
    {
      "cell_type": "markdown",
      "source": [
        "#**Question2 **\n",
        "\n",
        "Increase your training sample size. You may pick any amount. Keep the validation and test \n",
        "samples the same as above. Optimize your network (again training from scratch). What \n",
        "performance did you achieve?  "
      ],
      "metadata": {
        "id": "vWbWPlDcJGBF"
      }
    },
    {
      "cell_type": "code",
      "source": [
        "import os, shutil, pathlib\n",
        "\n",
        "shutil.rmtree(\"./cats_vs_dogs_small_Q2\", ignore_errors=True)\n",
        "\n",
        "original_dir = pathlib.Path(\"train\")\n",
        "new_base_dir = pathlib.Path(\"cats_vs_dogs_small_Q2\")\n",
        "\n",
        "def make_subset(subset_name, start_index, end_index):\n",
        "    for category in (\"cat\", \"dog\"):\n",
        "        dir = new_base_dir / subset_name / category\n",
        "        os.makedirs(dir)\n",
        "        fnames = [f\"{category}.{i}.jpg\" for i in range(start_index, end_index)]\n",
        "        for fname in fnames:\n",
        "            shutil.copyfile(src=original_dir / fname,\n",
        "                            dst=dir / fname)\n",
        "#Here I have increased training sample size to 1500 and keeping the validation and test sample size to 500 each as before\n",
        "make_subset(\"train\", start_index=0, end_index=1500)\n",
        "make_subset(\"validation\", start_index=1500, end_index=2000)\n",
        "make_subset(\"test\", start_index=2000, end_index=2500)"
      ],
      "metadata": {
        "id": "g4pcfO1rJHRf"
      },
      "execution_count": 23,
      "outputs": []
    },
    {
      "cell_type": "code",
      "source": [
        "data_augmentation = keras.Sequential(\n",
        "    [\n",
        "        layers.RandomFlip(\"horizontal\"),\n",
        "        layers.RandomRotation(0.1),\n",
        "        layers.RandomZoom(0.2),\n",
        "    ]\n",
        ")"
      ],
      "metadata": {
        "id": "zHdtCCRTJMmr"
      },
      "execution_count": 24,
      "outputs": []
    },
    {
      "cell_type": "code",
      "source": [
        "plt.figure(figsize=(10, 10))\n",
        "for images, _ in train_dataset.take(1):\n",
        "    for i in range(9):\n",
        "        augmented_images = data_augmentation(images)\n",
        "        ax = plt.subplot(3, 3, i + 1)\n",
        "        plt.imshow(augmented_images[0].numpy().astype(\"uint8\"))\n",
        "        plt.axis(\"off\")"
      ],
      "metadata": {
        "colab": {
          "base_uri": "https://localhost:8080/",
          "height": 575
        },
        "id": "p0r-7pINJPMD",
        "outputId": "8c39b324-9e6b-4169-df7b-d222a4b2078d"
      },
      "execution_count": 25,
      "outputs": [
        {
          "output_type": "display_data",
          "data": {
            "text/plain": [
              "<Figure size 720x720 with 9 Axes>"
            ],
            "image/png": "[encoded data removed]"
          },
          "metadata": {
            "needs_background": "light"
          }
        }
      ]
    },
    {
      "cell_type": "code",
      "source": [
        "inputs = keras.Input(shape=(180, 180, 3))\n",
        "x = data_augmentation(inputs)\n",
        "x = layers.Rescaling(1./255)(x)\n",
        "x = layers.Conv2D(filters=32, kernel_size=3, activation=\"relu\")(x)\n",
        "x = layers.MaxPooling2D(pool_size=2)(x)\n",
        "x = layers.Conv2D(filters=64, kernel_size=3, activation=\"relu\")(x)\n",
        "x = layers.MaxPooling2D(pool_size=2)(x)\n",
        "x = layers.Conv2D(filters=128, kernel_size=3, activation=\"relu\")(x)\n",
        "x = layers.MaxPooling2D(pool_size=2)(x)\n",
        "x = layers.Conv2D(filters=256, kernel_size=3, activation=\"relu\")(x)\n",
        "x = layers.MaxPooling2D(pool_size=2)(x)\n",
        "x = layers.Conv2D(filters=256, kernel_size=3, activation=\"relu\")(x)\n",
        "x = layers.Flatten()(x)\n",
        "x = layers.Dropout(0.5)(x)\n",
        "outputs = layers.Dense(1, activation=\"sigmoid\")(x)\n",
        "model = keras.Model(inputs=inputs, outputs=outputs)\n",
        "\n",
        "model.compile(loss=\"binary_crossentropy\",\n",
        "              optimizer=\"rmsprop\",\n",
        "              metrics=[\"accuracy\"])"
      ],
      "metadata": {
        "id": "bDBZgLNLJVCY"
      },
      "execution_count": 26,
      "outputs": []
    },
    {
      "cell_type": "code",
      "source": [
        "callbacks = [\n",
        "    keras.callbacks.ModelCheckpoint(\n",
        "        filepath=\"convnet_from_scratch_with_augmentation.keras\",\n",
        "        save_best_only=True,\n",
        "        monitor=\"val_loss\")\n",
        "]\n",
        "history = model.fit(\n",
        "    train_dataset,\n",
        "    epochs=50,\n",
        "    validation_data=validation_dataset,\n",
        "    callbacks=callbacks)"
      ],
      "metadata": {
        "colab": {
          "base_uri": "https://localhost:8080/"
        },
        "id": "GsEPF-SfJYKc",
        "outputId": "46db8e42-6f2f-4ed3-cca0-ab0f26c77bad"
      },
      "execution_count": 27,
      "outputs": [
        {
          "output_type": "stream",
          "name": "stdout",
          "text": [
            "Epoch 1/50\n",
            "63/63 [==============================] - 8s 101ms/step - loss: 0.7218 - accuracy: 0.5095 - val_loss: 0.6916 - val_accuracy: 0.5010\n",
            "Epoch 2/50\n",
            "63/63 [==============================] - 6s 99ms/step - loss: 0.7148 - accuracy: 0.5250 - val_loss: 0.6832 - val_accuracy: 0.5780\n",
            "Epoch 3/50\n",
            "63/63 [==============================] - 7s 102ms/step - loss: 0.6908 - accuracy: 0.5795 - val_loss: 0.6903 - val_accuracy: 0.5520\n",
            "Epoch 4/50\n",
            "63/63 [==============================] - 7s 101ms/step - loss: 0.7057 - accuracy: 0.5800 - val_loss: 0.6583 - val_accuracy: 0.6320\n",
            "Epoch 5/50\n",
            "63/63 [==============================] - 8s 120ms/step - loss: 0.6568 - accuracy: 0.6295 - val_loss: 0.6488 - val_accuracy: 0.6020\n",
            "Epoch 6/50\n",
            "63/63 [==============================] - 7s 107ms/step - loss: 0.6455 - accuracy: 0.6500 - val_loss: 0.6123 - val_accuracy: 0.6650\n",
            "Epoch 7/50\n",
            "63/63 [==============================] - 7s 104ms/step - loss: 0.6186 - accuracy: 0.6795 - val_loss: 0.5981 - val_accuracy: 0.6800\n",
            "Epoch 8/50\n",
            "63/63 [==============================] - 7s 104ms/step - loss: 0.6079 - accuracy: 0.6765 - val_loss: 0.5592 - val_accuracy: 0.7110\n",
            "Epoch 9/50\n",
            "63/63 [==============================] - 7s 100ms/step - loss: 0.6012 - accuracy: 0.7095 - val_loss: 0.5931 - val_accuracy: 0.6500\n",
            "Epoch 10/50\n",
            "63/63 [==============================] - 7s 106ms/step - loss: 0.5708 - accuracy: 0.7070 - val_loss: 0.5372 - val_accuracy: 0.7330\n",
            "Epoch 11/50\n",
            "63/63 [==============================] - 7s 103ms/step - loss: 0.5744 - accuracy: 0.7080 - val_loss: 0.6138 - val_accuracy: 0.6650\n",
            "Epoch 12/50\n",
            "63/63 [==============================] - 7s 100ms/step - loss: 0.5505 - accuracy: 0.7220 - val_loss: 0.5659 - val_accuracy: 0.7190\n",
            "Epoch 13/50\n",
            "63/63 [==============================] - 7s 103ms/step - loss: 0.5440 - accuracy: 0.7340 - val_loss: 0.5086 - val_accuracy: 0.7540\n",
            "Epoch 14/50\n",
            "63/63 [==============================] - 7s 103ms/step - loss: 0.5315 - accuracy: 0.7370 - val_loss: 0.5082 - val_accuracy: 0.7740\n",
            "Epoch 15/50\n",
            "63/63 [==============================] - 7s 105ms/step - loss: 0.5079 - accuracy: 0.7500 - val_loss: 0.4941 - val_accuracy: 0.7690\n",
            "Epoch 16/50\n",
            "63/63 [==============================] - 7s 103ms/step - loss: 0.5087 - accuracy: 0.7680 - val_loss: 0.5196 - val_accuracy: 0.7340\n",
            "Epoch 17/50\n",
            "63/63 [==============================] - 7s 108ms/step - loss: 0.4855 - accuracy: 0.7680 - val_loss: 0.4612 - val_accuracy: 0.7880\n",
            "Epoch 18/50\n",
            "63/63 [==============================] - 7s 109ms/step - loss: 0.4785 - accuracy: 0.7830 - val_loss: 0.4314 - val_accuracy: 0.7900\n",
            "Epoch 19/50\n",
            "63/63 [==============================] - 7s 104ms/step - loss: 0.4586 - accuracy: 0.7795 - val_loss: 0.5141 - val_accuracy: 0.7780\n",
            "Epoch 20/50\n",
            "63/63 [==============================] - 7s 106ms/step - loss: 0.4592 - accuracy: 0.7885 - val_loss: 0.5713 - val_accuracy: 0.7490\n",
            "Epoch 21/50\n",
            "63/63 [==============================] - 7s 104ms/step - loss: 0.4531 - accuracy: 0.7825 - val_loss: 0.5131 - val_accuracy: 0.7770\n",
            "Epoch 22/50\n",
            "63/63 [==============================] - 7s 105ms/step - loss: 0.4435 - accuracy: 0.8000 - val_loss: 0.5644 - val_accuracy: 0.7700\n",
            "Epoch 23/50\n",
            "63/63 [==============================] - 7s 107ms/step - loss: 0.4284 - accuracy: 0.8125 - val_loss: 0.4278 - val_accuracy: 0.8060\n",
            "Epoch 24/50\n",
            "63/63 [==============================] - 7s 106ms/step - loss: 0.4147 - accuracy: 0.8110 - val_loss: 0.4727 - val_accuracy: 0.7870\n",
            "Epoch 25/50\n",
            "63/63 [==============================] - 7s 107ms/step - loss: 0.4229 - accuracy: 0.8020 - val_loss: 0.4908 - val_accuracy: 0.7670\n",
            "Epoch 26/50\n",
            "63/63 [==============================] - 7s 106ms/step - loss: 0.4104 - accuracy: 0.8060 - val_loss: 0.5611 - val_accuracy: 0.7850\n",
            "Epoch 27/50\n",
            "63/63 [==============================] - 7s 106ms/step - loss: 0.3996 - accuracy: 0.8225 - val_loss: 0.4130 - val_accuracy: 0.8190\n",
            "Epoch 28/50\n",
            "63/63 [==============================] - 7s 104ms/step - loss: 0.3893 - accuracy: 0.8305 - val_loss: 0.4175 - val_accuracy: 0.8390\n",
            "Epoch 29/50\n",
            "63/63 [==============================] - 7s 102ms/step - loss: 0.3772 - accuracy: 0.8310 - val_loss: 0.5693 - val_accuracy: 0.7830\n",
            "Epoch 30/50\n",
            "63/63 [==============================] - 7s 101ms/step - loss: 0.3750 - accuracy: 0.8275 - val_loss: 0.4894 - val_accuracy: 0.8090\n",
            "Epoch 31/50\n",
            "63/63 [==============================] - 7s 104ms/step - loss: 0.3563 - accuracy: 0.8465 - val_loss: 0.5709 - val_accuracy: 0.7960\n",
            "Epoch 32/50\n",
            "63/63 [==============================] - 7s 107ms/step - loss: 0.3583 - accuracy: 0.8435 - val_loss: 0.5579 - val_accuracy: 0.7970\n",
            "Epoch 33/50\n",
            "63/63 [==============================] - 7s 107ms/step - loss: 0.3404 - accuracy: 0.8520 - val_loss: 0.5080 - val_accuracy: 0.8230\n",
            "Epoch 34/50\n",
            "63/63 [==============================] - 7s 104ms/step - loss: 0.3290 - accuracy: 0.8570 - val_loss: 0.4963 - val_accuracy: 0.8370\n",
            "Epoch 35/50\n",
            "63/63 [==============================] - 7s 104ms/step - loss: 0.3429 - accuracy: 0.8480 - val_loss: 0.6585 - val_accuracy: 0.7740\n",
            "Epoch 36/50\n",
            "63/63 [==============================] - 7s 105ms/step - loss: 0.3319 - accuracy: 0.8565 - val_loss: 0.5320 - val_accuracy: 0.8100\n",
            "Epoch 37/50\n",
            "63/63 [==============================] - 7s 108ms/step - loss: 0.3289 - accuracy: 0.8660 - val_loss: 0.4360 - val_accuracy: 0.8280\n",
            "Epoch 38/50\n",
            "63/63 [==============================] - 7s 106ms/step - loss: 0.3205 - accuracy: 0.8635 - val_loss: 0.5038 - val_accuracy: 0.7830\n",
            "Epoch 39/50\n",
            "63/63 [==============================] - 7s 103ms/step - loss: 0.3167 - accuracy: 0.8670 - val_loss: 0.8846 - val_accuracy: 0.7410\n",
            "Epoch 40/50\n",
            "63/63 [==============================] - 7s 103ms/step - loss: 0.3191 - accuracy: 0.8595 - val_loss: 0.3735 - val_accuracy: 0.8560\n",
            "Epoch 41/50\n",
            "63/63 [==============================] - 7s 104ms/step - loss: 0.2960 - accuracy: 0.8760 - val_loss: 0.4816 - val_accuracy: 0.8370\n",
            "Epoch 42/50\n",
            "63/63 [==============================] - 7s 103ms/step - loss: 0.3040 - accuracy: 0.8775 - val_loss: 0.4753 - val_accuracy: 0.8150\n",
            "Epoch 43/50\n",
            "63/63 [==============================] - 7s 102ms/step - loss: 0.2913 - accuracy: 0.8765 - val_loss: 0.4723 - val_accuracy: 0.8380\n",
            "Epoch 44/50\n",
            "63/63 [==============================] - 7s 103ms/step - loss: 0.3062 - accuracy: 0.8775 - val_loss: 0.4399 - val_accuracy: 0.8200\n",
            "Epoch 45/50\n",
            "63/63 [==============================] - 7s 103ms/step - loss: 0.2624 - accuracy: 0.8875 - val_loss: 0.4865 - val_accuracy: 0.8310\n",
            "Epoch 46/50\n",
            "63/63 [==============================] - 7s 104ms/step - loss: 0.2842 - accuracy: 0.8765 - val_loss: 0.4221 - val_accuracy: 0.8360\n",
            "Epoch 47/50\n",
            "63/63 [==============================] - 7s 103ms/step - loss: 0.2779 - accuracy: 0.8870 - val_loss: 0.5515 - val_accuracy: 0.8150\n",
            "Epoch 48/50\n",
            "63/63 [==============================] - 7s 103ms/step - loss: 0.2625 - accuracy: 0.8860 - val_loss: 0.5603 - val_accuracy: 0.8340\n",
            "Epoch 49/50\n",
            "63/63 [==============================] - 7s 108ms/step - loss: 0.2817 - accuracy: 0.8965 - val_loss: 0.4529 - val_accuracy: 0.8400\n",
            "Epoch 50/50\n",
            "63/63 [==============================] - 7s 108ms/step - loss: 0.2630 - accuracy: 0.8945 - val_loss: 0.6303 - val_accuracy: 0.8090\n"
          ]
        }
      ]
    },
    {
      "cell_type": "code",
      "source": [
        "test_model = keras.models.load_model(\n",
        "    \"convnet_from_scratch_with_augmentation.keras\")\n",
        "test_loss, test_acc = test_model.evaluate(test_dataset)\n",
        "print(f\"Test accuracy: {test_acc:.3f}\")"
      ],
      "metadata": {
        "colab": {
          "base_uri": "https://localhost:8080/"
        },
        "id": "VNErYN2FLEKp",
        "outputId": "0beb13f6-6a23-45f7-99d8-2a0761281496"
      },
      "execution_count": 28,
      "outputs": [
        {
          "output_type": "stream",
          "name": "stdout",
          "text": [
            "32/32 [==============================] - 2s 41ms/step - loss: 0.4964 - accuracy: 0.8350\n",
            "Test accuracy: 0.835\n"
          ]
        }
      ]
    },
    {
      "cell_type": "markdown",
      "source": [
        "#**Question3**\n",
        "\n",
        "Now change your training sample so that you achieve better performance than those from Steps \n",
        "1 and 2. This sample size may be larger, or smaller than those in the previous steps. The \n",
        "objective is to find the ideal training sample size to get best prediction results.  "
      ],
      "metadata": {
        "id": "gpf_APNJLFM4"
      }
    },
    {
      "cell_type": "code",
      "source": [
        "original_dir = pathlib.Path(\"train\")\n",
        "new_base_dir = pathlib.Path(\"cats_vs_dogs_small_Q3\")\n",
        "\n",
        "def make_subset(subset_name, start_index, end_index):\n",
        "    for category in (\"cat\", \"dog\"):\n",
        "        dir = new_base_dir / subset_name / category\n",
        "        os.makedirs(dir)\n",
        "        fnames = [f\"{category}.{i}.jpg\" for i in range(start_index, end_index)]\n",
        "        for fname in fnames:\n",
        "            shutil.copyfile(src=original_dir / fname,\n",
        "                            dst=dir / fname)\n",
        "#As increasing the sample size is always good than decreasing, here we're increasing the training the sample size to 2000\n",
        "make_subset(\"train\", start_index=0, end_index=2000)\n",
        "#validation and test sample size 500 each\n",
        "make_subset(\"validation\", start_index=2000, end_index=2500)\n",
        "make_subset(\"test\", start_index=2500, end_index=3000)"
      ],
      "metadata": {
        "id": "8AmX_nqsLHF1"
      },
      "execution_count": 29,
      "outputs": []
    },
    {
      "cell_type": "code",
      "source": [
        "inputs = keras.Input(shape=(180, 180, 3))\n",
        "x = data_augmentation(inputs)\n",
        "x = layers.Rescaling(1./255)(x)\n",
        "x = layers.Conv2D(filters=32, kernel_size=3, activation=\"relu\")(x)\n",
        "x = layers.MaxPooling2D(pool_size=2)(x)\n",
        "x = layers.Conv2D(filters=64, kernel_size=3, activation=\"relu\")(x)\n",
        "x = layers.MaxPooling2D(pool_size=2)(x)\n",
        "x = layers.Conv2D(filters=128, kernel_size=3, activation=\"relu\")(x)\n",
        "x = layers.MaxPooling2D(pool_size=2)(x)\n",
        "x = layers.Conv2D(filters=256, kernel_size=3, activation=\"relu\")(x)\n",
        "x = layers.MaxPooling2D(pool_size=2)(x)\n",
        "x = layers.Conv2D(filters=256, kernel_size=3, activation=\"relu\")(x)\n",
        "x = layers.Flatten()(x)\n",
        "x = layers.Dropout(0.5)(x)\n",
        "outputs = layers.Dense(1, activation=\"sigmoid\")(x)\n",
        "model = keras.Model(inputs=inputs, outputs=outputs)\n",
        "\n",
        "model.compile(loss=\"binary_crossentropy\",\n",
        "              optimizer=\"adam\",\n",
        "              metrics=[\"accuracy\"])"
      ],
      "metadata": {
        "id": "x0oH85_aLMCd"
      },
      "execution_count": 30,
      "outputs": []
    },
    {
      "cell_type": "code",
      "source": [
        "callbacks = [\n",
        "    keras.callbacks.ModelCheckpoint(\n",
        "        filepath=\"convnet_from_scratch_with_augmentation1.keras\",\n",
        "        save_best_only=True,\n",
        "        monitor=\"val_loss\")\n",
        "]\n",
        "history = model.fit(\n",
        "    train_dataset,\n",
        "    epochs=50,\n",
        "    validation_data=validation_dataset,\n",
        "    callbacks=callbacks)"
      ],
      "metadata": {
        "colab": {
          "base_uri": "https://localhost:8080/"
        },
        "id": "cBV3L-MiLQYA",
        "outputId": "3111fde0-9e2a-475a-b56e-69ef43152112"
      },
      "execution_count": 31,
      "outputs": [
        {
          "output_type": "stream",
          "name": "stdout",
          "text": [
            "Epoch 1/50\n",
            "63/63 [==============================] - 8s 106ms/step - loss: 0.6956 - accuracy: 0.4850 - val_loss: 0.6931 - val_accuracy: 0.5000\n",
            "Epoch 2/50\n",
            "63/63 [==============================] - 7s 106ms/step - loss: 0.6933 - accuracy: 0.4995 - val_loss: 0.6931 - val_accuracy: 0.5000\n",
            "Epoch 3/50\n",
            "63/63 [==============================] - 7s 104ms/step - loss: 0.6933 - accuracy: 0.5060 - val_loss: 0.6925 - val_accuracy: 0.5790\n",
            "Epoch 4/50\n",
            "63/63 [==============================] - 8s 123ms/step - loss: 0.6945 - accuracy: 0.5125 - val_loss: 0.6921 - val_accuracy: 0.4960\n",
            "Epoch 5/50\n",
            "63/63 [==============================] - 7s 105ms/step - loss: 0.6928 - accuracy: 0.5110 - val_loss: 0.6903 - val_accuracy: 0.5400\n",
            "Epoch 6/50\n",
            "63/63 [==============================] - 7s 106ms/step - loss: 0.6905 - accuracy: 0.4960 - val_loss: 0.6823 - val_accuracy: 0.5500\n",
            "Epoch 7/50\n",
            "63/63 [==============================] - 7s 106ms/step - loss: 0.6949 - accuracy: 0.5050 - val_loss: 0.6932 - val_accuracy: 0.5010\n",
            "Epoch 8/50\n",
            "63/63 [==============================] - 7s 108ms/step - loss: 0.6941 - accuracy: 0.4860 - val_loss: 0.6931 - val_accuracy: 0.5000\n",
            "Epoch 9/50\n",
            "63/63 [==============================] - 7s 107ms/step - loss: 0.6933 - accuracy: 0.4820 - val_loss: 0.6931 - val_accuracy: 0.5000\n",
            "Epoch 10/50\n",
            "63/63 [==============================] - 7s 103ms/step - loss: 0.6932 - accuracy: 0.4995 - val_loss: 0.6931 - val_accuracy: 0.5000\n",
            "Epoch 11/50\n",
            "63/63 [==============================] - 7s 107ms/step - loss: 0.6945 - accuracy: 0.5020 - val_loss: 0.6930 - val_accuracy: 0.5200\n",
            "Epoch 12/50\n",
            "63/63 [==============================] - 7s 105ms/step - loss: 0.6935 - accuracy: 0.4930 - val_loss: 0.6931 - val_accuracy: 0.5000\n",
            "Epoch 13/50\n",
            "63/63 [==============================] - 7s 104ms/step - loss: 0.6932 - accuracy: 0.4930 - val_loss: 0.6931 - val_accuracy: 0.4950\n",
            "Epoch 14/50\n",
            "63/63 [==============================] - 7s 106ms/step - loss: 0.6936 - accuracy: 0.4920 - val_loss: 0.6931 - val_accuracy: 0.5000\n",
            "Epoch 15/50\n",
            "63/63 [==============================] - 7s 106ms/step - loss: 0.6932 - accuracy: 0.4705 - val_loss: 0.6931 - val_accuracy: 0.5000\n",
            "Epoch 16/50\n",
            "63/63 [==============================] - 7s 103ms/step - loss: 0.6932 - accuracy: 0.5000 - val_loss: 0.6931 - val_accuracy: 0.5000\n",
            "Epoch 17/50\n",
            "63/63 [==============================] - 7s 102ms/step - loss: 0.6932 - accuracy: 0.4900 - val_loss: 0.6931 - val_accuracy: 0.5000\n",
            "Epoch 18/50\n",
            "63/63 [==============================] - 7s 101ms/step - loss: 0.6932 - accuracy: 0.4920 - val_loss: 0.6931 - val_accuracy: 0.5000\n",
            "Epoch 19/50\n",
            "63/63 [==============================] - 7s 103ms/step - loss: 0.6932 - accuracy: 0.4810 - val_loss: 0.6931 - val_accuracy: 0.5000\n",
            "Epoch 20/50\n",
            "63/63 [==============================] - 7s 102ms/step - loss: 0.6932 - accuracy: 0.4810 - val_loss: 0.6931 - val_accuracy: 0.5000\n",
            "Epoch 21/50\n",
            "63/63 [==============================] - 7s 105ms/step - loss: 0.6932 - accuracy: 0.5000 - val_loss: 0.6931 - val_accuracy: 0.5000\n",
            "Epoch 22/50\n",
            "63/63 [==============================] - 7s 101ms/step - loss: 0.6932 - accuracy: 0.4740 - val_loss: 0.6931 - val_accuracy: 0.5000\n",
            "Epoch 23/50\n",
            "63/63 [==============================] - 7s 108ms/step - loss: 0.6932 - accuracy: 0.4880 - val_loss: 0.6931 - val_accuracy: 0.5000\n",
            "Epoch 24/50\n",
            "63/63 [==============================] - 7s 107ms/step - loss: 0.6932 - accuracy: 0.4840 - val_loss: 0.6931 - val_accuracy: 0.5000\n",
            "Epoch 25/50\n",
            "63/63 [==============================] - 7s 106ms/step - loss: 0.6932 - accuracy: 0.4920 - val_loss: 0.6931 - val_accuracy: 0.5000\n",
            "Epoch 26/50\n",
            "63/63 [==============================] - 7s 105ms/step - loss: 0.6932 - accuracy: 0.4820 - val_loss: 0.6931 - val_accuracy: 0.5000\n",
            "Epoch 27/50\n",
            "63/63 [==============================] - 7s 101ms/step - loss: 0.6932 - accuracy: 0.5010 - val_loss: 0.6931 - val_accuracy: 0.5000\n",
            "Epoch 28/50\n",
            "63/63 [==============================] - 7s 101ms/step - loss: 0.6932 - accuracy: 0.5000 - val_loss: 0.6931 - val_accuracy: 0.5000\n",
            "Epoch 29/50\n",
            "63/63 [==============================] - 7s 102ms/step - loss: 0.6932 - accuracy: 0.5000 - val_loss: 0.6931 - val_accuracy: 0.5000\n",
            "Epoch 30/50\n",
            "63/63 [==============================] - 7s 100ms/step - loss: 0.6932 - accuracy: 0.4940 - val_loss: 0.6931 - val_accuracy: 0.5000\n",
            "Epoch 31/50\n",
            "63/63 [==============================] - 7s 101ms/step - loss: 0.6932 - accuracy: 0.4810 - val_loss: 0.6931 - val_accuracy: 0.5000\n",
            "Epoch 32/50\n",
            "63/63 [==============================] - 7s 105ms/step - loss: 0.6932 - accuracy: 0.4790 - val_loss: 0.6931 - val_accuracy: 0.5000\n",
            "Epoch 33/50\n",
            "63/63 [==============================] - 7s 103ms/step - loss: 0.6932 - accuracy: 0.4900 - val_loss: 0.6931 - val_accuracy: 0.5000\n",
            "Epoch 34/50\n",
            "63/63 [==============================] - 7s 103ms/step - loss: 0.6932 - accuracy: 0.4930 - val_loss: 0.6931 - val_accuracy: 0.5000\n",
            "Epoch 35/50\n",
            "63/63 [==============================] - 7s 103ms/step - loss: 0.6932 - accuracy: 0.4760 - val_loss: 0.6931 - val_accuracy: 0.5000\n",
            "Epoch 36/50\n",
            "63/63 [==============================] - 7s 101ms/step - loss: 0.6932 - accuracy: 0.5000 - val_loss: 0.6931 - val_accuracy: 0.5000\n",
            "Epoch 37/50\n",
            "63/63 [==============================] - 7s 102ms/step - loss: 0.6932 - accuracy: 0.5000 - val_loss: 0.6931 - val_accuracy: 0.5000\n",
            "Epoch 38/50\n",
            "63/63 [==============================] - 7s 101ms/step - loss: 0.6932 - accuracy: 0.4850 - val_loss: 0.6931 - val_accuracy: 0.5000\n",
            "Epoch 39/50\n",
            "63/63 [==============================] - 7s 107ms/step - loss: 0.6932 - accuracy: 0.4800 - val_loss: 0.6931 - val_accuracy: 0.5000\n",
            "Epoch 40/50\n",
            "63/63 [==============================] - 7s 105ms/step - loss: 0.6932 - accuracy: 0.4990 - val_loss: 0.6931 - val_accuracy: 0.5000\n",
            "Epoch 41/50\n",
            "63/63 [==============================] - 7s 105ms/step - loss: 0.6932 - accuracy: 0.4820 - val_loss: 0.6931 - val_accuracy: 0.5000\n",
            "Epoch 42/50\n",
            "63/63 [==============================] - 7s 103ms/step - loss: 0.6932 - accuracy: 0.4820 - val_loss: 0.6931 - val_accuracy: 0.5000\n",
            "Epoch 43/50\n",
            "63/63 [==============================] - 7s 103ms/step - loss: 0.6932 - accuracy: 0.4810 - val_loss: 0.6931 - val_accuracy: 0.5000\n",
            "Epoch 44/50\n",
            "63/63 [==============================] - 7s 104ms/step - loss: 0.6932 - accuracy: 0.4840 - val_loss: 0.6931 - val_accuracy: 0.5000\n",
            "Epoch 45/50\n",
            "63/63 [==============================] - 7s 107ms/step - loss: 0.6932 - accuracy: 0.4920 - val_loss: 0.6931 - val_accuracy: 0.5000\n",
            "Epoch 46/50\n",
            "63/63 [==============================] - 7s 103ms/step - loss: 0.6932 - accuracy: 0.4900 - val_loss: 0.6931 - val_accuracy: 0.5000\n",
            "Epoch 47/50\n",
            "63/63 [==============================] - 7s 106ms/step - loss: 0.6932 - accuracy: 0.4790 - val_loss: 0.6931 - val_accuracy: 0.5000\n",
            "Epoch 48/50\n",
            "63/63 [==============================] - 7s 104ms/step - loss: 0.6932 - accuracy: 0.4920 - val_loss: 0.6931 - val_accuracy: 0.5000\n",
            "Epoch 49/50\n",
            "63/63 [==============================] - 7s 106ms/step - loss: 0.6932 - accuracy: 0.4880 - val_loss: 0.6931 - val_accuracy: 0.5000\n",
            "Epoch 50/50\n",
            "63/63 [==============================] - 7s 106ms/step - loss: 0.6932 - accuracy: 0.4900 - val_loss: 0.6931 - val_accuracy: 0.5000\n"
          ]
        }
      ]
    },
    {
      "cell_type": "code",
      "source": [
        "test_model = keras.models.load_model(\n",
        "    \"convnet_from_scratch_with_augmentation1.keras\")\n",
        "test_loss, test_acc = test_model.evaluate(test_dataset)\n",
        "print(f\"Test accuracy: {test_acc:.3f}\")"
      ],
      "metadata": {
        "colab": {
          "base_uri": "https://localhost:8080/"
        },
        "id": "qBfPPCIuM6yc",
        "outputId": "32dec2e4-730b-446a-db51-1c727f6ac844"
      },
      "execution_count": 32,
      "outputs": [
        {
          "output_type": "stream",
          "name": "stdout",
          "text": [
            "32/32 [==============================] - 2s 40ms/step - loss: 0.6861 - accuracy: 0.5530\n",
            "Test accuracy: 0.553\n"
          ]
        }
      ]
    },
    {
      "cell_type": "markdown",
      "source": [
        "#** Question4**\n",
        "\n",
        "Repeat Steps 1-3, but now using a pretrained network. The sample sizes you use in Steps 2 and 3 \n",
        "for the pretrained network may be the same or different from those using the network where \n",
        "you trained from scratch. Again, use any and all optimization techniques to get best \n",
        "performance.  "
      ],
      "metadata": {
        "id": "upQDrlpKM_Nd"
      }
    },
    {
      "cell_type": "code",
      "source": [
        "conv_base = keras.applications.vgg16.VGG16(\n",
        "    weights=\"imagenet\",\n",
        "    include_top=False,\n",
        "    input_shape=(180, 180, 3))"
      ],
      "metadata": {
        "colab": {
          "base_uri": "https://localhost:8080/"
        },
        "id": "Rx-N0ZHgNBZv",
        "outputId": "9c659ded-cb4c-4080-a651-1a10ade85b29"
      },
      "execution_count": 33,
      "outputs": [
        {
          "output_type": "stream",
          "name": "stdout",
          "text": [
            "Downloading data from https://storage.googleapis.com/tensorflow/keras-applications/vgg16/vgg16_weights_tf_dim_ordering_tf_kernels_notop.h5\n",
            "58889256/58889256 [==============================] - 0s 0us/step\n"
          ]
        }
      ]
    },
    {
      "cell_type": "code",
      "source": [
        "conv_base.summary()"
      ],
      "metadata": {
        "colab": {
          "base_uri": "https://localhost:8080/"
        },
        "id": "YI94_4-7NG2q",
        "outputId": "1d7f55ca-a8a4-4bb6-945e-24b1711fa37f"
      },
      "execution_count": 34,
      "outputs": [
        {
          "output_type": "stream",
          "name": "stdout",
          "text": [
            "Model: \"vgg16\"\n",
            "_________________________________________________________________\n",
            " Layer (type)                Output Shape              Param #   \n",
            "=================================================================\n",
            " input_8 (InputLayer)        [(None, 180, 180, 3)]     0         \n",
            "                                                                 \n",
            " block1_conv1 (Conv2D)       (None, 180, 180, 64)      1792      \n",
            "                                                                 \n",
            " block1_conv2 (Conv2D)       (None, 180, 180, 64)      36928     \n",
            "                                                                 \n",
            " block1_pool (MaxPooling2D)  (None, 90, 90, 64)        0         \n",
            "                                                                 \n",
            " block2_conv1 (Conv2D)       (None, 90, 90, 128)       73856     \n",
            "                                                                 \n",
            " block2_conv2 (Conv2D)       (None, 90, 90, 128)       147584    \n",
            "                                                                 \n",
            " block2_pool (MaxPooling2D)  (None, 45, 45, 128)       0         \n",
            "                                                                 \n",
            " block3_conv1 (Conv2D)       (None, 45, 45, 256)       295168    \n",
            "                                                                 \n",
            " block3_conv2 (Conv2D)       (None, 45, 45, 256)       590080    \n",
            "                                                                 \n",
            " block3_conv3 (Conv2D)       (None, 45, 45, 256)       590080    \n",
            "                                                                 \n",
            " block3_pool (MaxPooling2D)  (None, 22, 22, 256)       0         \n",
            "                                                                 \n",
            " block4_conv1 (Conv2D)       (None, 22, 22, 512)       1180160   \n",
            "                                                                 \n",
            " block4_conv2 (Conv2D)       (None, 22, 22, 512)       2359808   \n",
            "                                                                 \n",
            " block4_conv3 (Conv2D)       (None, 22, 22, 512)       2359808   \n",
            "                                                                 \n",
            " block4_pool (MaxPooling2D)  (None, 11, 11, 512)       0         \n",
            "                                                                 \n",
            " block5_conv1 (Conv2D)       (None, 11, 11, 512)       2359808   \n",
            "                                                                 \n",
            " block5_conv2 (Conv2D)       (None, 11, 11, 512)       2359808   \n",
            "                                                                 \n",
            " block5_conv3 (Conv2D)       (None, 11, 11, 512)       2359808   \n",
            "                                                                 \n",
            " block5_pool (MaxPooling2D)  (None, 5, 5, 512)         0         \n",
            "                                                                 \n",
            "=================================================================\n",
            "Total params: 14,714,688\n",
            "Trainable params: 14,714,688\n",
            "Non-trainable params: 0\n",
            "_________________________________________________________________\n"
          ]
        }
      ]
    },
    {
      "cell_type": "code",
      "source": [
        "import numpy as np\n",
        "\n",
        "def get_features_and_labels(dataset):\n",
        "    all_features = []\n",
        "    all_labels = []\n",
        "    for images, labels in dataset:\n",
        "        preprocessed_images = keras.applications.vgg16.preprocess_input(images)\n",
        "        features = conv_base.predict(preprocessed_images)\n",
        "        all_features.append(features)\n",
        "        all_labels.append(labels)\n",
        "    return np.concatenate(all_features), np.concatenate(all_labels)\n",
        "\n",
        "train_features, train_labels =  get_features_and_labels(train_dataset)\n",
        "val_features, val_labels =  get_features_and_labels(validation_dataset)\n",
        "test_features, test_labels =  get_features_and_labels(test_dataset)"
      ],
      "metadata": {
        "colab": {
          "base_uri": "https://localhost:8080/"
        },
        "id": "xRxUwF4LNLj7",
        "outputId": "309079d9-e9f0-4f88-f1d9-eee03cab9d5a"
      },
      "execution_count": 35,
      "outputs": [
        {
          "output_type": "stream",
          "name": "stdout",
          "text": [
            "1/1 [==============================] - 2s 2s/step\n",
            "1/1 [==============================] - 0s 25ms/step\n",
            "1/1 [==============================] - 0s 34ms/step\n",
            "1/1 [==============================] - 0s 30ms/step\n",
            "1/1 [==============================] - 0s 31ms/step\n",
            "1/1 [==============================] - 0s 31ms/step\n",
            "1/1 [==============================] - 0s 30ms/step\n",
            "1/1 [==============================] - 0s 29ms/step\n",
            "1/1 [==============================] - 0s 31ms/step\n",
            "1/1 [==============================] - 0s 30ms/step\n",
            "1/1 [==============================] - 0s 27ms/step\n",
            "1/1 [==============================] - 0s 27ms/step\n",
            "1/1 [==============================] - 0s 26ms/step\n",
            "1/1 [==============================] - 0s 28ms/step\n",
            "1/1 [==============================] - 0s 32ms/step\n",
            "1/1 [==============================] - 0s 27ms/step\n",
            "1/1 [==============================] - 0s 27ms/step\n",
            "1/1 [==============================] - 0s 30ms/step\n",
            "1/1 [==============================] - 0s 30ms/step\n",
            "1/1 [==============================] - 0s 34ms/step\n",
            "1/1 [==============================] - 0s 35ms/step\n",
            "1/1 [==============================] - 0s 25ms/step\n",
            "1/1 [==============================] - 0s 29ms/step\n",
            "1/1 [==============================] - 0s 27ms/step\n",
            "1/1 [==============================] - 0s 27ms/step\n",
            "1/1 [==============================] - 0s 26ms/step\n",
            "1/1 [==============================] - 0s 26ms/step\n",
            "1/1 [==============================] - 0s 29ms/step\n",
            "1/1 [==============================] - 0s 26ms/step\n",
            "1/1 [==============================] - 0s 27ms/step\n",
            "1/1 [==============================] - 0s 31ms/step\n",
            "1/1 [==============================] - 0s 30ms/step\n",
            "1/1 [==============================] - 0s 26ms/step\n",
            "1/1 [==============================] - 0s 26ms/step\n",
            "1/1 [==============================] - 0s 33ms/step\n",
            "1/1 [==============================] - 0s 29ms/step\n",
            "1/1 [==============================] - 0s 32ms/step\n",
            "1/1 [==============================] - 0s 27ms/step\n",
            "1/1 [==============================] - 0s 25ms/step\n",
            "1/1 [==============================] - 0s 26ms/step\n",
            "1/1 [==============================] - 0s 27ms/step\n",
            "1/1 [==============================] - 0s 32ms/step\n",
            "1/1 [==============================] - 0s 36ms/step\n",
            "1/1 [==============================] - 0s 37ms/step\n",
            "1/1 [==============================] - 0s 28ms/step\n",
            "1/1 [==============================] - 0s 27ms/step\n",
            "1/1 [==============================] - 0s 27ms/step\n",
            "1/1 [==============================] - 0s 27ms/step\n",
            "1/1 [==============================] - 0s 27ms/step\n",
            "1/1 [==============================] - 0s 27ms/step\n",
            "1/1 [==============================] - 0s 27ms/step\n",
            "1/1 [==============================] - 0s 25ms/step\n",
            "1/1 [==============================] - 0s 29ms/step\n",
            "1/1 [==============================] - 0s 34ms/step\n",
            "1/1 [==============================] - 0s 25ms/step\n",
            "1/1 [==============================] - 0s 24ms/step\n",
            "1/1 [==============================] - 0s 31ms/step\n",
            "1/1 [==============================] - 0s 29ms/step\n",
            "1/1 [==============================] - 0s 24ms/step\n",
            "1/1 [==============================] - 0s 25ms/step\n",
            "1/1 [==============================] - 0s 26ms/step\n",
            "1/1 [==============================] - 0s 28ms/step\n",
            "1/1 [==============================] - 1s 1s/step\n",
            "1/1 [==============================] - 0s 28ms/step\n",
            "1/1 [==============================] - 0s 26ms/step\n",
            "1/1 [==============================] - 0s 29ms/step\n",
            "1/1 [==============================] - 0s 31ms/step\n",
            "1/1 [==============================] - 0s 27ms/step\n",
            "1/1 [==============================] - 0s 26ms/step\n",
            "1/1 [==============================] - 0s 26ms/step\n",
            "1/1 [==============================] - 0s 26ms/step\n",
            "1/1 [==============================] - 0s 26ms/step\n",
            "1/1 [==============================] - 0s 24ms/step\n",
            "1/1 [==============================] - 0s 25ms/step\n",
            "1/1 [==============================] - 0s 26ms/step\n",
            "1/1 [==============================] - 0s 27ms/step\n",
            "1/1 [==============================] - 0s 29ms/step\n",
            "1/1 [==============================] - 0s 24ms/step\n",
            "1/1 [==============================] - 0s 26ms/step\n",
            "1/1 [==============================] - 0s 70ms/step\n",
            "1/1 [==============================] - 0s 40ms/step\n",
            "1/1 [==============================] - 0s 45ms/step\n",
            "1/1 [==============================] - 0s 37ms/step\n",
            "1/1 [==============================] - 0s 80ms/step\n",
            "1/1 [==============================] - 0s 65ms/step\n",
            "1/1 [==============================] - 0s 26ms/step\n",
            "1/1 [==============================] - 0s 26ms/step\n",
            "1/1 [==============================] - 0s 25ms/step\n",
            "1/1 [==============================] - 0s 23ms/step\n",
            "1/1 [==============================] - 0s 25ms/step\n",
            "1/1 [==============================] - 0s 25ms/step\n",
            "1/1 [==============================] - 0s 26ms/step\n",
            "1/1 [==============================] - 0s 25ms/step\n",
            "1/1 [==============================] - 0s 27ms/step\n",
            "1/1 [==============================] - 1s 877ms/step\n",
            "1/1 [==============================] - 0s 29ms/step\n",
            "1/1 [==============================] - 0s 28ms/step\n",
            "1/1 [==============================] - 0s 26ms/step\n",
            "1/1 [==============================] - 0s 28ms/step\n",
            "1/1 [==============================] - 0s 25ms/step\n",
            "1/1 [==============================] - 0s 27ms/step\n",
            "1/1 [==============================] - 0s 24ms/step\n",
            "1/1 [==============================] - 0s 29ms/step\n",
            "1/1 [==============================] - 0s 30ms/step\n",
            "1/1 [==============================] - 0s 29ms/step\n",
            "1/1 [==============================] - 0s 25ms/step\n",
            "1/1 [==============================] - 0s 36ms/step\n",
            "1/1 [==============================] - 0s 28ms/step\n",
            "1/1 [==============================] - 0s 26ms/step\n",
            "1/1 [==============================] - 0s 24ms/step\n",
            "1/1 [==============================] - 0s 27ms/step\n",
            "1/1 [==============================] - 0s 27ms/step\n",
            "1/1 [==============================] - 0s 27ms/step\n",
            "1/1 [==============================] - 0s 30ms/step\n",
            "1/1 [==============================] - 0s 28ms/step\n",
            "1/1 [==============================] - 0s 28ms/step\n",
            "1/1 [==============================] - 0s 29ms/step\n",
            "1/1 [==============================] - 0s 31ms/step\n",
            "1/1 [==============================] - 0s 29ms/step\n",
            "1/1 [==============================] - 0s 27ms/step\n",
            "1/1 [==============================] - 0s 26ms/step\n",
            "1/1 [==============================] - 0s 33ms/step\n",
            "1/1 [==============================] - 0s 33ms/step\n",
            "1/1 [==============================] - 0s 27ms/step\n",
            "1/1 [==============================] - 0s 29ms/step\n",
            "1/1 [==============================] - 0s 26ms/step\n",
            "1/1 [==============================] - 0s 22ms/step\n"
          ]
        }
      ]
    },
    {
      "cell_type": "code",
      "source": [
        "train_features.shape"
      ],
      "metadata": {
        "colab": {
          "base_uri": "https://localhost:8080/"
        },
        "id": "46oC2bpmNRIL",
        "outputId": "4059ae17-4149-4885-dbfd-1e2f39d7fb16"
      },
      "execution_count": 36,
      "outputs": [
        {
          "output_type": "execute_result",
          "data": {
            "text/plain": [
              "(2000, 5, 5, 512)"
            ]
          },
          "metadata": {},
          "execution_count": 36
        }
      ]
    },
    {
      "cell_type": "code",
      "source": [
        "inputs = keras.Input(shape=(5, 5, 512))\n",
        "x = layers.Flatten()(inputs)\n",
        "x = layers.Dense(256)(x)\n",
        "x = layers.Dropout(0.5)(x)\n",
        "outputs = layers.Dense(1, activation=\"sigmoid\")(x)\n",
        "model = keras.Model(inputs, outputs)\n",
        "model.compile(loss=\"binary_crossentropy\",\n",
        "              optimizer=\"rmsprop\",\n",
        "              metrics=[\"accuracy\"])\n",
        "\n",
        "callbacks = [\n",
        "    keras.callbacks.ModelCheckpoint(\n",
        "      filepath=\"feature_extraction.keras\",\n",
        "      save_best_only=True,\n",
        "      monitor=\"val_loss\")\n",
        "]\n",
        "history = model.fit(\n",
        "    train_features, train_labels,\n",
        "    epochs=20,\n",
        "    validation_data=(val_features, val_labels),\n",
        "    callbacks=callbacks)"
      ],
      "metadata": {
        "colab": {
          "base_uri": "https://localhost:8080/"
        },
        "id": "k9WzxJPHNX9g",
        "outputId": "fefa8c23-7272-44b4-94f5-f4f38cc384d1"
      },
      "execution_count": 37,
      "outputs": [
        {
          "output_type": "stream",
          "name": "stdout",
          "text": [
            "Epoch 1/20\n",
            "63/63 [==============================] - 2s 16ms/step - loss: 21.3698 - accuracy: 0.9240 - val_loss: 5.6319 - val_accuracy: 0.9600\n",
            "Epoch 2/20\n",
            "63/63 [==============================] - 1s 9ms/step - loss: 5.5114 - accuracy: 0.9705 - val_loss: 4.3573 - val_accuracy: 0.9720\n",
            "Epoch 3/20\n",
            "63/63 [==============================] - 1s 8ms/step - loss: 2.2123 - accuracy: 0.9840 - val_loss: 4.4003 - val_accuracy: 0.9780\n",
            "Epoch 4/20\n",
            "63/63 [==============================] - 1s 9ms/step - loss: 1.2997 - accuracy: 0.9900 - val_loss: 5.0495 - val_accuracy: 0.9720\n",
            "Epoch 5/20\n",
            "63/63 [==============================] - 1s 9ms/step - loss: 0.6722 - accuracy: 0.9930 - val_loss: 4.9590 - val_accuracy: 0.9780\n",
            "Epoch 6/20\n",
            "63/63 [==============================] - 1s 9ms/step - loss: 0.2477 - accuracy: 0.9965 - val_loss: 3.8959 - val_accuracy: 0.9810\n",
            "Epoch 7/20\n",
            "63/63 [==============================] - 1s 9ms/step - loss: 0.9275 - accuracy: 0.9925 - val_loss: 5.0197 - val_accuracy: 0.9790\n",
            "Epoch 8/20\n",
            "63/63 [==============================] - 1s 8ms/step - loss: 0.1529 - accuracy: 0.9980 - val_loss: 4.1923 - val_accuracy: 0.9760\n",
            "Epoch 9/20\n",
            "63/63 [==============================] - 0s 8ms/step - loss: 0.5746 - accuracy: 0.9945 - val_loss: 5.3963 - val_accuracy: 0.9800\n",
            "Epoch 10/20\n",
            "63/63 [==============================] - 0s 8ms/step - loss: 0.7783 - accuracy: 0.9965 - val_loss: 6.0802 - val_accuracy: 0.9790\n",
            "Epoch 11/20\n",
            "63/63 [==============================] - 1s 8ms/step - loss: 0.4168 - accuracy: 0.9960 - val_loss: 5.0356 - val_accuracy: 0.9750\n",
            "Epoch 12/20\n",
            "63/63 [==============================] - 1s 9ms/step - loss: 0.4493 - accuracy: 0.9960 - val_loss: 6.9975 - val_accuracy: 0.9690\n",
            "Epoch 13/20\n",
            "63/63 [==============================] - 1s 8ms/step - loss: 0.3508 - accuracy: 0.9975 - val_loss: 4.4643 - val_accuracy: 0.9780\n",
            "Epoch 14/20\n",
            "63/63 [==============================] - 1s 9ms/step - loss: 0.0236 - accuracy: 0.9990 - val_loss: 4.7308 - val_accuracy: 0.9810\n",
            "Epoch 15/20\n",
            "63/63 [==============================] - 1s 9ms/step - loss: 0.1954 - accuracy: 0.9990 - val_loss: 5.4870 - val_accuracy: 0.9750\n",
            "Epoch 16/20\n",
            "63/63 [==============================] - 1s 9ms/step - loss: 0.2924 - accuracy: 0.9975 - val_loss: 5.5456 - val_accuracy: 0.9810\n",
            "Epoch 17/20\n",
            "63/63 [==============================] - 0s 7ms/step - loss: 0.0137 - accuracy: 0.9995 - val_loss: 6.9665 - val_accuracy: 0.9730\n",
            "Epoch 18/20\n",
            "63/63 [==============================] - 1s 8ms/step - loss: 0.4082 - accuracy: 0.9965 - val_loss: 6.9698 - val_accuracy: 0.9730\n",
            "Epoch 19/20\n",
            "63/63 [==============================] - 1s 14ms/step - loss: 0.2421 - accuracy: 0.9985 - val_loss: 5.1070 - val_accuracy: 0.9740\n",
            "Epoch 20/20\n",
            "63/63 [==============================] - 1s 12ms/step - loss: 0.0334 - accuracy: 0.9985 - val_loss: 5.1105 - val_accuracy: 0.9780\n"
          ]
        }
      ]
    },
    {
      "cell_type": "code",
      "source": [
        "import matplotlib.pyplot as plt\n",
        "acc = history.history[\"accuracy\"]\n",
        "val_acc = history.history[\"val_accuracy\"]\n",
        "loss = history.history[\"loss\"]\n",
        "val_loss = history.history[\"val_loss\"]\n",
        "epochs = range(1, len(acc) + 1)\n",
        "plt.plot(epochs, acc, \"bo\", label=\" Accuracy of Training\")\n",
        "plt.plot(epochs, val_acc, \"b\", label=\" Accuracy of Validation\")\n",
        "plt.title(\"Training and validation accuracy\")\n",
        "plt.legend()\n",
        "plt.figure()\n",
        "plt.plot(epochs, loss, \"bo\", label=\" loss of Training\")\n",
        "plt.plot(epochs, val_loss, \"b\", label=\"loss of validation\")\n",
        "plt.title(\"Training and validation loss\")\n",
        "plt.legend()\n",
        "plt.show()"
      ],
      "metadata": {
        "colab": {
          "base_uri": "https://localhost:8080/",
          "height": 545
        },
        "id": "p7jWLN_yNcOe",
        "outputId": "af9eed3f-1163-4cb5-aebc-38fea944eb19"
      },
      "execution_count": 39,
      "outputs": [
        {
          "output_type": "display_data",
          "data": {
            "text/plain": [
              "<Figure size 432x288 with 1 Axes>"
            ],
            "image/png": "[encoded data removed]"
          },
          "metadata": {
            "needs_background": "light"
          }
        },
        {
          "output_type": "display_data",
          "data": {
            "text/plain": [
              "<Figure size 432x288 with 1 Axes>"
            ],
            "image/png": "[encoded data removed]"
          },
          "metadata": {
            "needs_background": "light"
          }
        }
      ]
    },
    {
      "cell_type": "code",
      "source": [
        "conv_base  = keras.applications.vgg16.VGG16(\n",
        "    weights=\"imagenet\",\n",
        "    include_top=False)\n",
        "conv_base.trainable = False"
      ],
      "metadata": {
        "id": "mufZBN2QNxV-"
      },
      "execution_count": 40,
      "outputs": []
    },
    {
      "cell_type": "code",
      "source": [
        "conv_base.trainable = True\n",
        "print(\" the number of trainable weights \"\n",
        "      \"before freezing the conv base:\", len(conv_base.trainable_weights))"
      ],
      "metadata": {
        "colab": {
          "base_uri": "https://localhost:8080/"
        },
        "id": "UuWg3Sq9Nz6K",
        "outputId": "c7f15dca-9c2e-4676-99ff-732cb0b0a0cd"
      },
      "execution_count": 43,
      "outputs": [
        {
          "output_type": "stream",
          "name": "stdout",
          "text": [
            " the number of trainable weights before freezing the conv base: 26\n"
          ]
        }
      ]
    },
    {
      "cell_type": "code",
      "source": [
        "conv_base.trainable = False\n",
        "print(\"The number of trainable weights \"\n",
        "      \"after freezing the conv base:\", len(conv_base.trainable_weights))"
      ],
      "metadata": {
        "colab": {
          "base_uri": "https://localhost:8080/"
        },
        "id": "ZimGt8jlN2S3",
        "outputId": "c773e0f1-8c08-4d05-eb2a-3fa3ca467f43"
      },
      "execution_count": 44,
      "outputs": [
        {
          "output_type": "stream",
          "name": "stdout",
          "text": [
            "The number of trainable weights after freezing the conv base: 0\n"
          ]
        }
      ]
    },
    {
      "cell_type": "code",
      "source": [
        "data_augmentation = keras.Sequential(\n",
        "    [\n",
        "        layers.RandomFlip(\"horizontal\"),\n",
        "        layers.RandomRotation(0.1),\n",
        "        layers.RandomZoom(0.2),\n",
        "    ]\n",
        ")\n",
        "\n",
        "inputs = keras.Input(shape=(180, 180, 3))\n",
        "x = data_augmentation(inputs)\n",
        "x = keras.applications.vgg16.preprocess_input(x)\n",
        "x = conv_base(x)\n",
        "x = layers.Flatten()(x)\n",
        "x = layers.Dense(256)(x)\n",
        "x = layers.Dropout(0.5)(x)\n",
        "outputs = layers.Dense(1, activation=\"sigmoid\")(x)\n",
        "model = keras.Model(inputs, outputs)\n",
        "model.compile(loss=\"binary_crossentropy\",\n",
        "              optimizer=\"rmsprop\",\n",
        "              metrics=[\"accuracy\"])"
      ],
      "metadata": {
        "id": "tWtLNZuwN_hk"
      },
      "execution_count": 45,
      "outputs": []
    },
    {
      "cell_type": "code",
      "source": [
        "callbacks = [\n",
        "    keras.callbacks.ModelCheckpoint(\n",
        "        filepath=\"feature_extraction_with_data_augmentation.keras\",\n",
        "        save_best_only=True,\n",
        "        monitor=\"val_loss\")\n",
        "]\n",
        "history = model.fit(\n",
        "    train_dataset,\n",
        "    epochs=50,\n",
        "    validation_data=validation_dataset,\n",
        "    callbacks=callbacks)"
      ],
      "metadata": {
        "colab": {
          "base_uri": "https://localhost:8080/"
        },
        "id": "y6u4bsaLOB8b",
        "outputId": "589e6505-aad4-46f1-d2c5-e42580ce67a6"
      },
      "execution_count": 46,
      "outputs": [
        {
          "output_type": "stream",
          "name": "stdout",
          "text": [
            "Epoch 1/50\n",
            "63/63 [==============================] - 15s 206ms/step - loss: 14.1495 - accuracy: 0.9055 - val_loss: 4.0797 - val_accuracy: 0.9680\n",
            "Epoch 2/50\n",
            "63/63 [==============================] - 13s 202ms/step - loss: 7.8477 - accuracy: 0.9440 - val_loss: 13.0249 - val_accuracy: 0.9300\n",
            "Epoch 3/50\n",
            "63/63 [==============================] - 13s 206ms/step - loss: 7.9295 - accuracy: 0.9445 - val_loss: 3.5416 - val_accuracy: 0.9780\n",
            "Epoch 4/50\n",
            "63/63 [==============================] - 13s 209ms/step - loss: 5.1968 - accuracy: 0.9575 - val_loss: 3.1372 - val_accuracy: 0.9780\n",
            "Epoch 5/50\n",
            "63/63 [==============================] - 14s 210ms/step - loss: 3.5945 - accuracy: 0.9635 - val_loss: 7.3060 - val_accuracy: 0.9610\n",
            "Epoch 6/50\n",
            "63/63 [==============================] - 14s 212ms/step - loss: 2.5675 - accuracy: 0.9755 - val_loss: 6.5189 - val_accuracy: 0.9660\n",
            "Epoch 7/50\n",
            "63/63 [==============================] - 14s 211ms/step - loss: 3.5159 - accuracy: 0.9650 - val_loss: 4.1358 - val_accuracy: 0.9760\n",
            "Epoch 8/50\n",
            "63/63 [==============================] - 14s 216ms/step - loss: 2.5784 - accuracy: 0.9775 - val_loss: 2.9426 - val_accuracy: 0.9860\n",
            "Epoch 9/50\n",
            "63/63 [==============================] - 13s 210ms/step - loss: 3.5575 - accuracy: 0.9705 - val_loss: 3.6319 - val_accuracy: 0.9750\n",
            "Epoch 10/50\n",
            "63/63 [==============================] - 14s 211ms/step - loss: 2.2552 - accuracy: 0.9775 - val_loss: 2.4457 - val_accuracy: 0.9770\n",
            "Epoch 11/50\n",
            "63/63 [==============================] - 14s 214ms/step - loss: 2.5563 - accuracy: 0.9745 - val_loss: 2.1933 - val_accuracy: 0.9800\n",
            "Epoch 12/50\n",
            "63/63 [==============================] - 14s 212ms/step - loss: 2.2213 - accuracy: 0.9750 - val_loss: 3.2367 - val_accuracy: 0.9730\n",
            "Epoch 13/50\n",
            "63/63 [==============================] - 13s 208ms/step - loss: 1.4239 - accuracy: 0.9845 - val_loss: 3.8423 - val_accuracy: 0.9760\n",
            "Epoch 14/50\n",
            "63/63 [==============================] - 13s 208ms/step - loss: 1.4405 - accuracy: 0.9815 - val_loss: 3.3811 - val_accuracy: 0.9770\n",
            "Epoch 15/50\n",
            "63/63 [==============================] - 13s 204ms/step - loss: 1.9388 - accuracy: 0.9765 - val_loss: 3.0634 - val_accuracy: 0.9780\n",
            "Epoch 16/50\n",
            "63/63 [==============================] - 13s 207ms/step - loss: 1.4682 - accuracy: 0.9815 - val_loss: 1.9712 - val_accuracy: 0.9790\n",
            "Epoch 17/50\n",
            "63/63 [==============================] - 13s 209ms/step - loss: 2.1916 - accuracy: 0.9755 - val_loss: 3.2548 - val_accuracy: 0.9760\n",
            "Epoch 18/50\n",
            "63/63 [==============================] - 14s 215ms/step - loss: 1.5973 - accuracy: 0.9800 - val_loss: 1.8192 - val_accuracy: 0.9800\n",
            "Epoch 19/50\n",
            "63/63 [==============================] - 14s 212ms/step - loss: 1.4629 - accuracy: 0.9745 - val_loss: 2.3026 - val_accuracy: 0.9770\n",
            "Epoch 20/50\n",
            "63/63 [==============================] - 13s 209ms/step - loss: 2.0000 - accuracy: 0.9770 - val_loss: 2.5994 - val_accuracy: 0.9780\n",
            "Epoch 21/50\n",
            "63/63 [==============================] - 13s 207ms/step - loss: 1.0108 - accuracy: 0.9825 - val_loss: 2.0221 - val_accuracy: 0.9800\n",
            "Epoch 22/50\n",
            "63/63 [==============================] - 14s 210ms/step - loss: 0.9911 - accuracy: 0.9825 - val_loss: 1.9957 - val_accuracy: 0.9770\n",
            "Epoch 23/50\n",
            "63/63 [==============================] - 14s 214ms/step - loss: 1.3351 - accuracy: 0.9825 - val_loss: 2.4762 - val_accuracy: 0.9760\n",
            "Epoch 24/50\n",
            "63/63 [==============================] - 14s 214ms/step - loss: 0.8653 - accuracy: 0.9840 - val_loss: 3.7855 - val_accuracy: 0.9700\n",
            "Epoch 25/50\n",
            "63/63 [==============================] - 14s 211ms/step - loss: 0.4842 - accuracy: 0.9900 - val_loss: 2.3558 - val_accuracy: 0.9770\n",
            "Epoch 26/50\n",
            "63/63 [==============================] - 13s 207ms/step - loss: 0.9275 - accuracy: 0.9820 - val_loss: 2.7355 - val_accuracy: 0.9710\n",
            "Epoch 27/50\n",
            "63/63 [==============================] - 13s 205ms/step - loss: 0.9656 - accuracy: 0.9830 - val_loss: 2.3213 - val_accuracy: 0.9730\n",
            "Epoch 28/50\n",
            "63/63 [==============================] - 13s 208ms/step - loss: 0.5850 - accuracy: 0.9880 - val_loss: 4.4328 - val_accuracy: 0.9680\n",
            "Epoch 29/50\n",
            "63/63 [==============================] - 14s 213ms/step - loss: 0.4724 - accuracy: 0.9910 - val_loss: 1.7702 - val_accuracy: 0.9800\n",
            "Epoch 30/50\n",
            "63/63 [==============================] - 14s 213ms/step - loss: 1.2622 - accuracy: 0.9800 - val_loss: 1.6090 - val_accuracy: 0.9810\n",
            "Epoch 31/50\n",
            "63/63 [==============================] - 14s 217ms/step - loss: 0.6514 - accuracy: 0.9880 - val_loss: 1.9373 - val_accuracy: 0.9800\n",
            "Epoch 32/50\n",
            "63/63 [==============================] - 14s 210ms/step - loss: 0.6408 - accuracy: 0.9885 - val_loss: 1.6915 - val_accuracy: 0.9820\n",
            "Epoch 33/50\n",
            "63/63 [==============================] - 13s 209ms/step - loss: 0.6091 - accuracy: 0.9895 - val_loss: 1.6860 - val_accuracy: 0.9830\n",
            "Epoch 34/50\n",
            "63/63 [==============================] - 14s 213ms/step - loss: 0.7089 - accuracy: 0.9830 - val_loss: 1.2279 - val_accuracy: 0.9820\n",
            "Epoch 35/50\n",
            "63/63 [==============================] - 13s 209ms/step - loss: 0.6898 - accuracy: 0.9850 - val_loss: 1.6284 - val_accuracy: 0.9790\n",
            "Epoch 36/50\n",
            "63/63 [==============================] - 13s 210ms/step - loss: 0.4648 - accuracy: 0.9890 - val_loss: 1.5175 - val_accuracy: 0.9810\n",
            "Epoch 37/50\n",
            "63/63 [==============================] - 13s 209ms/step - loss: 0.5866 - accuracy: 0.9900 - val_loss: 1.2938 - val_accuracy: 0.9780\n",
            "Epoch 38/50\n",
            "63/63 [==============================] - 13s 210ms/step - loss: 0.7006 - accuracy: 0.9880 - val_loss: 1.4503 - val_accuracy: 0.9810\n",
            "Epoch 39/50\n",
            "63/63 [==============================] - 14s 217ms/step - loss: 0.4376 - accuracy: 0.9890 - val_loss: 1.2010 - val_accuracy: 0.9800\n",
            "Epoch 40/50\n",
            "63/63 [==============================] - 13s 210ms/step - loss: 0.4194 - accuracy: 0.9860 - val_loss: 1.3515 - val_accuracy: 0.9800\n",
            "Epoch 41/50\n",
            "63/63 [==============================] - 13s 208ms/step - loss: 0.7856 - accuracy: 0.9840 - val_loss: 2.0645 - val_accuracy: 0.9750\n",
            "Epoch 42/50\n",
            "63/63 [==============================] - 13s 209ms/step - loss: 0.7927 - accuracy: 0.9860 - val_loss: 1.7237 - val_accuracy: 0.9770\n",
            "Epoch 43/50\n",
            "63/63 [==============================] - 14s 212ms/step - loss: 0.5176 - accuracy: 0.9870 - val_loss: 1.7883 - val_accuracy: 0.9750\n",
            "Epoch 44/50\n",
            "63/63 [==============================] - 13s 209ms/step - loss: 0.5807 - accuracy: 0.9900 - val_loss: 2.0318 - val_accuracy: 0.9750\n",
            "Epoch 45/50\n",
            "63/63 [==============================] - 14s 215ms/step - loss: 0.7864 - accuracy: 0.9840 - val_loss: 0.9814 - val_accuracy: 0.9820\n",
            "Epoch 46/50\n",
            "63/63 [==============================] - 13s 209ms/step - loss: 0.5541 - accuracy: 0.9865 - val_loss: 1.5938 - val_accuracy: 0.9820\n",
            "Epoch 47/50\n",
            "63/63 [==============================] - 14s 214ms/step - loss: 0.4848 - accuracy: 0.9885 - val_loss: 1.6169 - val_accuracy: 0.9820\n",
            "Epoch 48/50\n",
            "63/63 [==============================] - 14s 212ms/step - loss: 0.3523 - accuracy: 0.9885 - val_loss: 1.5820 - val_accuracy: 0.9770\n",
            "Epoch 49/50\n",
            "63/63 [==============================] - 13s 210ms/step - loss: 0.3981 - accuracy: 0.9880 - val_loss: 2.0155 - val_accuracy: 0.9770\n",
            "Epoch 50/50\n",
            "63/63 [==============================] - 13s 209ms/step - loss: 0.2990 - accuracy: 0.9915 - val_loss: 2.0944 - val_accuracy: 0.9760\n"
          ]
        }
      ]
    },
    {
      "cell_type": "code",
      "source": [
        "test_model = keras.models.load_model(\n",
        "    \"feature_extraction_with_data_augmentation.keras\")\n",
        "test_loss, test_acc = test_model.evaluate(test_dataset)\n",
        "print(f\"Test accuracy: {test_acc:.3f}\")"
      ],
      "metadata": {
        "colab": {
          "base_uri": "https://localhost:8080/"
        },
        "id": "Scfls1xXRHdH",
        "outputId": "01c7caa2-5f15-4aef-a6d8-5e894fb78215"
      },
      "execution_count": 47,
      "outputs": [
        {
          "output_type": "stream",
          "name": "stdout",
          "text": [
            "32/32 [==============================] - 4s 114ms/step - loss: 1.7349 - accuracy: 0.9820\n",
            "Test accuracy: 0.982\n"
          ]
        }
      ]
    },
    {
      "cell_type": "code",
      "source": [
        "conv_base.summary()"
      ],
      "metadata": {
        "colab": {
          "base_uri": "https://localhost:8080/"
        },
        "id": "q1oiRnWARMIJ",
        "outputId": "6a25ef94-bb51-46e7-bceb-264765760fdc"
      },
      "execution_count": 48,
      "outputs": [
        {
          "output_type": "stream",
          "name": "stdout",
          "text": [
            "Model: \"vgg16\"\n",
            "_________________________________________________________________\n",
            " Layer (type)                Output Shape              Param #   \n",
            "=================================================================\n",
            " input_10 (InputLayer)       [(None, None, None, 3)]   0         \n",
            "                                                                 \n",
            " block1_conv1 (Conv2D)       (None, None, None, 64)    1792      \n",
            "                                                                 \n",
            " block1_conv2 (Conv2D)       (None, None, None, 64)    36928     \n",
            "                                                                 \n",
            " block1_pool (MaxPooling2D)  (None, None, None, 64)    0         \n",
            "                                                                 \n",
            " block2_conv1 (Conv2D)       (None, None, None, 128)   73856     \n",
            "                                                                 \n",
            " block2_conv2 (Conv2D)       (None, None, None, 128)   147584    \n",
            "                                                                 \n",
            " block2_pool (MaxPooling2D)  (None, None, None, 128)   0         \n",
            "                                                                 \n",
            " block3_conv1 (Conv2D)       (None, None, None, 256)   295168    \n",
            "                                                                 \n",
            " block3_conv2 (Conv2D)       (None, None, None, 256)   590080    \n",
            "                                                                 \n",
            " block3_conv3 (Conv2D)       (None, None, None, 256)   590080    \n",
            "                                                                 \n",
            " block3_pool (MaxPooling2D)  (None, None, None, 256)   0         \n",
            "                                                                 \n",
            " block4_conv1 (Conv2D)       (None, None, None, 512)   1180160   \n",
            "                                                                 \n",
            " block4_conv2 (Conv2D)       (None, None, None, 512)   2359808   \n",
            "                                                                 \n",
            " block4_conv3 (Conv2D)       (None, None, None, 512)   2359808   \n",
            "                                                                 \n",
            " block4_pool (MaxPooling2D)  (None, None, None, 512)   0         \n",
            "                                                                 \n",
            " block5_conv1 (Conv2D)       (None, None, None, 512)   2359808   \n",
            "                                                                 \n",
            " block5_conv2 (Conv2D)       (None, None, None, 512)   2359808   \n",
            "                                                                 \n",
            " block5_conv3 (Conv2D)       (None, None, None, 512)   2359808   \n",
            "                                                                 \n",
            " block5_pool (MaxPooling2D)  (None, None, None, 512)   0         \n",
            "                                                                 \n",
            "=================================================================\n",
            "Total params: 14,714,688\n",
            "Trainable params: 0\n",
            "Non-trainable params: 14,714,688\n",
            "_________________________________________________________________\n"
          ]
        }
      ]
    },
    {
      "cell_type": "code",
      "source": [
        "conv_base.trainable = True\n",
        "for layer in conv_base.layers[:-4]:\n",
        "    layer.trainable = False"
      ],
      "metadata": {
        "id": "FKhoFCAqRPNg"
      },
      "execution_count": 49,
      "outputs": []
    },
    {
      "cell_type": "code",
      "source": [
        "model.compile(loss=\"binary_crossentropy\",\n",
        "              optimizer=keras.optimizers.RMSprop(learning_rate=1e-5),\n",
        "              metrics=[\"accuracy\"])\n",
        "\n",
        "callbacks = [\n",
        "    keras.callbacks.ModelCheckpoint(\n",
        "        filepath=\"fine_tuning.keras\",\n",
        "        save_best_only=True,\n",
        "        monitor=\"val_loss\")\n",
        "]\n",
        "history = model.fit(\n",
        "    train_dataset,\n",
        "    epochs=30,\n",
        "    validation_data=validation_dataset,\n",
        "    callbacks=callbacks)"
      ],
      "metadata": {
        "colab": {
          "base_uri": "https://localhost:8080/"
        },
        "id": "KibRm4caRSYn",
        "outputId": "9899d2bd-1c6b-4f69-a3b3-d8b59431e228"
      },
      "execution_count": 50,
      "outputs": [
        {
          "output_type": "stream",
          "name": "stdout",
          "text": [
            "Epoch 1/30\n",
            "63/63 [==============================] - 16s 231ms/step - loss: 0.5587 - accuracy: 0.9875 - val_loss: 1.5830 - val_accuracy: 0.9750\n",
            "Epoch 2/30\n",
            "63/63 [==============================] - 15s 231ms/step - loss: 0.3580 - accuracy: 0.9895 - val_loss: 2.3567 - val_accuracy: 0.9740\n",
            "Epoch 3/30\n",
            "63/63 [==============================] - 15s 237ms/step - loss: 0.5348 - accuracy: 0.9895 - val_loss: 2.3433 - val_accuracy: 0.9710\n",
            "Epoch 4/30\n",
            "63/63 [==============================] - 15s 238ms/step - loss: 0.2334 - accuracy: 0.9890 - val_loss: 1.5801 - val_accuracy: 0.9850\n",
            "Epoch 5/30\n",
            "63/63 [==============================] - 15s 229ms/step - loss: 0.1789 - accuracy: 0.9925 - val_loss: 1.8252 - val_accuracy: 0.9780\n",
            "Epoch 6/30\n",
            "63/63 [==============================] - 15s 233ms/step - loss: 0.3959 - accuracy: 0.9945 - val_loss: 1.6276 - val_accuracy: 0.9830\n",
            "Epoch 7/30\n",
            "63/63 [==============================] - 15s 235ms/step - loss: 0.2331 - accuracy: 0.9940 - val_loss: 1.4016 - val_accuracy: 0.9810\n",
            "Epoch 8/30\n",
            "63/63 [==============================] - 15s 236ms/step - loss: 0.2749 - accuracy: 0.9910 - val_loss: 1.0941 - val_accuracy: 0.9840\n",
            "Epoch 9/30\n",
            "63/63 [==============================] - 15s 239ms/step - loss: 0.1902 - accuracy: 0.9935 - val_loss: 1.0438 - val_accuracy: 0.9800\n",
            "Epoch 10/30\n",
            "63/63 [==============================] - 15s 230ms/step - loss: 0.3416 - accuracy: 0.9920 - val_loss: 1.2730 - val_accuracy: 0.9820\n",
            "Epoch 11/30\n",
            "63/63 [==============================] - 15s 232ms/step - loss: 0.2444 - accuracy: 0.9940 - val_loss: 1.3272 - val_accuracy: 0.9810\n",
            "Epoch 12/30\n",
            "63/63 [==============================] - 15s 229ms/step - loss: 0.1048 - accuracy: 0.9960 - val_loss: 1.8746 - val_accuracy: 0.9750\n",
            "Epoch 13/30\n",
            "63/63 [==============================] - 15s 228ms/step - loss: 0.2486 - accuracy: 0.9920 - val_loss: 1.3727 - val_accuracy: 0.9810\n",
            "Epoch 14/30\n",
            "63/63 [==============================] - 15s 233ms/step - loss: 0.2626 - accuracy: 0.9935 - val_loss: 0.8930 - val_accuracy: 0.9840\n",
            "Epoch 15/30\n",
            "63/63 [==============================] - 15s 233ms/step - loss: 0.2634 - accuracy: 0.9915 - val_loss: 1.1181 - val_accuracy: 0.9790\n",
            "Epoch 16/30\n",
            "63/63 [==============================] - 15s 230ms/step - loss: 0.0706 - accuracy: 0.9955 - val_loss: 1.1153 - val_accuracy: 0.9840\n",
            "Epoch 17/30\n",
            "63/63 [==============================] - 15s 229ms/step - loss: 0.1907 - accuracy: 0.9955 - val_loss: 1.0380 - val_accuracy: 0.9790\n",
            "Epoch 18/30\n",
            "63/63 [==============================] - 14s 225ms/step - loss: 0.1903 - accuracy: 0.9950 - val_loss: 1.2642 - val_accuracy: 0.9760\n",
            "Epoch 19/30\n",
            "63/63 [==============================] - 14s 224ms/step - loss: 0.1750 - accuracy: 0.9945 - val_loss: 1.2273 - val_accuracy: 0.9790\n",
            "Epoch 20/30\n",
            "63/63 [==============================] - 15s 228ms/step - loss: 0.1845 - accuracy: 0.9970 - val_loss: 1.0910 - val_accuracy: 0.9810\n",
            "Epoch 21/30\n",
            "63/63 [==============================] - 15s 232ms/step - loss: 0.2065 - accuracy: 0.9965 - val_loss: 1.0655 - val_accuracy: 0.9800\n",
            "Epoch 22/30\n",
            "63/63 [==============================] - 15s 232ms/step - loss: 0.0513 - accuracy: 0.9970 - val_loss: 1.0704 - val_accuracy: 0.9800\n",
            "Epoch 23/30\n",
            "63/63 [==============================] - 15s 229ms/step - loss: 0.1024 - accuracy: 0.9950 - val_loss: 1.1530 - val_accuracy: 0.9800\n",
            "Epoch 24/30\n",
            "63/63 [==============================] - 15s 231ms/step - loss: 0.1206 - accuracy: 0.9945 - val_loss: 1.1972 - val_accuracy: 0.9770\n",
            "Epoch 25/30\n",
            "63/63 [==============================] - 15s 229ms/step - loss: 0.1215 - accuracy: 0.9955 - val_loss: 1.1849 - val_accuracy: 0.9830\n",
            "Epoch 26/30\n",
            "63/63 [==============================] - 15s 232ms/step - loss: 0.0683 - accuracy: 0.9980 - val_loss: 1.0240 - val_accuracy: 0.9790\n",
            "Epoch 27/30\n",
            "63/63 [==============================] - 15s 232ms/step - loss: 0.2945 - accuracy: 0.9940 - val_loss: 1.0131 - val_accuracy: 0.9790\n",
            "Epoch 28/30\n",
            "63/63 [==============================] - 15s 232ms/step - loss: 0.0955 - accuracy: 0.9955 - val_loss: 1.1397 - val_accuracy: 0.9790\n",
            "Epoch 29/30\n",
            "63/63 [==============================] - 15s 234ms/step - loss: 0.1243 - accuracy: 0.9960 - val_loss: 1.1358 - val_accuracy: 0.9800\n",
            "Epoch 30/30\n",
            "63/63 [==============================] - 15s 231ms/step - loss: 0.0545 - accuracy: 0.9960 - val_loss: 0.9592 - val_accuracy: 0.9790\n"
          ]
        }
      ]
    },
    {
      "cell_type": "code",
      "source": [
        "model = keras.models.load_model(\"fine_tuning.keras\")\n",
        "test_loss, test_acc = model.evaluate(test_dataset)\n",
        "print(f\"Test accuracy: {test_acc:.3f}\")"
      ],
      "metadata": {
        "colab": {
          "base_uri": "https://localhost:8080/"
        },
        "id": "l9aTJAACTVFY",
        "outputId": "a021412f-54c2-44e1-ecc5-682a5a295756"
      },
      "execution_count": 51,
      "outputs": [
        {
          "output_type": "stream",
          "name": "stdout",
          "text": [
            "32/32 [==============================] - 4s 114ms/step - loss: 1.5654 - accuracy: 0.9780\n",
            "Test accuracy: 0.978\n"
          ]
        }
      ]
    },
    {
      "cell_type": "markdown",
      "source": [
        "# Summary\n",
        "using the pre-trained model with out Augmentation\n",
        "\n",
        "we find that the validation accuracy of about it indicates that we were able to achieve an improvement from the above when we started from the small scratch with the small model.and also when using pre-trained features,this isn't always the case. Despite employing a high rate of dropout ,the plots also show that we are overfitting nearly from the beginning.This is due to fact that this method does not employ data augmentation ,which is critical for avoiding overfitting with the tiny images data set. using the pre-trained model with augmentation The accuracy of a model is always determined by the collection of samples used to test it! some samples sets may be more challenging than others, and good results on one set may not necessarily apply to all others .Pretrained model was created as a result of it there was a small gain in accuracy with augmentation from 98% to - 99%\n",
        "\n",
        "using pre-trained models with fine tuning we have a test accuracy of 97.5% in the case With the one point range accuracy ,the accuracy results may varry"
      ],
      "metadata": {
        "id": "2FJx6AFeTmK2"
      }
    }
  ],
  "metadata": {
    "colab": {
      "collapsed_sections": [],
      "name": "chapter09_part02_modern-convnet-architecture-patterns.i",
      "provenance": [],
      "toc_visible": true
    },
    "kernelspec": {
      "display_name": "Python 3",
      "language": "python",
      "name": "python3"
    },
    "language_info": {
      "codemirror_mode": {
        "name": "ipython",
        "version": 3
      },
      "file_extension": ".py",
      "mimetype": "text/x-python",
      "name": "python",
      "nbconvert_exporter": "python",
      "pygments_lexer": "ipython3",
      "version": "3.7.0"
    },
    "accelerator": "GPU",
    "gpuClass": "standard"
  },
  "nbformat": 4,
  "nbformat_minor": 0
}