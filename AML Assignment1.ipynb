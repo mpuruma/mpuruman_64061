{
  "cells": [
    {
      "cell_type": "markdown",
      "metadata": {
        "id": "1Td1jJzuqmYM"
      },
      "source": [
        "This is a companion notebook for the book [Deep Learning with Python, Second Edition](https://www.manning.com/books/deep-learning-with-python-second-edition?a_aid=keras&a_bid=76564dff). For readability, it only contains runnable code blocks and section titles, and omits everything else in the book: text paragraphs, figures, and pseudocode.\n",
        "\n",
        "**If you want to be able to follow what's going on, I recommend reading the notebook side by side with your copy of the book.**\n",
        "\n",
        "This notebook was generated for TensorFlow 2.6."
      ]
    },
    {
      "cell_type": "markdown",
      "metadata": {
        "id": "lxhCfDf2qmYO"
      },
      "source": [
        "# Getting started with neural networks: Classification and regression"
      ]
    },
    {
      "cell_type": "markdown",
      "metadata": {
        "id": "BijwKfFvqmYP"
      },
      "source": [
        "## Classifying movie reviews: A binary classification example"
      ]
    },
    {
      "cell_type": "markdown",
      "metadata": {
        "id": "cIghbO2SqmYP"
      },
      "source": [
        "### The IMDB dataset"
      ]
    },
    {
      "cell_type": "markdown",
      "metadata": {
        "id": "0h36yiAxqmYQ"
      },
      "source": [
        "**Loading the IMDB dataset**"
      ]
    },
    {
      "cell_type": "code",
      "execution_count": 4,
      "metadata": {
        "id": "XQzku4QkqmYQ"
      },
      "outputs": [],
      "source": [
        "from tensorflow.keras.datasets import imdb\n",
        "(train_data, train_labels), (test_data, test_labels) = imdb.load_data(\n",
        "    num_words=10000)"
      ]
    },
    {
      "cell_type": "code",
      "execution_count": 5,
      "metadata": {
        "colab": {
          "base_uri": "https://localhost:8080/"
        },
        "id": "tgTMXb8lqmYR",
        "outputId": "afae14ba-a43c-4a27-8208-873fc7355f9a"
      },
      "outputs": [
        {
          "output_type": "execute_result",
          "data": {
            "text/plain": [
              "[1,\n",
              " 14,\n",
              " 22,\n",
              " 16,\n",
              " 43,\n",
              " 530,\n",
              " 973,\n",
              " 1622,\n",
              " 1385,\n",
              " 65,\n",
              " 458,\n",
              " 4468,\n",
              " 66,\n",
              " 3941,\n",
              " 4,\n",
              " 173,\n",
              " 36,\n",
              " 256,\n",
              " 5,\n",
              " 25,\n",
              " 100,\n",
              " 43,\n",
              " 838,\n",
              " 112,\n",
              " 50,\n",
              " 670,\n",
              " 2,\n",
              " 9,\n",
              " 35,\n",
              " 480,\n",
              " 284,\n",
              " 5,\n",
              " 150,\n",
              " 4,\n",
              " 172,\n",
              " 112,\n",
              " 167,\n",
              " 2,\n",
              " 336,\n",
              " 385,\n",
              " 39,\n",
              " 4,\n",
              " 172,\n",
              " 4536,\n",
              " 1111,\n",
              " 17,\n",
              " 546,\n",
              " 38,\n",
              " 13,\n",
              " 447,\n",
              " 4,\n",
              " 192,\n",
              " 50,\n",
              " 16,\n",
              " 6,\n",
              " 147,\n",
              " 2025,\n",
              " 19,\n",
              " 14,\n",
              " 22,\n",
              " 4,\n",
              " 1920,\n",
              " 4613,\n",
              " 469,\n",
              " 4,\n",
              " 22,\n",
              " 71,\n",
              " 87,\n",
              " 12,\n",
              " 16,\n",
              " 43,\n",
              " 530,\n",
              " 38,\n",
              " 76,\n",
              " 15,\n",
              " 13,\n",
              " 1247,\n",
              " 4,\n",
              " 22,\n",
              " 17,\n",
              " 515,\n",
              " 17,\n",
              " 12,\n",
              " 16,\n",
              " 626,\n",
              " 18,\n",
              " 2,\n",
              " 5,\n",
              " 62,\n",
              " 386,\n",
              " 12,\n",
              " 8,\n",
              " 316,\n",
              " 8,\n",
              " 106,\n",
              " 5,\n",
              " 4,\n",
              " 2223,\n",
              " 5244,\n",
              " 16,\n",
              " 480,\n",
              " 66,\n",
              " 3785,\n",
              " 33,\n",
              " 4,\n",
              " 130,\n",
              " 12,\n",
              " 16,\n",
              " 38,\n",
              " 619,\n",
              " 5,\n",
              " 25,\n",
              " 124,\n",
              " 51,\n",
              " 36,\n",
              " 135,\n",
              " 48,\n",
              " 25,\n",
              " 1415,\n",
              " 33,\n",
              " 6,\n",
              " 22,\n",
              " 12,\n",
              " 215,\n",
              " 28,\n",
              " 77,\n",
              " 52,\n",
              " 5,\n",
              " 14,\n",
              " 407,\n",
              " 16,\n",
              " 82,\n",
              " 2,\n",
              " 8,\n",
              " 4,\n",
              " 107,\n",
              " 117,\n",
              " 5952,\n",
              " 15,\n",
              " 256,\n",
              " 4,\n",
              " 2,\n",
              " 7,\n",
              " 3766,\n",
              " 5,\n",
              " 723,\n",
              " 36,\n",
              " 71,\n",
              " 43,\n",
              " 530,\n",
              " 476,\n",
              " 26,\n",
              " 400,\n",
              " 317,\n",
              " 46,\n",
              " 7,\n",
              " 4,\n",
              " 2,\n",
              " 1029,\n",
              " 13,\n",
              " 104,\n",
              " 88,\n",
              " 4,\n",
              " 381,\n",
              " 15,\n",
              " 297,\n",
              " 98,\n",
              " 32,\n",
              " 2071,\n",
              " 56,\n",
              " 26,\n",
              " 141,\n",
              " 6,\n",
              " 194,\n",
              " 7486,\n",
              " 18,\n",
              " 4,\n",
              " 226,\n",
              " 22,\n",
              " 21,\n",
              " 134,\n",
              " 476,\n",
              " 26,\n",
              " 480,\n",
              " 5,\n",
              " 144,\n",
              " 30,\n",
              " 5535,\n",
              " 18,\n",
              " 51,\n",
              " 36,\n",
              " 28,\n",
              " 224,\n",
              " 92,\n",
              " 25,\n",
              " 104,\n",
              " 4,\n",
              " 226,\n",
              " 65,\n",
              " 16,\n",
              " 38,\n",
              " 1334,\n",
              " 88,\n",
              " 12,\n",
              " 16,\n",
              " 283,\n",
              " 5,\n",
              " 16,\n",
              " 4472,\n",
              " 113,\n",
              " 103,\n",
              " 32,\n",
              " 15,\n",
              " 16,\n",
              " 5345,\n",
              " 19,\n",
              " 178,\n",
              " 32]"
            ]
          },
          "metadata": {},
          "execution_count": 5
        }
      ],
      "source": [
        "train_data[0]"
      ]
    },
    {
      "cell_type": "code",
      "execution_count": 6,
      "metadata": {
        "colab": {
          "base_uri": "https://localhost:8080/"
        },
        "id": "S0CRDY6cqmYR",
        "outputId": "96f337a7-3190-4a63-d672-a0da499c826a"
      },
      "outputs": [
        {
          "output_type": "execute_result",
          "data": {
            "text/plain": [
              "1"
            ]
          },
          "metadata": {},
          "execution_count": 6
        }
      ],
      "source": [
        "train_labels[0]"
      ]
    },
    {
      "cell_type": "code",
      "execution_count": 7,
      "metadata": {
        "colab": {
          "base_uri": "https://localhost:8080/"
        },
        "id": "s27FpbYIqmYR",
        "outputId": "75b45de6-f705-4e17-e559-3ddff07e186d"
      },
      "outputs": [
        {
          "output_type": "execute_result",
          "data": {
            "text/plain": [
              "9999"
            ]
          },
          "metadata": {},
          "execution_count": 7
        }
      ],
      "source": [
        "max([max(sequence) for sequence in train_data])"
      ]
    },
    {
      "cell_type": "markdown",
      "metadata": {
        "id": "vQve3Q4qqmYS"
      },
      "source": [
        "**Decoding reviews back to text**"
      ]
    },
    {
      "cell_type": "code",
      "execution_count": 8,
      "metadata": {
        "id": "Hzy5qxApqmYS"
      },
      "outputs": [],
      "source": [
        "word_index = imdb.get_word_index()\n",
        "reverse_word_index = dict(\n",
        "    [(value, key) for (key, value) in word_index.items()])\n",
        "decoded_review = \" \".join(\n",
        "    [reverse_word_index.get(i - 3, \"?\") for i in train_data[0]])"
      ]
    },
    {
      "cell_type": "markdown",
      "metadata": {
        "id": "eoI5o1hWqmYS"
      },
      "source": [
        "### Preparing the data"
      ]
    },
    {
      "cell_type": "markdown",
      "metadata": {
        "id": "4ZntkVijqmYS"
      },
      "source": [
        "**Encoding the integer sequences via multi-hot encoding**"
      ]
    },
    {
      "cell_type": "code",
      "execution_count": 9,
      "metadata": {
        "id": "egx5Ep4wqmYS"
      },
      "outputs": [],
      "source": [
        "import numpy as np\n",
        "def vectorize_sequences(sequences, dimension=10000):\n",
        "    results = np.zeros((len(sequences), dimension))\n",
        "    for i, sequence in enumerate(sequences):\n",
        "        for j in sequence:\n",
        "            results[i, j] = 1.\n",
        "    return results\n",
        "x_train = vectorize_sequences(train_data)\n",
        "x_test = vectorize_sequences(test_data)"
      ]
    },
    {
      "cell_type": "code",
      "execution_count": 10,
      "metadata": {
        "colab": {
          "base_uri": "https://localhost:8080/"
        },
        "id": "lSYmRGD8qmYS",
        "outputId": "73bd9b0b-f17a-4508-f3ac-544ba5e25c5a"
      },
      "outputs": [
        {
          "output_type": "execute_result",
          "data": {
            "text/plain": [
              "array([0., 1., 1., ..., 0., 0., 0.])"
            ]
          },
          "metadata": {},
          "execution_count": 10
        }
      ],
      "source": [
        "x_train[0]"
      ]
    },
    {
      "cell_type": "code",
      "execution_count": 11,
      "metadata": {
        "id": "gKcGA1r_qmYT"
      },
      "outputs": [],
      "source": [
        "y_train = np.asarray(train_labels).astype(\"float32\")\n",
        "y_test = np.asarray(test_labels).astype(\"float32\")"
      ]
    },
    {
      "cell_type": "markdown",
      "metadata": {
        "id": "kkRUU_j4qmYT"
      },
      "source": [
        "### Building your model"
      ]
    },
    {
      "cell_type": "markdown",
      "metadata": {
        "id": "Bh8kCmxlqmYT"
      },
      "source": [
        "**Model definition**"
      ]
    },
    {
      "cell_type": "code",
      "execution_count": 12,
      "metadata": {
        "id": "vGzoo_wZqmYT"
      },
      "outputs": [],
      "source": [
        "from tensorflow import keras\n",
        "from tensorflow.keras import layers\n",
        "\n",
        "model = keras.Sequential([\n",
        "    layers.Dense(16, activation=\"relu\"),\n",
        "    layers.Dense(16, activation=\"relu\"),\n",
        "    layers.Dense(1, activation=\"sigmoid\")\n",
        "])"
      ]
    },
    {
      "cell_type": "markdown",
      "metadata": {
        "id": "nGsmihNYqmYT"
      },
      "source": [
        "**Compiling the model**"
      ]
    },
    {
      "cell_type": "code",
      "execution_count": 13,
      "metadata": {
        "id": "5NMIxI4UqmYT"
      },
      "outputs": [],
      "source": [
        "model.compile(optimizer=\"adam\",\n",
        "              loss=\"binary_crossentropy\",\n",
        "              metrics=[\"accuracy\"])"
      ]
    },
    {
      "cell_type": "markdown",
      "metadata": {
        "id": "IiyzQTm2qmYT"
      },
      "source": [
        "### Validating your approach"
      ]
    },
    {
      "cell_type": "markdown",
      "metadata": {
        "id": "WY6fv3mqqmYT"
      },
      "source": [
        "**Setting aside a validation set**"
      ]
    },
    {
      "cell_type": "code",
      "execution_count": 14,
      "metadata": {
        "id": "oG0xlGNxqmYU"
      },
      "outputs": [],
      "source": [
        "x_val = x_train[:10000]\n",
        "partial_x_train = x_train[10000:]\n",
        "y_val = y_train[:10000]\n",
        "partial_y_train = y_train[10000:]"
      ]
    },
    {
      "cell_type": "markdown",
      "metadata": {
        "id": "aNcI2nMsqmYU"
      },
      "source": [
        "**Training your model**"
      ]
    },
    {
      "cell_type": "code",
      "execution_count": 15,
      "metadata": {
        "colab": {
          "base_uri": "https://localhost:8080/"
        },
        "id": "v7Xef9Z3qmYU",
        "outputId": "19b2d867-37df-4d60-a7ad-86d6c67ebd84"
      },
      "outputs": [
        {
          "output_type": "stream",
          "name": "stdout",
          "text": [
            "Epoch 1/20\n",
            "30/30 [==============================] - 2s 52ms/step - loss: 0.6040 - accuracy: 0.6091 - val_loss: 0.5142 - val_accuracy: 0.8058\n",
            "Epoch 2/20\n",
            "30/30 [==============================] - 1s 37ms/step - loss: 0.4036 - accuracy: 0.8838 - val_loss: 0.3551 - val_accuracy: 0.8769\n",
            "Epoch 3/20\n",
            "30/30 [==============================] - 1s 39ms/step - loss: 0.2471 - accuracy: 0.9313 - val_loss: 0.2914 - val_accuracy: 0.8881\n",
            "Epoch 4/20\n",
            "30/30 [==============================] - 1s 36ms/step - loss: 0.1717 - accuracy: 0.9497 - val_loss: 0.2823 - val_accuracy: 0.8871\n",
            "Epoch 5/20\n",
            "30/30 [==============================] - 1s 36ms/step - loss: 0.1275 - accuracy: 0.9653 - val_loss: 0.2908 - val_accuracy: 0.8864\n",
            "Epoch 6/20\n",
            "30/30 [==============================] - 1s 37ms/step - loss: 0.0974 - accuracy: 0.9775 - val_loss: 0.3082 - val_accuracy: 0.8817\n",
            "Epoch 7/20\n",
            "30/30 [==============================] - 1s 36ms/step - loss: 0.0748 - accuracy: 0.9852 - val_loss: 0.3321 - val_accuracy: 0.8806\n",
            "Epoch 8/20\n",
            "30/30 [==============================] - 1s 36ms/step - loss: 0.0574 - accuracy: 0.9904 - val_loss: 0.3562 - val_accuracy: 0.8794\n",
            "Epoch 9/20\n",
            "30/30 [==============================] - 1s 36ms/step - loss: 0.0432 - accuracy: 0.9934 - val_loss: 0.3846 - val_accuracy: 0.8751\n",
            "Epoch 10/20\n",
            "30/30 [==============================] - 1s 37ms/step - loss: 0.0326 - accuracy: 0.9961 - val_loss: 0.4108 - val_accuracy: 0.8755\n",
            "Epoch 11/20\n",
            "30/30 [==============================] - 1s 36ms/step - loss: 0.0246 - accuracy: 0.9975 - val_loss: 0.4366 - val_accuracy: 0.8739\n",
            "Epoch 12/20\n",
            "30/30 [==============================] - 1s 35ms/step - loss: 0.0189 - accuracy: 0.9985 - val_loss: 0.4581 - val_accuracy: 0.8724\n",
            "Epoch 13/20\n",
            "30/30 [==============================] - 1s 36ms/step - loss: 0.0146 - accuracy: 0.9990 - val_loss: 0.4810 - val_accuracy: 0.8721\n",
            "Epoch 14/20\n",
            "30/30 [==============================] - 1s 36ms/step - loss: 0.0113 - accuracy: 0.9995 - val_loss: 0.5076 - val_accuracy: 0.8710\n",
            "Epoch 15/20\n",
            "30/30 [==============================] - 1s 38ms/step - loss: 0.0088 - accuracy: 0.9995 - val_loss: 0.5262 - val_accuracy: 0.8717\n",
            "Epoch 16/20\n",
            "30/30 [==============================] - 1s 37ms/step - loss: 0.0072 - accuracy: 0.9997 - val_loss: 0.5470 - val_accuracy: 0.8711\n",
            "Epoch 17/20\n",
            "30/30 [==============================] - 1s 36ms/step - loss: 0.0060 - accuracy: 0.9997 - val_loss: 0.5622 - val_accuracy: 0.8710\n",
            "Epoch 18/20\n",
            "30/30 [==============================] - 1s 36ms/step - loss: 0.0050 - accuracy: 0.9998 - val_loss: 0.5838 - val_accuracy: 0.8701\n",
            "Epoch 19/20\n",
            "30/30 [==============================] - 1s 36ms/step - loss: 0.0043 - accuracy: 0.9999 - val_loss: 0.5969 - val_accuracy: 0.8699\n",
            "Epoch 20/20\n",
            "30/30 [==============================] - 1s 39ms/step - loss: 0.0037 - accuracy: 0.9999 - val_loss: 0.6133 - val_accuracy: 0.8703\n"
          ]
        }
      ],
      "source": [
        "history = model.fit(partial_x_train,\n",
        "                    partial_y_train,\n",
        "                    epochs=20,\n",
        "                    batch_size=512,\n",
        "                    validation_data=(x_val, y_val))"
      ]
    },
    {
      "cell_type": "code",
      "execution_count": 16,
      "metadata": {
        "colab": {
          "base_uri": "https://localhost:8080/"
        },
        "id": "U-f8xyXxqmYU",
        "outputId": "3838ac14-006c-4997-e5dd-1999a222e435"
      },
      "outputs": [
        {
          "output_type": "execute_result",
          "data": {
            "text/plain": [
              "dict_keys(['loss', 'accuracy', 'val_loss', 'val_accuracy'])"
            ]
          },
          "metadata": {},
          "execution_count": 16
        }
      ],
      "source": [
        "history_dict = history.history\n",
        "history_dict.keys()"
      ]
    },
    {
      "cell_type": "markdown",
      "metadata": {
        "id": "6opiNlc-qmYU"
      },
      "source": [
        "**Plotting the training and validation loss**"
      ]
    },
    {
      "cell_type": "code",
      "execution_count": 17,
      "metadata": {
        "colab": {
          "base_uri": "https://localhost:8080/",
          "height": 295
        },
        "id": "Xwnlhc2ZqmYU",
        "outputId": "ed67cfd7-919a-49bc-99ed-9969987467dd"
      },
      "outputs": [
        {
          "output_type": "display_data",
          "data": {
            "text/plain": [
              "<Figure size 432x288 with 1 Axes>"
            ],
            "image/png": "[encoded data removed]"
          },
          "metadata": {
            "needs_background": "light"
          }
        }
      ],
      "source": [
        "import matplotlib.pyplot as plt\n",
        "history_dict = history.history\n",
        "loss_values = history_dict[\"loss\"]\n",
        "val_loss_values = history_dict[\"val_loss\"]\n",
        "epochs = range(1, len(loss_values) + 1)\n",
        "plt.plot(epochs, loss_values, \"bo\", label=\"Training loss\")\n",
        "plt.plot(epochs, val_loss_values, \"b\", label=\"Validation loss\")\n",
        "plt.title(\"Training and validation loss\")\n",
        "plt.xlabel(\"Epochs\")\n",
        "plt.ylabel(\"Loss\")\n",
        "plt.legend()\n",
        "plt.show()"
      ]
    },
    {
      "cell_type": "markdown",
      "metadata": {
        "id": "184127eqqmYU"
      },
      "source": [
        "**Plotting the training and validation accuracy**"
      ]
    },
    {
      "cell_type": "code",
      "execution_count": 18,
      "metadata": {
        "colab": {
          "base_uri": "https://localhost:8080/",
          "height": 295
        },
        "id": "usaO79esqmYU",
        "outputId": "4cfe3225-8327-496a-89c0-0ecbac41a92a"
      },
      "outputs": [
        {
          "output_type": "display_data",
          "data": {
            "text/plain": [
              "<Figure size 432x288 with 1 Axes>"
            ],
            "image/png": "[encoded data removed]"
          },
          "metadata": {
            "needs_background": "light"
          }
        }
      ],
      "source": [
        "plt.clf()\n",
        "acc = history_dict[\"accuracy\"]\n",
        "val_acc = history_dict[\"val_accuracy\"]\n",
        "plt.plot(epochs, acc, \"bo\", label=\"Training acc\")\n",
        "plt.plot(epochs, val_acc, \"b\", label=\"Validation acc\")\n",
        "plt.title(\"Training and validation accuracy\")\n",
        "plt.xlabel(\"Epochs\")\n",
        "plt.ylabel(\"Accuracy\")\n",
        "plt.legend()\n",
        "plt.show()"
      ]
    },
    {
      "cell_type": "markdown",
      "metadata": {
        "id": "FKKwhM4zqmYU"
      },
      "source": [
        "**Retraining a model from scratch**"
      ]
    },
    {
      "cell_type": "code",
      "execution_count": 19,
      "metadata": {
        "colab": {
          "base_uri": "https://localhost:8080/"
        },
        "id": "8wTFRrnGqmYU",
        "outputId": "fe9342dd-7298-48cd-bed6-0d45a7d418b8"
      },
      "outputs": [
        {
          "output_type": "stream",
          "name": "stdout",
          "text": [
            "Epoch 1/4\n",
            "49/49 [==============================] - 2s 29ms/step - loss: 0.4584 - accuracy: 0.8155\n",
            "Epoch 2/4\n",
            "49/49 [==============================] - 1s 29ms/step - loss: 0.2348 - accuracy: 0.9154\n",
            "Epoch 3/4\n",
            "49/49 [==============================] - 1s 29ms/step - loss: 0.1730 - accuracy: 0.9398\n",
            "Epoch 4/4\n",
            "49/49 [==============================] - 1s 28ms/step - loss: 0.1372 - accuracy: 0.9531\n",
            "782/782 [==============================] - 2s 3ms/step - loss: 0.3344 - accuracy: 0.8756\n"
          ]
        }
      ],
      "source": [
        "model = keras.Sequential([\n",
        "    layers.Dense(16, activation=\"relu\"),\n",
        "    layers.Dense(16, activation=\"relu\"),\n",
        "    layers.Dense(1, activation=\"sigmoid\")\n",
        "])\n",
        "model.compile(optimizer=\"adam\",\n",
        "              loss=\"binary_crossentropy\",\n",
        "              metrics=[\"accuracy\"])\n",
        "model.fit(x_train, y_train, epochs=4, batch_size=512)\n",
        "results = model.evaluate(x_test, y_test)"
      ]
    },
    {
      "cell_type": "code",
      "execution_count": 20,
      "metadata": {
        "colab": {
          "base_uri": "https://localhost:8080/"
        },
        "id": "MsleRYngqmYV",
        "outputId": "18ae1616-ac78-4424-a740-893dbf5a89ba"
      },
      "outputs": [
        {
          "output_type": "execute_result",
          "data": {
            "text/plain": [
              "[0.33442655205726624, 0.8755999803543091]"
            ]
          },
          "metadata": {},
          "execution_count": 20
        }
      ],
      "source": [
        "results"
      ]
    },
    {
      "cell_type": "markdown",
      "metadata": {
        "id": "JxHjfOoHqmYV"
      },
      "source": [
        "### Using a trained model to generate predictions on new data"
      ]
    },
    {
      "cell_type": "code",
      "execution_count": 22,
      "metadata": {
        "colab": {
          "base_uri": "https://localhost:8080/"
        },
        "id": "mqDEjQzcqmYV",
        "outputId": "cf6c00f4-6051-4530-d894-709d3c31c33f"
      },
      "outputs": [
        {
          "output_type": "execute_result",
          "data": {
            "text/plain": [
              "array([[0.20646685],\n",
              "       [0.999994  ],\n",
              "       [0.83366156],\n",
              "       ...,\n",
              "       [0.12164986],\n",
              "       [0.08138174],\n",
              "       [0.84866035]], dtype=float32)"
            ]
          },
          "metadata": {},
          "execution_count": 22
        }
      ],
      "source": [
        "model.predict(x_test)"
      ]
    },
    {
      "cell_type": "code",
      "source": [
        "model_2 = keras.Sequential([\n",
        "    layers.Dense(16, activation=\"relu\"),\n",
        "    layers.Dense(16, activation=\"relu\"),\n",
        "    layers.Dense(1, activation=\"sigmoid\")\n",
        "])\n",
        "model_2.compile(optimizer=\"adam\",\n",
        "              loss=\"binary_crossentropy\",\n",
        "              metrics=[\"accuracy\"])\n",
        "model_2.fit(x_train, y_train, epochs=5, batch_size=512)\n",
        "results = model_2.evaluate(x_test, y_test)"
      ],
      "metadata": {
        "colab": {
          "base_uri": "https://localhost:8080/"
        },
        "id": "I_julYw3rtjB",
        "outputId": "d569eceb-1c4c-45a7-cedc-e9f2ea67ad94"
      },
      "execution_count": 23,
      "outputs": [
        {
          "output_type": "stream",
          "name": "stdout",
          "text": [
            "Epoch 1/5\n",
            "49/49 [==============================] - 2s 31ms/step - loss: 0.5052 - accuracy: 0.7988\n",
            "Epoch 2/5\n",
            "49/49 [==============================] - 1s 30ms/step - loss: 0.2535 - accuracy: 0.9091\n",
            "Epoch 3/5\n",
            "49/49 [==============================] - 1s 30ms/step - loss: 0.1840 - accuracy: 0.9352\n",
            "Epoch 4/5\n",
            "49/49 [==============================] - 2s 31ms/step - loss: 0.1484 - accuracy: 0.9490\n",
            "Epoch 5/5\n",
            "49/49 [==============================] - 1s 30ms/step - loss: 0.1205 - accuracy: 0.9608\n",
            "782/782 [==============================] - 2s 3ms/step - loss: 0.3338 - accuracy: 0.8764\n"
          ]
        }
      ]
    },
    {
      "cell_type": "code",
      "source": [
        "results"
      ],
      "metadata": {
        "colab": {
          "base_uri": "https://localhost:8080/"
        },
        "id": "6oJo3Zncr1TI",
        "outputId": "0597c4e3-5198-49fb-d7db-41d358f6c2df"
      },
      "execution_count": 30,
      "outputs": [
        {
          "output_type": "execute_result",
          "data": {
            "text/plain": [
              "[0.3337852656841278, 0.8764399886131287]"
            ]
          },
          "metadata": {},
          "execution_count": 30
        }
      ]
    },
    {
      "cell_type": "markdown",
      "source": [
        "Model-1.1 Trained with 3 layers"
      ],
      "metadata": {
        "id": "wnQHLJMVr1_q"
      }
    },
    {
      "cell_type": "code",
      "source": [
        "model_11 = keras.Sequential([\n",
        "    layers.Dense(16, activation=\"relu\"),\n",
        "    layers.Dense(16, activation=\"relu\"),\n",
        "    layers.Dense(16, activation=\"relu\"),\n",
        "    layers.Dense(1, activation=\"sigmoid\")\n",
        "])\n",
        "model_11.compile(optimizer=\"adam\",\n",
        "              loss=\"binary_crossentropy\",\n",
        "              metrics=[\"accuracy\"])\n",
        "history3 = model_11.fit(partial_x_train,\n",
        "                    partial_y_train,\n",
        "                    epochs=20,\n",
        "                    batch_size=512,\n",
        "                    validation_data=(x_val, y_val))\n",
        "history_dict3 = history3.history\n",
        "history_dict3.keys()"
      ],
      "metadata": {
        "colab": {
          "base_uri": "https://localhost:8080/"
        },
        "id": "LWL795uTr4E_",
        "outputId": "e6efa7a9-776e-4001-f959-d45a96d3887d"
      },
      "execution_count": 25,
      "outputs": [
        {
          "output_type": "stream",
          "name": "stdout",
          "text": [
            "Epoch 1/20\n",
            "30/30 [==============================] - 2s 49ms/step - loss: 0.5640 - accuracy: 0.7642 - val_loss: 0.3917 - val_accuracy: 0.8589\n",
            "Epoch 2/20\n",
            "30/30 [==============================] - 1s 37ms/step - loss: 0.2794 - accuracy: 0.9074 - val_loss: 0.2854 - val_accuracy: 0.8855\n",
            "Epoch 3/20\n",
            "30/30 [==============================] - 1s 37ms/step - loss: 0.1759 - accuracy: 0.9412 - val_loss: 0.2813 - val_accuracy: 0.8879\n",
            "Epoch 4/20\n",
            "30/30 [==============================] - 1s 37ms/step - loss: 0.1201 - accuracy: 0.9638 - val_loss: 0.3043 - val_accuracy: 0.8845\n",
            "Epoch 5/20\n",
            "30/30 [==============================] - 1s 40ms/step - loss: 0.0847 - accuracy: 0.9778 - val_loss: 0.3385 - val_accuracy: 0.8800\n",
            "Epoch 6/20\n",
            "30/30 [==============================] - 1s 37ms/step - loss: 0.0574 - accuracy: 0.9878 - val_loss: 0.3821 - val_accuracy: 0.8789\n",
            "Epoch 7/20\n",
            "30/30 [==============================] - 1s 37ms/step - loss: 0.0377 - accuracy: 0.9935 - val_loss: 0.4306 - val_accuracy: 0.8758\n",
            "Epoch 8/20\n",
            "30/30 [==============================] - 1s 37ms/step - loss: 0.0246 - accuracy: 0.9975 - val_loss: 0.4773 - val_accuracy: 0.8737\n",
            "Epoch 9/20\n",
            "30/30 [==============================] - 1s 38ms/step - loss: 0.0157 - accuracy: 0.9989 - val_loss: 0.5269 - val_accuracy: 0.8684\n",
            "Epoch 10/20\n",
            "30/30 [==============================] - 1s 39ms/step - loss: 0.0103 - accuracy: 0.9997 - val_loss: 0.5685 - val_accuracy: 0.8681\n",
            "Epoch 11/20\n",
            "30/30 [==============================] - 1s 37ms/step - loss: 0.0069 - accuracy: 0.9997 - val_loss: 0.6055 - val_accuracy: 0.8674\n",
            "Epoch 12/20\n",
            "30/30 [==============================] - 1s 38ms/step - loss: 0.0048 - accuracy: 0.9999 - val_loss: 0.6370 - val_accuracy: 0.8674\n",
            "Epoch 13/20\n",
            "30/30 [==============================] - 1s 37ms/step - loss: 0.0037 - accuracy: 0.9999 - val_loss: 0.6677 - val_accuracy: 0.8651\n",
            "Epoch 14/20\n",
            "30/30 [==============================] - 1s 37ms/step - loss: 0.0029 - accuracy: 0.9999 - val_loss: 0.6919 - val_accuracy: 0.8653\n",
            "Epoch 15/20\n",
            "30/30 [==============================] - 1s 37ms/step - loss: 0.0023 - accuracy: 0.9999 - val_loss: 0.7150 - val_accuracy: 0.8654\n",
            "Epoch 16/20\n",
            "30/30 [==============================] - 1s 36ms/step - loss: 0.0019 - accuracy: 1.0000 - val_loss: 0.7361 - val_accuracy: 0.8653\n",
            "Epoch 17/20\n",
            "30/30 [==============================] - 1s 37ms/step - loss: 0.0015 - accuracy: 1.0000 - val_loss: 0.7561 - val_accuracy: 0.8673\n",
            "Epoch 18/20\n",
            "30/30 [==============================] - 1s 38ms/step - loss: 0.0013 - accuracy: 1.0000 - val_loss: 0.7725 - val_accuracy: 0.8654\n",
            "Epoch 19/20\n",
            "30/30 [==============================] - 1s 38ms/step - loss: 0.0011 - accuracy: 1.0000 - val_loss: 0.7909 - val_accuracy: 0.8645\n",
            "Epoch 20/20\n",
            "30/30 [==============================] - 1s 39ms/step - loss: 9.6181e-04 - accuracy: 1.0000 - val_loss: 0.8063 - val_accuracy: 0.8656\n"
          ]
        },
        {
          "output_type": "execute_result",
          "data": {
            "text/plain": [
              "dict_keys(['loss', 'accuracy', 'val_loss', 'val_accuracy'])"
            ]
          },
          "metadata": {},
          "execution_count": 25
        }
      ]
    },
    {
      "cell_type": "markdown",
      "source": [
        "Plotting graph between Training and Validation loss"
      ],
      "metadata": {
        "id": "rgUakXlOsGEN"
      }
    },
    {
      "cell_type": "code",
      "source": [
        "loss_values = history_dict3[\"loss\"]\n",
        "val_loss_values = history_dict3[\"val_loss\"]\n",
        "epochs = range(1, len(loss_values) + 1)\n",
        "plt.plot(epochs, loss_values, \"bo\", label=\"Training loss\")\n",
        "plt.plot(epochs, val_loss_values, \"b\", label=\"Validation loss\")\n",
        "plt.title(\"Training and validation loss\")\n",
        "plt.xlabel(\"Epochs\")\n",
        "plt.ylabel(\"Loss\")\n",
        "plt.legend()\n",
        "plt.show()"
      ],
      "metadata": {
        "colab": {
          "base_uri": "https://localhost:8080/",
          "height": 295
        },
        "id": "I0_lT6EcsGtJ",
        "outputId": "4495c5ba-69da-4a6b-cffd-101df0a9e629"
      },
      "execution_count": 31,
      "outputs": [
        {
          "output_type": "display_data",
          "data": {
            "text/plain": [
              "<Figure size 432x288 with 1 Axes>"
            ],
            "image/png": "[encoded data removed]"
          },
          "metadata": {
            "needs_background": "light"
          }
        }
      ]
    },
    {
      "cell_type": "markdown",
      "source": [
        "Plotting graph between Training and Validation accuracy"
      ],
      "metadata": {
        "id": "hm5TT47zsK8c"
      }
    },
    {
      "cell_type": "code",
      "source": [
        "plt.clf()\n",
        "acc = history_dict3[\"accuracy\"]\n",
        "val_acc = history_dict3[\"val_accuracy\"]\n",
        "plt.plot(epochs, acc, \"bo\", label=\"Training acc\")\n",
        "plt.plot(epochs, val_acc, \"b\", label=\"Validation acc\")\n",
        "plt.title(\"Training and validation accuracy\")\n",
        "plt.xlabel(\"Epochs\")\n",
        "plt.ylabel(\"Accuracy\")\n",
        "plt.legend()\n",
        "plt.show()"
      ],
      "metadata": {
        "colab": {
          "base_uri": "https://localhost:8080/",
          "height": 295
        },
        "id": "2oRAJYg9sMbA",
        "outputId": "f922bdd9-d41c-44e2-f4a0-26a74d5931ba"
      },
      "execution_count": 32,
      "outputs": [
        {
          "output_type": "display_data",
          "data": {
            "text/plain": [
              "<Figure size 432x288 with 1 Axes>"
            ],
            "image/png": "[encoded data removed]"
          },
          "metadata": {
            "needs_background": "light"
          }
        }
      ]
    },
    {
      "cell_type": "code",
      "source": [
        "model_11.fit(x_train, y_train, epochs=12, batch_size=512)\n",
        "results_M11 = model.evaluate(x_test, y_test)\n",
        "results_M11"
      ],
      "metadata": {
        "colab": {
          "base_uri": "https://localhost:8080/"
        },
        "id": "qw5w8_F4sPUb",
        "outputId": "39b60868-8818-4dba-de82-694f24fe29cf"
      },
      "execution_count": 28,
      "outputs": [
        {
          "output_type": "stream",
          "name": "stdout",
          "text": [
            "Epoch 1/12\n",
            "49/49 [==============================] - 1s 30ms/step - loss: 0.2688 - accuracy: 0.9289\n",
            "Epoch 2/12\n",
            "49/49 [==============================] - 1s 30ms/step - loss: 0.1259 - accuracy: 0.9593\n",
            "Epoch 3/12\n",
            "49/49 [==============================] - 1s 30ms/step - loss: 0.0784 - accuracy: 0.9779\n",
            "Epoch 4/12\n",
            "49/49 [==============================] - 1s 30ms/step - loss: 0.0519 - accuracy: 0.9875\n",
            "Epoch 5/12\n",
            "49/49 [==============================] - 1s 29ms/step - loss: 0.0346 - accuracy: 0.9942\n",
            "Epoch 6/12\n",
            "49/49 [==============================] - 1s 30ms/step - loss: 0.0228 - accuracy: 0.9967\n",
            "Epoch 7/12\n",
            "49/49 [==============================] - 1s 30ms/step - loss: 0.0157 - accuracy: 0.9978\n",
            "Epoch 8/12\n",
            "49/49 [==============================] - 1s 30ms/step - loss: 0.0108 - accuracy: 0.9985\n",
            "Epoch 9/12\n",
            "49/49 [==============================] - 2s 31ms/step - loss: 0.0075 - accuracy: 0.9989\n",
            "Epoch 10/12\n",
            "49/49 [==============================] - 1s 29ms/step - loss: 0.0051 - accuracy: 0.9993\n",
            "Epoch 11/12\n",
            "49/49 [==============================] - 1s 30ms/step - loss: 0.0036 - accuracy: 0.9997\n",
            "Epoch 12/12\n",
            "49/49 [==============================] - 1s 29ms/step - loss: 0.0026 - accuracy: 0.9998\n",
            "782/782 [==============================] - 2s 2ms/step - loss: 0.3344 - accuracy: 0.8756\n"
          ]
        },
        {
          "output_type": "execute_result",
          "data": {
            "text/plain": [
              "[0.33442655205726624, 0.8755999803543091]"
            ]
          },
          "metadata": {},
          "execution_count": 28
        }
      ]
    },
    {
      "cell_type": "markdown",
      "source": [
        "HYPERTUNING\n",
        "\n",
        "Training the model with 32-Units"
      ],
      "metadata": {
        "id": "QJHZ3N_esSHh"
      }
    },
    {
      "cell_type": "code",
      "source": [
        "model_21 = keras.Sequential([\n",
        "    layers.Dense(32, activation=\"relu\"),\n",
        "    layers.Dense(32, activation=\"relu\"),\n",
        "    layers.Dense(1, activation=\"sigmoid\")\n",
        "])\n",
        "model_21.compile(optimizer=\"adam\",\n",
        "              loss=\"binary_crossentropy\",\n",
        "              metrics=[\"accuracy\"])\n",
        "history21 = model_21.fit(partial_x_train,\n",
        "                    partial_y_train,\n",
        "                    epochs=20,\n",
        "                    batch_size=512,\n",
        "                    validation_data=(x_val, y_val))\n",
        "history_dict21 = history21.history\n",
        "history_dict21.keys()"
      ],
      "metadata": {
        "colab": {
          "base_uri": "https://localhost:8080/"
        },
        "id": "eonrEAcxsS81",
        "outputId": "99fad74c-ef88-4bd7-f042-aabc7bd94ac3"
      },
      "execution_count": 33,
      "outputs": [
        {
          "output_type": "stream",
          "name": "stdout",
          "text": [
            "Epoch 1/20\n",
            "30/30 [==============================] - 2s 56ms/step - loss: 0.5187 - accuracy: 0.7771 - val_loss: 0.3337 - val_accuracy: 0.8736\n",
            "Epoch 2/20\n",
            "30/30 [==============================] - 1s 44ms/step - loss: 0.2377 - accuracy: 0.9145 - val_loss: 0.2779 - val_accuracy: 0.8898\n",
            "Epoch 3/20\n",
            "30/30 [==============================] - 1s 43ms/step - loss: 0.1494 - accuracy: 0.9485 - val_loss: 0.2910 - val_accuracy: 0.8846\n",
            "Epoch 4/20\n",
            "30/30 [==============================] - 1s 44ms/step - loss: 0.1014 - accuracy: 0.9699 - val_loss: 0.3171 - val_accuracy: 0.8827\n",
            "Epoch 5/20\n",
            "30/30 [==============================] - 1s 43ms/step - loss: 0.0686 - accuracy: 0.9826 - val_loss: 0.3562 - val_accuracy: 0.8786\n",
            "Epoch 6/20\n",
            "30/30 [==============================] - 1s 44ms/step - loss: 0.0466 - accuracy: 0.9912 - val_loss: 0.4031 - val_accuracy: 0.8764\n",
            "Epoch 7/20\n",
            "30/30 [==============================] - 1s 44ms/step - loss: 0.0294 - accuracy: 0.9961 - val_loss: 0.4494 - val_accuracy: 0.8747\n",
            "Epoch 8/20\n",
            "30/30 [==============================] - 1s 44ms/step - loss: 0.0193 - accuracy: 0.9983 - val_loss: 0.4971 - val_accuracy: 0.8736\n",
            "Epoch 9/20\n",
            "30/30 [==============================] - 1s 44ms/step - loss: 0.0121 - accuracy: 0.9997 - val_loss: 0.5345 - val_accuracy: 0.8717\n",
            "Epoch 10/20\n",
            "30/30 [==============================] - 1s 43ms/step - loss: 0.0080 - accuracy: 0.9999 - val_loss: 0.5732 - val_accuracy: 0.8711\n",
            "Epoch 11/20\n",
            "30/30 [==============================] - 1s 43ms/step - loss: 0.0057 - accuracy: 0.9999 - val_loss: 0.6033 - val_accuracy: 0.8702\n",
            "Epoch 12/20\n",
            "30/30 [==============================] - 1s 43ms/step - loss: 0.0041 - accuracy: 0.9999 - val_loss: 0.6296 - val_accuracy: 0.8688\n",
            "Epoch 13/20\n",
            "30/30 [==============================] - 1s 43ms/step - loss: 0.0032 - accuracy: 0.9999 - val_loss: 0.6537 - val_accuracy: 0.8683\n",
            "Epoch 14/20\n",
            "30/30 [==============================] - 1s 43ms/step - loss: 0.0025 - accuracy: 0.9999 - val_loss: 0.6749 - val_accuracy: 0.8680\n",
            "Epoch 15/20\n",
            "30/30 [==============================] - 1s 43ms/step - loss: 0.0020 - accuracy: 1.0000 - val_loss: 0.6933 - val_accuracy: 0.8680\n",
            "Epoch 16/20\n",
            "30/30 [==============================] - 1s 42ms/step - loss: 0.0016 - accuracy: 1.0000 - val_loss: 0.7115 - val_accuracy: 0.8681\n",
            "Epoch 17/20\n",
            "30/30 [==============================] - 1s 42ms/step - loss: 0.0014 - accuracy: 1.0000 - val_loss: 0.7286 - val_accuracy: 0.8675\n",
            "Epoch 18/20\n",
            "30/30 [==============================] - 1s 43ms/step - loss: 0.0012 - accuracy: 1.0000 - val_loss: 0.7431 - val_accuracy: 0.8674\n",
            "Epoch 19/20\n",
            "30/30 [==============================] - 1s 42ms/step - loss: 9.8847e-04 - accuracy: 1.0000 - val_loss: 0.7575 - val_accuracy: 0.8673\n",
            "Epoch 20/20\n",
            "30/30 [==============================] - 1s 42ms/step - loss: 8.5623e-04 - accuracy: 1.0000 - val_loss: 0.7719 - val_accuracy: 0.8675\n"
          ]
        },
        {
          "output_type": "execute_result",
          "data": {
            "text/plain": [
              "dict_keys(['loss', 'accuracy', 'val_loss', 'val_accuracy'])"
            ]
          },
          "metadata": {},
          "execution_count": 33
        }
      ]
    },
    {
      "cell_type": "markdown",
      "source": [
        "Plotting graph between Training and Validation loss"
      ],
      "metadata": {
        "id": "StsHzsyvsZ6c"
      }
    },
    {
      "cell_type": "code",
      "source": [
        "loss_values = history_dict21[\"loss\"]\n",
        "val_loss_values = history_dict21[\"val_loss\"]\n",
        "epochs = range(1, len(loss_values) + 1)\n",
        "plt.plot(epochs, loss_values, \"bo\", label=\"Training loss\")\n",
        "plt.plot(epochs, val_loss_values, \"b\", label=\"Validation loss\")\n",
        "plt.title(\"Training and validation loss\")\n",
        "plt.xlabel(\"Epochs\")\n",
        "plt.ylabel(\"Loss\")\n",
        "plt.legend()\n",
        "plt.show()"
      ],
      "metadata": {
        "colab": {
          "base_uri": "https://localhost:8080/",
          "height": 295
        },
        "id": "3E0__SQWsbTS",
        "outputId": "539216e6-80b6-4214-fcf6-507a193ec29f"
      },
      "execution_count": 38,
      "outputs": [
        {
          "output_type": "display_data",
          "data": {
            "text/plain": [
              "<Figure size 432x288 with 1 Axes>"
            ],
            "image/png": "[encoded data removed]"
          },
          "metadata": {
            "needs_background": "light"
          }
        }
      ]
    },
    {
      "cell_type": "markdown",
      "source": [
        "Plotting graph between Training and Validation accuracy"
      ],
      "metadata": {
        "id": "ESZL1btUseDz"
      }
    },
    {
      "cell_type": "code",
      "source": [
        "plt.clf()\n",
        "acc = history_dict21[\"accuracy\"]\n",
        "val_acc = history_dict21[\"val_accuracy\"]\n",
        "plt.plot(epochs, acc, \"bo\", label=\"Training acc\")\n",
        "plt.plot(epochs, val_acc, \"b\", label=\"Validation acc\")\n",
        "plt.title(\"Training and validation accuracy\")\n",
        "plt.xlabel(\"Epochs\")\n",
        "plt.ylabel(\"Accuracy\")\n",
        "plt.legend()\n",
        "plt.show()"
      ],
      "metadata": {
        "colab": {
          "base_uri": "https://localhost:8080/",
          "height": 295
        },
        "id": "WIF0P6_ZsfM-",
        "outputId": "9bea9872-b158-440e-b2b5-a0e6ce68c708"
      },
      "execution_count": 39,
      "outputs": [
        {
          "output_type": "display_data",
          "data": {
            "text/plain": [
              "<Figure size 432x288 with 1 Axes>"
            ],
            "image/png": "[encoded data removed]"
          },
          "metadata": {
            "needs_background": "light"
          }
        }
      ]
    },
    {
      "cell_type": "code",
      "source": [
        "model_21.fit(x_train, y_train, epochs=8, batch_size=512)\n",
        "results_M21 = model_21.evaluate(x_test, y_test)\n",
        "results_M21"
      ],
      "metadata": {
        "colab": {
          "base_uri": "https://localhost:8080/"
        },
        "id": "A7mjD2AUsiB9",
        "outputId": "4c9128bd-f681-4e63-d9df-88ed16cb2b7a"
      },
      "execution_count": 36,
      "outputs": [
        {
          "output_type": "stream",
          "name": "stdout",
          "text": [
            "Epoch 1/8\n",
            "49/49 [==============================] - 2s 35ms/step - loss: 0.2572 - accuracy: 0.9287\n",
            "Epoch 2/8\n",
            "49/49 [==============================] - 2s 33ms/step - loss: 0.1110 - accuracy: 0.9635\n",
            "Epoch 3/8\n",
            "49/49 [==============================] - 2s 33ms/step - loss: 0.0595 - accuracy: 0.9828\n",
            "Epoch 4/8\n",
            "49/49 [==============================] - 2s 34ms/step - loss: 0.0323 - accuracy: 0.9932\n",
            "Epoch 5/8\n",
            "49/49 [==============================] - 2s 33ms/step - loss: 0.0169 - accuracy: 0.9978\n",
            "Epoch 6/8\n",
            "49/49 [==============================] - 2s 33ms/step - loss: 0.0091 - accuracy: 0.9993\n",
            "Epoch 7/8\n",
            "49/49 [==============================] - 2s 34ms/step - loss: 0.0052 - accuracy: 0.9998\n",
            "Epoch 8/8\n",
            "49/49 [==============================] - 2s 33ms/step - loss: 0.0034 - accuracy: 1.0000\n",
            "782/782 [==============================] - 3s 3ms/step - loss: 0.7944 - accuracy: 0.8558\n"
          ]
        },
        {
          "output_type": "execute_result",
          "data": {
            "text/plain": [
              "[0.794360876083374, 0.8557999730110168]"
            ]
          },
          "metadata": {},
          "execution_count": 36
        }
      ]
    },
    {
      "cell_type": "markdown",
      "source": [
        "Training the model with 64-Units"
      ],
      "metadata": {
        "id": "dkpjP4Z6smMU"
      }
    },
    {
      "cell_type": "code",
      "source": [
        "model_22 = keras.Sequential([\n",
        "    layers.Dense(64, activation=\"relu\"),\n",
        "    layers.Dense(64, activation=\"relu\"),\n",
        "    layers.Dense(1, activation=\"sigmoid\")\n",
        "])\n",
        "model_22.compile(optimizer=\"adam\",\n",
        "              loss=\"binary_crossentropy\",\n",
        "              metrics=[\"accuracy\"])\n",
        "history22 = model_22.fit(partial_x_train,\n",
        "                    partial_y_train,\n",
        "                    epochs=20,\n",
        "                    batch_size=512,\n",
        "                    validation_data=(x_val, y_val))\n",
        "history_dict22 = history22.history\n",
        "history_dict22.keys()"
      ],
      "metadata": {
        "colab": {
          "base_uri": "https://localhost:8080/"
        },
        "id": "Wsb0HjPtsndo",
        "outputId": "1c6c5cf1-da97-47b3-ea5e-fe3a0ce04397"
      },
      "execution_count": 40,
      "outputs": [
        {
          "output_type": "stream",
          "name": "stdout",
          "text": [
            "Epoch 1/20\n",
            "30/30 [==============================] - 3s 72ms/step - loss: 0.4693 - accuracy: 0.8041 - val_loss: 0.3038 - val_accuracy: 0.8790\n",
            "Epoch 2/20\n",
            "30/30 [==============================] - 2s 56ms/step - loss: 0.2039 - accuracy: 0.9231 - val_loss: 0.2818 - val_accuracy: 0.8863\n",
            "Epoch 3/20\n",
            "30/30 [==============================] - 2s 55ms/step - loss: 0.1201 - accuracy: 0.9599 - val_loss: 0.3212 - val_accuracy: 0.8802\n",
            "Epoch 4/20\n",
            "30/30 [==============================] - 2s 56ms/step - loss: 0.0723 - accuracy: 0.9790 - val_loss: 0.3761 - val_accuracy: 0.8791\n",
            "Epoch 5/20\n",
            "30/30 [==============================] - 2s 56ms/step - loss: 0.0406 - accuracy: 0.9909 - val_loss: 0.4390 - val_accuracy: 0.8770\n",
            "Epoch 6/20\n",
            "30/30 [==============================] - 2s 55ms/step - loss: 0.0224 - accuracy: 0.9967 - val_loss: 0.5051 - val_accuracy: 0.8733\n",
            "Epoch 7/20\n",
            "30/30 [==============================] - 2s 56ms/step - loss: 0.0121 - accuracy: 0.9994 - val_loss: 0.5671 - val_accuracy: 0.8697\n",
            "Epoch 8/20\n",
            "30/30 [==============================] - 2s 56ms/step - loss: 0.0063 - accuracy: 0.9999 - val_loss: 0.6041 - val_accuracy: 0.8697\n",
            "Epoch 9/20\n",
            "30/30 [==============================] - 2s 55ms/step - loss: 0.0036 - accuracy: 0.9999 - val_loss: 0.6417 - val_accuracy: 0.8714\n",
            "Epoch 10/20\n",
            "30/30 [==============================] - 2s 55ms/step - loss: 0.0024 - accuracy: 1.0000 - val_loss: 0.6674 - val_accuracy: 0.8706\n",
            "Epoch 11/20\n",
            "30/30 [==============================] - 2s 55ms/step - loss: 0.0017 - accuracy: 1.0000 - val_loss: 0.6914 - val_accuracy: 0.8701\n",
            "Epoch 12/20\n",
            "30/30 [==============================] - 2s 56ms/step - loss: 0.0013 - accuracy: 1.0000 - val_loss: 0.7080 - val_accuracy: 0.8699\n",
            "Epoch 13/20\n",
            "30/30 [==============================] - 2s 56ms/step - loss: 0.0010 - accuracy: 1.0000 - val_loss: 0.7258 - val_accuracy: 0.8701\n",
            "Epoch 14/20\n",
            "30/30 [==============================] - 2s 55ms/step - loss: 8.2417e-04 - accuracy: 1.0000 - val_loss: 0.7401 - val_accuracy: 0.8704\n",
            "Epoch 15/20\n",
            "30/30 [==============================] - 2s 57ms/step - loss: 6.8226e-04 - accuracy: 1.0000 - val_loss: 0.7551 - val_accuracy: 0.8695\n",
            "Epoch 16/20\n",
            "30/30 [==============================] - 2s 56ms/step - loss: 5.7655e-04 - accuracy: 1.0000 - val_loss: 0.7677 - val_accuracy: 0.8706\n",
            "Epoch 17/20\n",
            "30/30 [==============================] - 2s 55ms/step - loss: 4.9431e-04 - accuracy: 1.0000 - val_loss: 0.7792 - val_accuracy: 0.8698\n",
            "Epoch 18/20\n",
            "30/30 [==============================] - 2s 55ms/step - loss: 4.2959e-04 - accuracy: 1.0000 - val_loss: 0.7899 - val_accuracy: 0.8702\n",
            "Epoch 19/20\n",
            "30/30 [==============================] - 2s 55ms/step - loss: 3.7615e-04 - accuracy: 1.0000 - val_loss: 0.8006 - val_accuracy: 0.8700\n",
            "Epoch 20/20\n",
            "30/30 [==============================] - 2s 54ms/step - loss: 3.3164e-04 - accuracy: 1.0000 - val_loss: 0.8102 - val_accuracy: 0.8698\n"
          ]
        },
        {
          "output_type": "execute_result",
          "data": {
            "text/plain": [
              "dict_keys(['loss', 'accuracy', 'val_loss', 'val_accuracy'])"
            ]
          },
          "metadata": {},
          "execution_count": 40
        }
      ]
    },
    {
      "cell_type": "markdown",
      "source": [
        "Plotting graph between Training and Validation loss"
      ],
      "metadata": {
        "id": "26loBoASsu2s"
      }
    },
    {
      "cell_type": "code",
      "source": [
        "loss_values = history_dict22[\"loss\"]\n",
        "val_loss_values = history_dict22[\"val_loss\"]\n",
        "epochs = range(1, len(loss_values) + 1)\n",
        "plt.plot(epochs, loss_values, \"bo\", label=\"Training loss\")\n",
        "plt.plot(epochs, val_loss_values, \"b\", label=\"Validation loss\")\n",
        "plt.title(\"Training and validation loss\")\n",
        "plt.xlabel(\"Epochs\")\n",
        "plt.ylabel(\"Loss\")\n",
        "plt.legend()\n",
        "plt.show()"
      ],
      "metadata": {
        "colab": {
          "base_uri": "https://localhost:8080/",
          "height": 295
        },
        "id": "yh6s6j_Csvsp",
        "outputId": "10e17e3b-ba1e-4b40-91e2-aa2508062f0f"
      },
      "execution_count": 41,
      "outputs": [
        {
          "output_type": "display_data",
          "data": {
            "text/plain": [
              "<Figure size 432x288 with 1 Axes>"
            ],
            "image/png": "[encoded data removed]"
          },
          "metadata": {
            "needs_background": "light"
          }
        }
      ]
    },
    {
      "cell_type": "code",
      "source": [
        "plt.clf()\n",
        "acc = history_dict22[\"accuracy\"]\n",
        "val_acc = history_dict22[\"val_accuracy\"]\n",
        "plt.plot(epochs, acc, \"bo\", label=\"Training acc\")\n",
        "plt.plot(epochs, val_acc, \"b\", label=\"Validation acc\")\n",
        "plt.title(\"Training and validation accuracy\")\n",
        "plt.xlabel(\"Epochs\")\n",
        "plt.ylabel(\"Accuracy\")\n",
        "plt.legend()\n",
        "plt.show()"
      ],
      "metadata": {
        "colab": {
          "base_uri": "https://localhost:8080/",
          "height": 295
        },
        "id": "Z78SlEe4szAI",
        "outputId": "fef4c7cd-c3a5-4d80-ec64-347d51b58f9a"
      },
      "execution_count": 42,
      "outputs": [
        {
          "output_type": "display_data",
          "data": {
            "text/plain": [
              "<Figure size 432x288 with 1 Axes>"
            ],
            "image/png": "[encoded data removed]"
          },
          "metadata": {
            "needs_background": "light"
          }
        }
      ]
    },
    {
      "cell_type": "code",
      "source": [
        "model_22.fit(x_train, y_train, epochs=8, batch_size=512)\n",
        "results_M22 = model_22.evaluate(x_test, y_test)\n",
        "results_M22"
      ],
      "metadata": {
        "colab": {
          "base_uri": "https://localhost:8080/"
        },
        "id": "7EEWZUIus3fg",
        "outputId": "2f0ef8af-32cb-4f22-b149-c116f8600ce6"
      },
      "execution_count": 43,
      "outputs": [
        {
          "output_type": "stream",
          "name": "stdout",
          "text": [
            "Epoch 1/8\n",
            "49/49 [==============================] - 2s 44ms/step - loss: 0.2680 - accuracy: 0.9204\n",
            "Epoch 2/8\n",
            "49/49 [==============================] - 2s 43ms/step - loss: 0.1114 - accuracy: 0.9621\n",
            "Epoch 3/8\n",
            "49/49 [==============================] - 2s 43ms/step - loss: 0.0487 - accuracy: 0.9870\n",
            "Epoch 4/8\n",
            "49/49 [==============================] - 2s 43ms/step - loss: 0.0200 - accuracy: 0.9967\n",
            "Epoch 5/8\n",
            "49/49 [==============================] - 2s 43ms/step - loss: 0.0088 - accuracy: 0.9990\n",
            "Epoch 6/8\n",
            "49/49 [==============================] - 2s 43ms/step - loss: 0.0041 - accuracy: 0.9997\n",
            "Epoch 7/8\n",
            "49/49 [==============================] - 2s 43ms/step - loss: 0.0023 - accuracy: 0.9999\n",
            "Epoch 8/8\n",
            "49/49 [==============================] - 2s 43ms/step - loss: 0.0014 - accuracy: 0.9999\n",
            "782/782 [==============================] - 3s 4ms/step - loss: 0.7633 - accuracy: 0.8609\n"
          ]
        },
        {
          "output_type": "execute_result",
          "data": {
            "text/plain": [
              "[0.7633427977561951, 0.8608800172805786]"
            ]
          },
          "metadata": {},
          "execution_count": 43
        }
      ]
    },
    {
      "cell_type": "markdown",
      "source": [
        "Training the model with 128-Units\n",
        "\n"
      ],
      "metadata": {
        "id": "u5lyxd5Ss5Fq"
      }
    },
    {
      "cell_type": "code",
      "source": [
        "model_23 = keras.Sequential([\n",
        "    layers.Dense(128, activation=\"relu\"),\n",
        "    layers.Dense(128, activation=\"relu\"),\n",
        "    layers.Dense(1, activation=\"sigmoid\")\n",
        "])\n",
        "model_23.compile(optimizer=\"adam\",\n",
        "              loss=\"binary_crossentropy\",\n",
        "              metrics=[\"accuracy\"])\n",
        "history23 = model_23.fit(partial_x_train,\n",
        "                    partial_y_train,\n",
        "                    epochs=20,\n",
        "                    batch_size=512,\n",
        "                    validation_data=(x_val, y_val))\n",
        "history_dict23 = history23.history\n",
        "history_dict23.keys()"
      ],
      "metadata": {
        "colab": {
          "base_uri": "https://localhost:8080/"
        },
        "id": "ZZ95h_yos7d-",
        "outputId": "c2cebd31-0d9e-4bc8-c74b-80683dcb42c1"
      },
      "execution_count": 44,
      "outputs": [
        {
          "output_type": "stream",
          "name": "stdout",
          "text": [
            "Epoch 1/20\n",
            "30/30 [==============================] - 4s 104ms/step - loss: 0.4304 - accuracy: 0.8099 - val_loss: 0.2851 - val_accuracy: 0.8872\n",
            "Epoch 2/20\n",
            "30/30 [==============================] - 3s 88ms/step - loss: 0.1766 - accuracy: 0.9337 - val_loss: 0.2977 - val_accuracy: 0.8836\n",
            "Epoch 3/20\n",
            "30/30 [==============================] - 3s 86ms/step - loss: 0.0971 - accuracy: 0.9681 - val_loss: 0.3556 - val_accuracy: 0.8790\n",
            "Epoch 4/20\n",
            "30/30 [==============================] - 3s 87ms/step - loss: 0.0510 - accuracy: 0.9856 - val_loss: 0.4303 - val_accuracy: 0.8758\n",
            "Epoch 5/20\n",
            "30/30 [==============================] - 3s 88ms/step - loss: 0.0238 - accuracy: 0.9952 - val_loss: 0.5027 - val_accuracy: 0.8728\n",
            "Epoch 6/20\n",
            "30/30 [==============================] - 3s 87ms/step - loss: 0.0091 - accuracy: 0.9993 - val_loss: 0.5630 - val_accuracy: 0.8718\n",
            "Epoch 7/20\n",
            "30/30 [==============================] - 3s 87ms/step - loss: 0.0039 - accuracy: 0.9999 - val_loss: 0.6059 - val_accuracy: 0.8732\n",
            "Epoch 8/20\n",
            "30/30 [==============================] - 3s 87ms/step - loss: 0.0021 - accuracy: 0.9999 - val_loss: 0.6418 - val_accuracy: 0.8730\n",
            "Epoch 9/20\n",
            "30/30 [==============================] - 3s 87ms/step - loss: 0.0013 - accuracy: 1.0000 - val_loss: 0.6651 - val_accuracy: 0.8731\n",
            "Epoch 10/20\n",
            "30/30 [==============================] - 3s 86ms/step - loss: 9.1728e-04 - accuracy: 1.0000 - val_loss: 0.6860 - val_accuracy: 0.8730\n",
            "Epoch 11/20\n",
            "30/30 [==============================] - 3s 87ms/step - loss: 6.8024e-04 - accuracy: 1.0000 - val_loss: 0.7032 - val_accuracy: 0.8731\n",
            "Epoch 12/20\n",
            "30/30 [==============================] - 3s 90ms/step - loss: 5.2212e-04 - accuracy: 1.0000 - val_loss: 0.7192 - val_accuracy: 0.8718\n",
            "Epoch 13/20\n",
            "30/30 [==============================] - 3s 89ms/step - loss: 4.1647e-04 - accuracy: 1.0000 - val_loss: 0.7345 - val_accuracy: 0.8719\n",
            "Epoch 14/20\n",
            "30/30 [==============================] - 3s 87ms/step - loss: 3.3484e-04 - accuracy: 1.0000 - val_loss: 0.7475 - val_accuracy: 0.8713\n",
            "Epoch 15/20\n",
            "30/30 [==============================] - 3s 88ms/step - loss: 2.7335e-04 - accuracy: 1.0000 - val_loss: 0.7598 - val_accuracy: 0.8713\n",
            "Epoch 16/20\n",
            "30/30 [==============================] - 3s 88ms/step - loss: 2.2704e-04 - accuracy: 1.0000 - val_loss: 0.7709 - val_accuracy: 0.8708\n",
            "Epoch 17/20\n",
            "30/30 [==============================] - 3s 89ms/step - loss: 1.9153e-04 - accuracy: 1.0000 - val_loss: 0.7811 - val_accuracy: 0.8710\n",
            "Epoch 18/20\n",
            "30/30 [==============================] - 3s 88ms/step - loss: 1.6362e-04 - accuracy: 1.0000 - val_loss: 0.7926 - val_accuracy: 0.8706\n",
            "Epoch 19/20\n",
            "30/30 [==============================] - 3s 88ms/step - loss: 1.4115e-04 - accuracy: 1.0000 - val_loss: 0.8029 - val_accuracy: 0.8703\n",
            "Epoch 20/20\n",
            "30/30 [==============================] - 3s 86ms/step - loss: 1.2227e-04 - accuracy: 1.0000 - val_loss: 0.8103 - val_accuracy: 0.8700\n"
          ]
        },
        {
          "output_type": "execute_result",
          "data": {
            "text/plain": [
              "dict_keys(['loss', 'accuracy', 'val_loss', 'val_accuracy'])"
            ]
          },
          "metadata": {},
          "execution_count": 44
        }
      ]
    },
    {
      "cell_type": "markdown",
      "source": [
        "Plotting graph between Training and Validation loss"
      ],
      "metadata": {
        "id": "lUO-g4sds_zy"
      }
    },
    {
      "cell_type": "code",
      "source": [
        "loss_values = history_dict23[\"loss\"]\n",
        "val_loss_values = history_dict23[\"val_loss\"]\n",
        "epochs = range(1, len(loss_values) + 1)\n",
        "plt.plot(epochs, loss_values, \"bo\", label=\"Training loss\")\n",
        "plt.plot(epochs, val_loss_values, \"b\", label=\"Validation loss\")\n",
        "plt.title(\"Training and validation loss\")\n",
        "plt.xlabel(\"Epochs\")\n",
        "plt.ylabel(\"Loss\")\n",
        "plt.legend()\n",
        "plt.show()"
      ],
      "metadata": {
        "colab": {
          "base_uri": "https://localhost:8080/",
          "height": 295
        },
        "id": "TOOGZ15EtAic",
        "outputId": "cc55c8fc-f4ff-4e23-dd4b-345a9cad1331"
      },
      "execution_count": 45,
      "outputs": [
        {
          "output_type": "display_data",
          "data": {
            "text/plain": [
              "<Figure size 432x288 with 1 Axes>"
            ],
            "image/png": "[encoded data removed]"
          },
          "metadata": {
            "needs_background": "light"
          }
        }
      ]
    },
    {
      "cell_type": "markdown",
      "source": [
        "Plotting graph between Training and Validation accuracy"
      ],
      "metadata": {
        "id": "1mSQQBYbtDgx"
      }
    },
    {
      "cell_type": "code",
      "source": [
        "plt.clf()\n",
        "acc = history_dict23[\"accuracy\"]\n",
        "val_acc = history_dict23[\"val_accuracy\"]\n",
        "plt.plot(epochs, acc, \"bo\", label=\"Training acc\")\n",
        "plt.plot(epochs, val_acc, \"b\", label=\"Validation acc\")\n",
        "plt.title(\"Training and validation accuracy\")\n",
        "plt.xlabel(\"Epochs\")\n",
        "plt.ylabel(\"Accuracy\")\n",
        "plt.legend()\n",
        "plt.show()"
      ],
      "metadata": {
        "colab": {
          "base_uri": "https://localhost:8080/",
          "height": 295
        },
        "id": "oMwNDFyOtGL4",
        "outputId": "371558e2-fcc6-4fa3-e78c-d21e01950f5f"
      },
      "execution_count": 46,
      "outputs": [
        {
          "output_type": "display_data",
          "data": {
            "text/plain": [
              "<Figure size 432x288 with 1 Axes>"
            ],
            "image/png": "[encoded data removed]"
          },
          "metadata": {
            "needs_background": "light"
          }
        }
      ]
    },
    {
      "cell_type": "code",
      "source": [
        "model_23.fit(x_train, y_train, epochs=8, batch_size=512)\n",
        "results_M23 = model_23.evaluate(x_test, y_test)\n",
        "results_M23"
      ],
      "metadata": {
        "colab": {
          "base_uri": "https://localhost:8080/"
        },
        "id": "0_Q8gX9otJLU",
        "outputId": "434d692f-3ea0-4327-f0da-134d868c8952"
      },
      "execution_count": 47,
      "outputs": [
        {
          "output_type": "stream",
          "name": "stdout",
          "text": [
            "Epoch 1/8\n",
            "49/49 [==============================] - 4s 72ms/step - loss: 0.2348 - accuracy: 0.9212\n",
            "Epoch 2/8\n",
            "49/49 [==============================] - 4s 72ms/step - loss: 0.0857 - accuracy: 0.9719\n",
            "Epoch 3/8\n",
            "49/49 [==============================] - 3s 71ms/step - loss: 0.0251 - accuracy: 0.9939\n",
            "Epoch 4/8\n",
            "49/49 [==============================] - 4s 72ms/step - loss: 0.0059 - accuracy: 0.9990\n",
            "Epoch 5/8\n",
            "49/49 [==============================] - 3s 71ms/step - loss: 0.0019 - accuracy: 0.9997\n",
            "Epoch 6/8\n",
            "49/49 [==============================] - 3s 70ms/step - loss: 8.0293e-04 - accuracy: 1.0000\n",
            "Epoch 7/8\n",
            "49/49 [==============================] - 4s 73ms/step - loss: 4.5920e-04 - accuracy: 1.0000\n",
            "Epoch 8/8\n",
            "49/49 [==============================] - 3s 71ms/step - loss: 3.1217e-04 - accuracy: 1.0000\n",
            "782/782 [==============================] - 4s 5ms/step - loss: 0.8441 - accuracy: 0.8614\n"
          ]
        },
        {
          "output_type": "execute_result",
          "data": {
            "text/plain": [
              "[0.844079315662384, 0.8613600134849548]"
            ]
          },
          "metadata": {},
          "execution_count": 47
        }
      ]
    },
    {
      "cell_type": "markdown",
      "source": [
        "Loss Function"
      ],
      "metadata": {
        "id": "jc8Rxu6OtNFw"
      }
    },
    {
      "cell_type": "code",
      "source": [
        "model_MSE = keras.Sequential([\n",
        "    layers.Dense(16, activation=\"relu\"),\n",
        "    layers.Dense(16, activation=\"relu\"),\n",
        "    layers.Dense(1, activation=\"sigmoid\")\n",
        "])\n",
        "model_MSE.compile(optimizer=\"adam\",\n",
        "              loss=\"mse\",\n",
        "              metrics=[\"accuracy\"])\n",
        "history_model_MSE = model_MSE.fit(partial_x_train,\n",
        "                    partial_y_train,\n",
        "                    epochs=20,\n",
        "                    batch_size=512,\n",
        "                    validation_data=(x_val, y_val))\n",
        "history_dict_MSE = history_model_MSE.history\n",
        "history_dict_MSE.keys()"
      ],
      "metadata": {
        "colab": {
          "base_uri": "https://localhost:8080/"
        },
        "id": "YDPoIOZEtODR",
        "outputId": "45e67084-caad-4d4c-f52d-a9fc8d7d8688"
      },
      "execution_count": 48,
      "outputs": [
        {
          "output_type": "stream",
          "name": "stdout",
          "text": [
            "Epoch 1/20\n",
            "30/30 [==============================] - 2s 49ms/step - loss: 0.1781 - accuracy: 0.7715 - val_loss: 0.1151 - val_accuracy: 0.8649\n",
            "Epoch 2/20\n",
            "30/30 [==============================] - 1s 37ms/step - loss: 0.0817 - accuracy: 0.9065 - val_loss: 0.0884 - val_accuracy: 0.8880\n",
            "Epoch 3/20\n",
            "30/30 [==============================] - 1s 37ms/step - loss: 0.0555 - accuracy: 0.9391 - val_loss: 0.0839 - val_accuracy: 0.8879\n",
            "Epoch 4/20\n",
            "30/30 [==============================] - 1s 36ms/step - loss: 0.0414 - accuracy: 0.9596 - val_loss: 0.0834 - val_accuracy: 0.8859\n",
            "Epoch 5/20\n",
            "30/30 [==============================] - 1s 36ms/step - loss: 0.0320 - accuracy: 0.9730 - val_loss: 0.0847 - val_accuracy: 0.8834\n",
            "Epoch 6/20\n",
            "30/30 [==============================] - 1s 39ms/step - loss: 0.0251 - accuracy: 0.9803 - val_loss: 0.0868 - val_accuracy: 0.8814\n",
            "Epoch 7/20\n",
            "30/30 [==============================] - 1s 37ms/step - loss: 0.0197 - accuracy: 0.9861 - val_loss: 0.0890 - val_accuracy: 0.8796\n",
            "Epoch 8/20\n",
            "30/30 [==============================] - 1s 36ms/step - loss: 0.0158 - accuracy: 0.9894 - val_loss: 0.0911 - val_accuracy: 0.8776\n",
            "Epoch 9/20\n",
            "30/30 [==============================] - 1s 36ms/step - loss: 0.0125 - accuracy: 0.9921 - val_loss: 0.0934 - val_accuracy: 0.8752\n",
            "Epoch 10/20\n",
            "30/30 [==============================] - 1s 37ms/step - loss: 0.0101 - accuracy: 0.9939 - val_loss: 0.0952 - val_accuracy: 0.8744\n",
            "Epoch 11/20\n",
            "30/30 [==============================] - 1s 36ms/step - loss: 0.0084 - accuracy: 0.9948 - val_loss: 0.0970 - val_accuracy: 0.8734\n",
            "Epoch 12/20\n",
            "30/30 [==============================] - 1s 36ms/step - loss: 0.0071 - accuracy: 0.9955 - val_loss: 0.0987 - val_accuracy: 0.8721\n",
            "Epoch 13/20\n",
            "30/30 [==============================] - 1s 36ms/step - loss: 0.0061 - accuracy: 0.9959 - val_loss: 0.1004 - val_accuracy: 0.8705\n",
            "Epoch 14/20\n",
            "30/30 [==============================] - 1s 36ms/step - loss: 0.0054 - accuracy: 0.9963 - val_loss: 0.1013 - val_accuracy: 0.8711\n",
            "Epoch 15/20\n",
            "30/30 [==============================] - 1s 36ms/step - loss: 0.0048 - accuracy: 0.9966 - val_loss: 0.1025 - val_accuracy: 0.8697\n",
            "Epoch 16/20\n",
            "30/30 [==============================] - 1s 38ms/step - loss: 0.0045 - accuracy: 0.9966 - val_loss: 0.1034 - val_accuracy: 0.8689\n",
            "Epoch 17/20\n",
            "30/30 [==============================] - 1s 37ms/step - loss: 0.0042 - accuracy: 0.9967 - val_loss: 0.1042 - val_accuracy: 0.8693\n",
            "Epoch 18/20\n",
            "30/30 [==============================] - 1s 36ms/step - loss: 0.0040 - accuracy: 0.9967 - val_loss: 0.1054 - val_accuracy: 0.8684\n",
            "Epoch 19/20\n",
            "30/30 [==============================] - 1s 36ms/step - loss: 0.0039 - accuracy: 0.9967 - val_loss: 0.1058 - val_accuracy: 0.8680\n",
            "Epoch 20/20\n",
            "30/30 [==============================] - 1s 39ms/step - loss: 0.0038 - accuracy: 0.9968 - val_loss: 0.1073 - val_accuracy: 0.8666\n"
          ]
        },
        {
          "output_type": "execute_result",
          "data": {
            "text/plain": [
              "dict_keys(['loss', 'accuracy', 'val_loss', 'val_accuracy'])"
            ]
          },
          "metadata": {},
          "execution_count": 48
        }
      ]
    },
    {
      "cell_type": "markdown",
      "source": [
        "Plotting graph between Training and Validation loss"
      ],
      "metadata": {
        "id": "SFka5smQtSDs"
      }
    },
    {
      "cell_type": "code",
      "source": [
        "loss_values = history_dict_MSE[\"loss\"]\n",
        "val_loss_values = history_dict_MSE[\"val_loss\"]\n",
        "epochs = range(1, len(loss_values) + 1)\n",
        "plt.plot(epochs, loss_values, \"bo\", label=\"Training loss\")\n",
        "plt.plot(epochs, val_loss_values, \"b\", label=\"Validation loss\")\n",
        "plt.title(\"Training and validation loss\")\n",
        "plt.xlabel(\"Epochs\")\n",
        "plt.ylabel(\"Loss\")\n",
        "plt.legend()\n",
        "plt.show()\n"
      ],
      "metadata": {
        "colab": {
          "base_uri": "https://localhost:8080/",
          "height": 295
        },
        "id": "wtfjY2jStTA-",
        "outputId": "18ccae63-76c0-4499-e0f9-52e43bb6ae80"
      },
      "execution_count": 49,
      "outputs": [
        {
          "output_type": "display_data",
          "data": {
            "text/plain": [
              "<Figure size 432x288 with 1 Axes>"
            ],
            "image/png": "[encoded data removed]"
          },
          "metadata": {
            "needs_background": "light"
          }
        }
      ]
    },
    {
      "cell_type": "code",
      "source": [
        "plt.clf()\n",
        "acc = history_dict_MSE[\"accuracy\"]\n",
        "val_acc = history_dict_MSE[\"val_accuracy\"]\n",
        "plt.plot(epochs, acc, \"bo\", label=\"Training acc\")\n",
        "plt.plot(epochs, val_acc, \"b\", label=\"Validation acc\")\n",
        "plt.title(\"Training and validation accuracy\")\n",
        "plt.xlabel(\"Epochs\")\n",
        "plt.ylabel(\"Accuracy\")\n",
        "plt.legend()\n",
        "plt.show()"
      ],
      "metadata": {
        "colab": {
          "base_uri": "https://localhost:8080/",
          "height": 295
        },
        "id": "jOcAVVKVtVnX",
        "outputId": "21ee4bbc-91e6-4bf2-c199-1529502cff10"
      },
      "execution_count": 50,
      "outputs": [
        {
          "output_type": "display_data",
          "data": {
            "text/plain": [
              "<Figure size 432x288 with 1 Axes>"
            ],
            "image/png": "[encoded data removed]"
          },
          "metadata": {
            "needs_background": "light"
          }
        }
      ]
    },
    {
      "cell_type": "code",
      "source": [
        "model_MSE.fit(x_train, y_train, epochs=8, batch_size=512)\n",
        "results_MSE = model_MSE.evaluate(x_test, y_test)\n",
        "results_MSE"
      ],
      "metadata": {
        "colab": {
          "base_uri": "https://localhost:8080/"
        },
        "id": "_7rFxg7EtZRt",
        "outputId": "1f1ec8b6-e419-4095-b6cb-b4704298043f"
      },
      "execution_count": 51,
      "outputs": [
        {
          "output_type": "stream",
          "name": "stdout",
          "text": [
            "Epoch 1/8\n",
            "49/49 [==============================] - 1s 30ms/step - loss: 0.0491 - accuracy: 0.9411\n",
            "Epoch 2/8\n",
            "49/49 [==============================] - 1s 30ms/step - loss: 0.0374 - accuracy: 0.9559\n",
            "Epoch 3/8\n",
            "49/49 [==============================] - 1s 29ms/step - loss: 0.0268 - accuracy: 0.9721\n",
            "Epoch 4/8\n",
            "49/49 [==============================] - 1s 30ms/step - loss: 0.0214 - accuracy: 0.9794\n",
            "Epoch 5/8\n",
            "49/49 [==============================] - 1s 29ms/step - loss: 0.0185 - accuracy: 0.9823\n",
            "Epoch 6/8\n",
            "49/49 [==============================] - 1s 29ms/step - loss: 0.0169 - accuracy: 0.9841\n",
            "Epoch 7/8\n",
            "49/49 [==============================] - 1s 29ms/step - loss: 0.0156 - accuracy: 0.9852\n",
            "Epoch 8/8\n",
            "49/49 [==============================] - 1s 29ms/step - loss: 0.0145 - accuracy: 0.9860\n",
            "782/782 [==============================] - 2s 3ms/step - loss: 0.1203 - accuracy: 0.8584\n"
          ]
        },
        {
          "output_type": "execute_result",
          "data": {
            "text/plain": [
              "[0.12027902156114578, 0.8583599925041199]"
            ]
          },
          "metadata": {},
          "execution_count": 51
        }
      ]
    },
    {
      "cell_type": "markdown",
      "source": [
        "Training the model using Tanh Activation Function"
      ],
      "metadata": {
        "id": "xxJ8Fol-tcyI"
      }
    },
    {
      "cell_type": "code",
      "source": [
        "model_tanh = keras.Sequential([\n",
        "    layers.Dense(16, activation=\"tanh\"),\n",
        "    layers.Dense(16, activation=\"tanh\"),\n",
        "    layers.Dense(1, activation=\"sigmoid\")\n",
        "])\n",
        "model_tanh.compile(optimizer=\"adam\",\n",
        "              loss=\"binary_crossentropy\",\n",
        "              metrics=[\"accuracy\"])\n",
        "history_model_tanh = model_tanh.fit(partial_x_train,\n",
        "                    partial_y_train,\n",
        "                    epochs=20,\n",
        "                    batch_size=512,\n",
        "                    validation_data=(x_val, y_val))\n",
        "history_dict_tanh = history_model_tanh.history\n",
        "history_dict_tanh.keys()"
      ],
      "metadata": {
        "colab": {
          "base_uri": "https://localhost:8080/"
        },
        "id": "7mwz3r7etdwq",
        "outputId": "c93681dd-d36a-4dbd-c462-ba21a76a6338"
      },
      "execution_count": 52,
      "outputs": [
        {
          "output_type": "stream",
          "name": "stdout",
          "text": [
            "Epoch 1/20\n",
            "30/30 [==============================] - 2s 50ms/step - loss: 0.5448 - accuracy: 0.7863 - val_loss: 0.4192 - val_accuracy: 0.8592\n",
            "Epoch 2/20\n",
            "30/30 [==============================] - 1s 39ms/step - loss: 0.3235 - accuracy: 0.9004 - val_loss: 0.3113 - val_accuracy: 0.8852\n",
            "Epoch 3/20\n",
            "30/30 [==============================] - 1s 40ms/step - loss: 0.2206 - accuracy: 0.9328 - val_loss: 0.2790 - val_accuracy: 0.8889\n",
            "Epoch 4/20\n",
            "30/30 [==============================] - 1s 40ms/step - loss: 0.1617 - accuracy: 0.9537 - val_loss: 0.2755 - val_accuracy: 0.8870\n",
            "Epoch 5/20\n",
            "30/30 [==============================] - 1s 42ms/step - loss: 0.1214 - accuracy: 0.9702 - val_loss: 0.2854 - val_accuracy: 0.8836\n",
            "Epoch 6/20\n",
            "30/30 [==============================] - 1s 40ms/step - loss: 0.0924 - accuracy: 0.9802 - val_loss: 0.3020 - val_accuracy: 0.8803\n",
            "Epoch 7/20\n",
            "30/30 [==============================] - 1s 40ms/step - loss: 0.0700 - accuracy: 0.9874 - val_loss: 0.3242 - val_accuracy: 0.8769\n",
            "Epoch 8/20\n",
            "30/30 [==============================] - 1s 39ms/step - loss: 0.0535 - accuracy: 0.9917 - val_loss: 0.3458 - val_accuracy: 0.8759\n",
            "Epoch 9/20\n",
            "30/30 [==============================] - 1s 39ms/step - loss: 0.0404 - accuracy: 0.9949 - val_loss: 0.3713 - val_accuracy: 0.8755\n",
            "Epoch 10/20\n",
            "30/30 [==============================] - 1s 39ms/step - loss: 0.0310 - accuracy: 0.9972 - val_loss: 0.3964 - val_accuracy: 0.8715\n",
            "Epoch 11/20\n",
            "30/30 [==============================] - 1s 38ms/step - loss: 0.0236 - accuracy: 0.9981 - val_loss: 0.4191 - val_accuracy: 0.8700\n",
            "Epoch 12/20\n",
            "30/30 [==============================] - 1s 38ms/step - loss: 0.0187 - accuracy: 0.9989 - val_loss: 0.4392 - val_accuracy: 0.8707\n",
            "Epoch 13/20\n",
            "30/30 [==============================] - 1s 39ms/step - loss: 0.0152 - accuracy: 0.9991 - val_loss: 0.4593 - val_accuracy: 0.8678\n",
            "Epoch 14/20\n",
            "30/30 [==============================] - 1s 40ms/step - loss: 0.0124 - accuracy: 0.9992 - val_loss: 0.4770 - val_accuracy: 0.8667\n",
            "Epoch 15/20\n",
            "30/30 [==============================] - 1s 39ms/step - loss: 0.0098 - accuracy: 0.9995 - val_loss: 0.4934 - val_accuracy: 0.8664\n",
            "Epoch 16/20\n",
            "30/30 [==============================] - 1s 39ms/step - loss: 0.0084 - accuracy: 0.9997 - val_loss: 0.5077 - val_accuracy: 0.8661\n",
            "Epoch 17/20\n",
            "30/30 [==============================] - 1s 39ms/step - loss: 0.0073 - accuracy: 0.9997 - val_loss: 0.5205 - val_accuracy: 0.8669\n",
            "Epoch 18/20\n",
            "30/30 [==============================] - 1s 39ms/step - loss: 0.0061 - accuracy: 0.9998 - val_loss: 0.5328 - val_accuracy: 0.8661\n",
            "Epoch 19/20\n",
            "30/30 [==============================] - 1s 39ms/step - loss: 0.0053 - accuracy: 0.9998 - val_loss: 0.5443 - val_accuracy: 0.8660\n",
            "Epoch 20/20\n",
            "30/30 [==============================] - 1s 39ms/step - loss: 0.0047 - accuracy: 0.9999 - val_loss: 0.5558 - val_accuracy: 0.8653\n"
          ]
        },
        {
          "output_type": "execute_result",
          "data": {
            "text/plain": [
              "dict_keys(['loss', 'accuracy', 'val_loss', 'val_accuracy'])"
            ]
          },
          "metadata": {},
          "execution_count": 52
        }
      ]
    },
    {
      "cell_type": "markdown",
      "source": [
        "Plotting graph between Training and Validation loss"
      ],
      "metadata": {
        "id": "EFWs8Lj_tiG_"
      }
    },
    {
      "cell_type": "code",
      "source": [
        "loss_values = history_dict_tanh[\"loss\"]\n",
        "val_loss_values = history_dict_tanh[\"val_loss\"]\n",
        "epochs = range(1, len(loss_values) + 1)\n",
        "plt.plot(epochs, loss_values, \"bo\", label=\"Training loss\")\n",
        "plt.plot(epochs, val_loss_values, \"b\", label=\"Validation loss\")\n",
        "plt.title(\"Training and validation loss\")\n",
        "plt.xlabel(\"Epochs\")\n",
        "plt.ylabel(\"Loss\")\n",
        "plt.legend()\n",
        "plt.show()"
      ],
      "metadata": {
        "colab": {
          "base_uri": "https://localhost:8080/",
          "height": 295
        },
        "id": "HbtT8PrHtjBZ",
        "outputId": "f84a9b26-b16a-4bad-aa3d-48ff7ac240bf"
      },
      "execution_count": 53,
      "outputs": [
        {
          "output_type": "display_data",
          "data": {
            "text/plain": [
              "<Figure size 432x288 with 1 Axes>"
            ],
            "image/png": "[encoded data removed]"
          },
          "metadata": {
            "needs_background": "light"
          }
        }
      ]
    },
    {
      "cell_type": "markdown",
      "source": [
        "Plotting graph between Training and Validation accuracy"
      ],
      "metadata": {
        "id": "q8iuNNXEtmn_"
      }
    },
    {
      "cell_type": "code",
      "source": [
        "plt.clf()\n",
        "acc = history_dict_tanh[\"accuracy\"]\n",
        "val_acc = history_dict_tanh[\"val_accuracy\"]\n",
        "plt.plot(epochs, acc, \"bo\", label=\"Training acc\")\n",
        "plt.plot(epochs, val_acc, \"b\", label=\"Validation acc\")\n",
        "plt.title(\"Training and validation accuracy\")\n",
        "plt.xlabel(\"Epochs\")\n",
        "plt.ylabel(\"Accuracy\")\n",
        "plt.legend()\n",
        "plt.show()"
      ],
      "metadata": {
        "colab": {
          "base_uri": "https://localhost:8080/",
          "height": 295
        },
        "id": "QmXZHkxVtnk-",
        "outputId": "ad5bdbd0-7c7a-4e9c-b6bc-faf972194100"
      },
      "execution_count": 54,
      "outputs": [
        {
          "output_type": "display_data",
          "data": {
            "text/plain": [
              "<Figure size 432x288 with 1 Axes>"
            ],
            "image/png": "[encoded data removed]"
          },
          "metadata": {
            "needs_background": "light"
          }
        }
      ]
    },
    {
      "cell_type": "code",
      "source": [
        "model_tanh.fit(x_train, y_train, epochs=8, batch_size=512)\n",
        "results_tanh = model_tanh.evaluate(x_test, y_test)\n",
        "results_tanh"
      ],
      "metadata": {
        "colab": {
          "base_uri": "https://localhost:8080/"
        },
        "id": "E8auCDjPtrHi",
        "outputId": "d6872cad-d6b4-4bfb-db1e-c91923538cc1"
      },
      "execution_count": 55,
      "outputs": [
        {
          "output_type": "stream",
          "name": "stdout",
          "text": [
            "Epoch 1/8\n",
            "49/49 [==============================] - 1s 30ms/step - loss: 0.2034 - accuracy: 0.9412\n",
            "Epoch 2/8\n",
            "49/49 [==============================] - 1s 30ms/step - loss: 0.1148 - accuracy: 0.9653\n",
            "Epoch 3/8\n",
            "49/49 [==============================] - 1s 30ms/step - loss: 0.0808 - accuracy: 0.9785\n",
            "Epoch 4/8\n",
            "49/49 [==============================] - 1s 31ms/step - loss: 0.0602 - accuracy: 0.9860\n",
            "Epoch 5/8\n",
            "49/49 [==============================] - 1s 30ms/step - loss: 0.0457 - accuracy: 0.9909\n",
            "Epoch 6/8\n",
            "49/49 [==============================] - 1s 29ms/step - loss: 0.0351 - accuracy: 0.9942\n",
            "Epoch 7/8\n",
            "49/49 [==============================] - 1s 29ms/step - loss: 0.0277 - accuracy: 0.9964\n",
            "Epoch 8/8\n",
            "49/49 [==============================] - 1s 29ms/step - loss: 0.0226 - accuracy: 0.9972\n",
            "782/782 [==============================] - 2s 3ms/step - loss: 0.6505 - accuracy: 0.8522\n"
          ]
        },
        {
          "output_type": "execute_result",
          "data": {
            "text/plain": [
              "[0.6505259275436401, 0.8522400259971619]"
            ]
          },
          "metadata": {},
          "execution_count": 55
        }
      ]
    },
    {
      "cell_type": "markdown",
      "source": [
        "Regularisation"
      ],
      "metadata": {
        "id": "Y4kHqjLRtuE1"
      }
    },
    {
      "cell_type": "code",
      "source": [
        "from tensorflow.keras import regularizers\n",
        "model_regularisation = keras.Sequential([\n",
        "    layers.Dense(16, activation=\"relu\",kernel_regularizer=regularizers.l2(0.001)),\n",
        "    layers.Dense(16, activation=\"relu\",kernel_regularizer=regularizers.l2(0.001)),\n",
        "    layers.Dense(1, activation=\"sigmoid\")\n",
        "])\n",
        "model_regularisation.compile(optimizer=\"adam\",\n",
        "              loss=\"binary_crossentropy\",\n",
        "              metrics=[\"accuracy\"])\n",
        "history_model_regularisation = model_regularisation.fit(partial_x_train,\n",
        "                    partial_y_train,\n",
        "                    epochs=20,\n",
        "                    batch_size=512,\n",
        "                    validation_data=(x_val, y_val))\n",
        "history_dict_regularisation = history_model_regularisation.history\n",
        "history_dict_regularisation.keys()"
      ],
      "metadata": {
        "colab": {
          "base_uri": "https://localhost:8080/"
        },
        "id": "vMJSqosOtxBC",
        "outputId": "44c7914b-0e54-4ea4-a78a-b84b7325d8be"
      },
      "execution_count": 56,
      "outputs": [
        {
          "output_type": "stream",
          "name": "stdout",
          "text": [
            "Epoch 1/20\n",
            "30/30 [==============================] - 2s 51ms/step - loss: 0.6059 - accuracy: 0.7593 - val_loss: 0.4510 - val_accuracy: 0.8588\n",
            "Epoch 2/20\n",
            "30/30 [==============================] - 1s 42ms/step - loss: 0.3537 - accuracy: 0.8968 - val_loss: 0.3472 - val_accuracy: 0.8830\n",
            "Epoch 3/20\n",
            "30/30 [==============================] - 1s 40ms/step - loss: 0.2622 - accuracy: 0.9287 - val_loss: 0.3266 - val_accuracy: 0.8903\n",
            "Epoch 4/20\n",
            "30/30 [==============================] - 1s 43ms/step - loss: 0.2188 - accuracy: 0.9468 - val_loss: 0.3336 - val_accuracy: 0.8839\n",
            "Epoch 5/20\n",
            "30/30 [==============================] - 1s 42ms/step - loss: 0.1925 - accuracy: 0.9583 - val_loss: 0.3425 - val_accuracy: 0.8843\n",
            "Epoch 6/20\n",
            "30/30 [==============================] - 1s 42ms/step - loss: 0.1728 - accuracy: 0.9670 - val_loss: 0.3551 - val_accuracy: 0.8828\n",
            "Epoch 7/20\n",
            "30/30 [==============================] - 1s 43ms/step - loss: 0.1581 - accuracy: 0.9755 - val_loss: 0.3721 - val_accuracy: 0.8802\n",
            "Epoch 8/20\n",
            "30/30 [==============================] - 1s 41ms/step - loss: 0.1483 - accuracy: 0.9786 - val_loss: 0.3918 - val_accuracy: 0.8771\n",
            "Epoch 9/20\n",
            "30/30 [==============================] - 1s 42ms/step - loss: 0.1402 - accuracy: 0.9815 - val_loss: 0.4042 - val_accuracy: 0.8772\n",
            "Epoch 10/20\n",
            "30/30 [==============================] - 1s 41ms/step - loss: 0.1311 - accuracy: 0.9855 - val_loss: 0.4233 - val_accuracy: 0.8748\n",
            "Epoch 11/20\n",
            "30/30 [==============================] - 1s 40ms/step - loss: 0.1234 - accuracy: 0.9897 - val_loss: 0.4345 - val_accuracy: 0.8732\n",
            "Epoch 12/20\n",
            "30/30 [==============================] - 1s 40ms/step - loss: 0.1178 - accuracy: 0.9906 - val_loss: 0.4550 - val_accuracy: 0.8713\n",
            "Epoch 13/20\n",
            "30/30 [==============================] - 1s 42ms/step - loss: 0.1138 - accuracy: 0.9928 - val_loss: 0.4646 - val_accuracy: 0.8694\n",
            "Epoch 14/20\n",
            "30/30 [==============================] - 1s 42ms/step - loss: 0.1097 - accuracy: 0.9934 - val_loss: 0.4756 - val_accuracy: 0.8693\n",
            "Epoch 15/20\n",
            "30/30 [==============================] - 1s 41ms/step - loss: 0.1058 - accuracy: 0.9945 - val_loss: 0.4930 - val_accuracy: 0.8648\n",
            "Epoch 16/20\n",
            "30/30 [==============================] - 1s 41ms/step - loss: 0.1018 - accuracy: 0.9957 - val_loss: 0.4971 - val_accuracy: 0.8668\n",
            "Epoch 17/20\n",
            "30/30 [==============================] - 1s 41ms/step - loss: 0.0983 - accuracy: 0.9962 - val_loss: 0.5085 - val_accuracy: 0.8657\n",
            "Epoch 18/20\n",
            "30/30 [==============================] - 1s 41ms/step - loss: 0.0969 - accuracy: 0.9968 - val_loss: 0.5204 - val_accuracy: 0.8639\n",
            "Epoch 19/20\n",
            "30/30 [==============================] - 1s 42ms/step - loss: 0.0960 - accuracy: 0.9965 - val_loss: 0.5307 - val_accuracy: 0.8643\n",
            "Epoch 20/20\n",
            "30/30 [==============================] - 1s 40ms/step - loss: 0.0941 - accuracy: 0.9962 - val_loss: 0.5518 - val_accuracy: 0.8597\n"
          ]
        },
        {
          "output_type": "execute_result",
          "data": {
            "text/plain": [
              "dict_keys(['loss', 'accuracy', 'val_loss', 'val_accuracy'])"
            ]
          },
          "metadata": {},
          "execution_count": 56
        }
      ]
    },
    {
      "cell_type": "markdown",
      "source": [
        "Plotting graph between Training and Validation loss"
      ],
      "metadata": {
        "id": "KoscsgW3t0Ob"
      }
    },
    {
      "cell_type": "code",
      "source": [
        "loss_values = history_dict_regularisation[\"loss\"]\n",
        "val_loss_values = history_dict_regularisation[\"val_loss\"]\n",
        "epochs = range(1, len(loss_values) + 1)\n",
        "plt.plot(epochs, loss_values, \"bo\", label=\"Training loss\")\n",
        "plt.plot(epochs, val_loss_values, \"b\", label=\"Validation loss\")\n",
        "plt.title(\"Training and validation loss\")\n",
        "plt.xlabel(\"Epochs\")\n",
        "plt.ylabel(\"Loss\")\n",
        "plt.legend()\n",
        "plt.show()"
      ],
      "metadata": {
        "colab": {
          "base_uri": "https://localhost:8080/",
          "height": 295
        },
        "id": "U1TphMYtt1Gg",
        "outputId": "1404f515-aa71-4d23-ba48-37b5d9805003"
      },
      "execution_count": 57,
      "outputs": [
        {
          "output_type": "display_data",
          "data": {
            "text/plain": [
              "<Figure size 432x288 with 1 Axes>"
            ],
            "image/png": "[encoded data removed]"
          },
          "metadata": {
            "needs_background": "light"
          }
        }
      ]
    },
    {
      "cell_type": "markdown",
      "source": [
        "Plotting graph between Training and Validation accuracy"
      ],
      "metadata": {
        "id": "7GbSTTElt4n_"
      }
    },
    {
      "cell_type": "code",
      "source": [
        "plt.clf()\n",
        "acc = history_dict_regularisation[\"accuracy\"]\n",
        "val_acc = history_dict_regularisation[\"val_accuracy\"]\n",
        "plt.plot(epochs, acc, \"bo\", label=\"Training acc\")\n",
        "plt.plot(epochs, val_acc, \"b\", label=\"Validation acc\")\n",
        "plt.title(\"Training and validation accuracy\")\n",
        "plt.xlabel(\"Epochs\")\n",
        "plt.ylabel(\"Accuracy\")\n",
        "plt.legend()\n",
        "plt.show()"
      ],
      "metadata": {
        "colab": {
          "base_uri": "https://localhost:8080/",
          "height": 295
        },
        "id": "cjuDHbh6t5gn",
        "outputId": "cb7ba252-373c-4268-c98e-30104d21fb4c"
      },
      "execution_count": 58,
      "outputs": [
        {
          "output_type": "display_data",
          "data": {
            "text/plain": [
              "<Figure size 432x288 with 1 Axes>"
            ],
            "image/png": "[encoded data removed]"
          },
          "metadata": {
            "needs_background": "light"
          }
        }
      ]
    },
    {
      "cell_type": "code",
      "source": [
        "model_regularisation.fit(x_train, y_train, epochs=8, batch_size=512)\n",
        "results_regularisation = model_regularisation.evaluate(x_test, y_test)\n",
        "results_regularisation"
      ],
      "metadata": {
        "colab": {
          "base_uri": "https://localhost:8080/"
        },
        "id": "m0UelN8Bt-7p",
        "outputId": "4d4cffa6-0e2d-4119-cfda-5d0ce8863aff"
      },
      "execution_count": 59,
      "outputs": [
        {
          "output_type": "stream",
          "name": "stdout",
          "text": [
            "Epoch 1/8\n",
            "49/49 [==============================] - 2s 31ms/step - loss: 0.2769 - accuracy: 0.9290\n",
            "Epoch 2/8\n",
            "49/49 [==============================] - 2s 31ms/step - loss: 0.1979 - accuracy: 0.9535\n",
            "Epoch 3/8\n",
            "49/49 [==============================] - 1s 31ms/step - loss: 0.1627 - accuracy: 0.9700\n",
            "Epoch 4/8\n",
            "49/49 [==============================] - 1s 30ms/step - loss: 0.1459 - accuracy: 0.9756\n",
            "Epoch 5/8\n",
            "49/49 [==============================] - 2s 31ms/step - loss: 0.1374 - accuracy: 0.9788\n",
            "Epoch 6/8\n",
            "49/49 [==============================] - 2s 31ms/step - loss: 0.1295 - accuracy: 0.9823\n",
            "Epoch 7/8\n",
            "49/49 [==============================] - 2s 31ms/step - loss: 0.1234 - accuracy: 0.9845\n",
            "Epoch 8/8\n",
            "49/49 [==============================] - 1s 30ms/step - loss: 0.1168 - accuracy: 0.9875\n",
            "782/782 [==============================] - 2s 3ms/step - loss: 0.5233 - accuracy: 0.8578\n"
          ]
        },
        {
          "output_type": "execute_result",
          "data": {
            "text/plain": [
              "[0.5233038067817688, 0.8578400015830994]"
            ]
          },
          "metadata": {},
          "execution_count": 59
        }
      ]
    },
    {
      "cell_type": "markdown",
      "source": [
        "Dropout"
      ],
      "metadata": {
        "id": "ye-jwi9WuB46"
      }
    },
    {
      "cell_type": "code",
      "source": [
        "from tensorflow.keras import regularizers\n",
        "model_Dropout = keras.Sequential([\n",
        "    layers.Dense(16, activation=\"relu\"),\n",
        "    layers.Dropout(0.5),\n",
        "    layers.Dense(16, activation=\"relu\"),\n",
        "    layers.Dropout(0.5),\n",
        "    layers.Dense(1, activation=\"sigmoid\")\n",
        "])\n",
        "model_Dropout.compile(optimizer=\"adam\",\n",
        "              loss=\"binary_crossentropy\",\n",
        "              metrics=[\"accuracy\"])\n",
        "history_model_Dropout = model_Dropout.fit(partial_x_train,\n",
        "                    partial_y_train,\n",
        "                    epochs=20,\n",
        "                    batch_size=512,\n",
        "                    validation_data=(x_val, y_val))\n",
        "history_dict_Dropout = history_model_Dropout.history\n",
        "history_dict_Dropout.keys()"
      ],
      "metadata": {
        "colab": {
          "base_uri": "https://localhost:8080/"
        },
        "id": "VM-dzbcCuDEr",
        "outputId": "aa100dd5-dc79-485f-e378-253113c73908"
      },
      "execution_count": 60,
      "outputs": [
        {
          "output_type": "stream",
          "name": "stdout",
          "text": [
            "Epoch 1/20\n",
            "30/30 [==============================] - 2s 50ms/step - loss: 0.6680 - accuracy: 0.5749 - val_loss: 0.5754 - val_accuracy: 0.8071\n",
            "Epoch 2/20\n",
            "30/30 [==============================] - 1s 41ms/step - loss: 0.5568 - accuracy: 0.7085 - val_loss: 0.4474 - val_accuracy: 0.8559\n",
            "Epoch 3/20\n",
            "30/30 [==============================] - 1s 40ms/step - loss: 0.4569 - accuracy: 0.7911 - val_loss: 0.3545 - val_accuracy: 0.8747\n",
            "Epoch 4/20\n",
            "30/30 [==============================] - 1s 41ms/step - loss: 0.3867 - accuracy: 0.8390 - val_loss: 0.3120 - val_accuracy: 0.8813\n",
            "Epoch 5/20\n",
            "30/30 [==============================] - 1s 43ms/step - loss: 0.3354 - accuracy: 0.8671 - val_loss: 0.2905 - val_accuracy: 0.8858\n",
            "Epoch 6/20\n",
            "30/30 [==============================] - 1s 42ms/step - loss: 0.2981 - accuracy: 0.8902 - val_loss: 0.2793 - val_accuracy: 0.8869\n",
            "Epoch 7/20\n",
            "30/30 [==============================] - 1s 40ms/step - loss: 0.2615 - accuracy: 0.9074 - val_loss: 0.2738 - val_accuracy: 0.8870\n",
            "Epoch 8/20\n",
            "30/30 [==============================] - 1s 40ms/step - loss: 0.2306 - accuracy: 0.9231 - val_loss: 0.2854 - val_accuracy: 0.8877\n",
            "Epoch 9/20\n",
            "30/30 [==============================] - 1s 40ms/step - loss: 0.2055 - accuracy: 0.9326 - val_loss: 0.2883 - val_accuracy: 0.8890\n",
            "Epoch 10/20\n",
            "30/30 [==============================] - 1s 40ms/step - loss: 0.1867 - accuracy: 0.9391 - val_loss: 0.3084 - val_accuracy: 0.8859\n",
            "Epoch 11/20\n",
            "30/30 [==============================] - 1s 40ms/step - loss: 0.1651 - accuracy: 0.9503 - val_loss: 0.3051 - val_accuracy: 0.8860\n",
            "Epoch 12/20\n",
            "30/30 [==============================] - 1s 40ms/step - loss: 0.1454 - accuracy: 0.9562 - val_loss: 0.3239 - val_accuracy: 0.8833\n",
            "Epoch 13/20\n",
            "30/30 [==============================] - 1s 40ms/step - loss: 0.1352 - accuracy: 0.9593 - val_loss: 0.3530 - val_accuracy: 0.8840\n",
            "Epoch 14/20\n",
            "30/30 [==============================] - 1s 39ms/step - loss: 0.1199 - accuracy: 0.9644 - val_loss: 0.3638 - val_accuracy: 0.8839\n",
            "Epoch 15/20\n",
            "30/30 [==============================] - 1s 40ms/step - loss: 0.1091 - accuracy: 0.9679 - val_loss: 0.3747 - val_accuracy: 0.8822\n",
            "Epoch 16/20\n",
            "30/30 [==============================] - 1s 40ms/step - loss: 0.1008 - accuracy: 0.9712 - val_loss: 0.3953 - val_accuracy: 0.8833\n",
            "Epoch 17/20\n",
            "30/30 [==============================] - 1s 42ms/step - loss: 0.0907 - accuracy: 0.9749 - val_loss: 0.4296 - val_accuracy: 0.8822\n",
            "Epoch 18/20\n",
            "30/30 [==============================] - 1s 40ms/step - loss: 0.0874 - accuracy: 0.9753 - val_loss: 0.4506 - val_accuracy: 0.8830\n",
            "Epoch 19/20\n",
            "30/30 [==============================] - 1s 41ms/step - loss: 0.0813 - accuracy: 0.9783 - val_loss: 0.4787 - val_accuracy: 0.8831\n",
            "Epoch 20/20\n",
            "30/30 [==============================] - 1s 39ms/step - loss: 0.0789 - accuracy: 0.9778 - val_loss: 0.4744 - val_accuracy: 0.8816\n"
          ]
        },
        {
          "output_type": "execute_result",
          "data": {
            "text/plain": [
              "dict_keys(['loss', 'accuracy', 'val_loss', 'val_accuracy'])"
            ]
          },
          "metadata": {},
          "execution_count": 60
        }
      ]
    },
    {
      "cell_type": "markdown",
      "source": [
        "Plotting graph between Training and Validation loss"
      ],
      "metadata": {
        "id": "jYQTIML4uHb5"
      }
    },
    {
      "cell_type": "code",
      "source": [
        "loss_values = history_dict_Dropout[\"loss\"]\n",
        "val_loss_values = history_dict_Dropout[\"val_loss\"]\n",
        "epochs = range(1, len(loss_values) + 1)\n",
        "plt.plot(epochs, loss_values, \"bo\", label=\"Training loss\")\n",
        "plt.plot(epochs, val_loss_values, \"b\", label=\"Validation loss\")\n",
        "plt.title(\"Training and validation loss\")\n",
        "plt.xlabel(\"Epochs\")\n",
        "plt.ylabel(\"Loss\")\n",
        "plt.legend()\n",
        "plt.show()\n"
      ],
      "metadata": {
        "colab": {
          "base_uri": "https://localhost:8080/",
          "height": 295
        },
        "id": "Hj-FUevnuIOO",
        "outputId": "20ea2092-58f9-4a35-d988-63e295a4e226"
      },
      "execution_count": 61,
      "outputs": [
        {
          "output_type": "display_data",
          "data": {
            "text/plain": [
              "<Figure size 432x288 with 1 Axes>"
            ],
            "image/png": "[encoded data removed]"
          },
          "metadata": {
            "needs_background": "light"
          }
        }
      ]
    },
    {
      "cell_type": "markdown",
      "source": [
        "Plotting graph between Training and Validation accuracy"
      ],
      "metadata": {
        "id": "oKPZ1JPPuMh7"
      }
    },
    {
      "cell_type": "code",
      "source": [
        "plt.clf()\n",
        "acc = history_dict_Dropout[\"accuracy\"]\n",
        "val_acc = history_dict_Dropout[\"val_accuracy\"]\n",
        "plt.plot(epochs, acc, \"bo\", label=\"Training acc\")\n",
        "plt.plot(epochs, val_acc, \"b\", label=\"Validation acc\")\n",
        "plt.title(\"Training and validation accuracy\")\n",
        "plt.xlabel(\"Epochs\")\n",
        "plt.ylabel(\"Accuracy\")\n",
        "plt.legend()\n",
        "plt.show()\n"
      ],
      "metadata": {
        "colab": {
          "base_uri": "https://localhost:8080/",
          "height": 295
        },
        "id": "PcNufNSFuNlc",
        "outputId": "3801827e-21b5-4833-db90-0e549ee603c1"
      },
      "execution_count": 62,
      "outputs": [
        {
          "output_type": "display_data",
          "data": {
            "text/plain": [
              "<Figure size 432x288 with 1 Axes>"
            ],
            "image/png": "[encoded data removed]"
          },
          "metadata": {
            "needs_background": "light"
          }
        }
      ]
    },
    {
      "cell_type": "code",
      "source": [
        "model_Dropout.fit(x_train, y_train, epochs=8, batch_size=512)\n",
        "results_Dropout = model_Dropout.evaluate(x_test, y_test)\n",
        "results_Dropout"
      ],
      "metadata": {
        "colab": {
          "base_uri": "https://localhost:8080/"
        },
        "id": "26vyskjQuRt6",
        "outputId": "869e704a-2f50-44e6-b257-73373b47e856"
      },
      "execution_count": 63,
      "outputs": [
        {
          "output_type": "stream",
          "name": "stdout",
          "text": [
            "Epoch 1/8\n",
            "49/49 [==============================] - 2s 32ms/step - loss: 0.2308 - accuracy: 0.9292\n",
            "Epoch 2/8\n",
            "49/49 [==============================] - 2s 31ms/step - loss: 0.1848 - accuracy: 0.9426\n",
            "Epoch 3/8\n",
            "49/49 [==============================] - 1s 30ms/step - loss: 0.1633 - accuracy: 0.9504\n",
            "Epoch 4/8\n",
            "49/49 [==============================] - 1s 30ms/step - loss: 0.1449 - accuracy: 0.9572\n",
            "Epoch 5/8\n",
            "49/49 [==============================] - 1s 30ms/step - loss: 0.1285 - accuracy: 0.9596\n",
            "Epoch 6/8\n",
            "49/49 [==============================] - 1s 30ms/step - loss: 0.1195 - accuracy: 0.9634\n",
            "Epoch 7/8\n",
            "49/49 [==============================] - 2s 31ms/step - loss: 0.1088 - accuracy: 0.9659\n",
            "Epoch 8/8\n",
            "49/49 [==============================] - 1s 30ms/step - loss: 0.1043 - accuracy: 0.9673\n",
            "782/782 [==============================] - 2s 3ms/step - loss: 0.4517 - accuracy: 0.8741\n"
          ]
        },
        {
          "output_type": "execute_result",
          "data": {
            "text/plain": [
              "[0.45166468620300293, 0.8741199970245361]"
            ]
          },
          "metadata": {},
          "execution_count": 63
        }
      ]
    },
    {
      "cell_type": "markdown",
      "source": [
        "Training the model with Hypertunned Parameters"
      ],
      "metadata": {
        "id": "-ohsdvBEuUtX"
      }
    },
    {
      "cell_type": "code",
      "source": [
        "from tensorflow.keras import regularizers\n",
        "model_Hyper = keras.Sequential([\n",
        "    layers.Dense(32, activation=\"relu\",kernel_regularizer=regularizers.l2(0.0001)),\n",
        "    layers.Dropout(0.5),    \n",
        "    layers.Dense(32, activation=\"relu\",kernel_regularizer=regularizers.l2(0.0001)),\n",
        "    layers.Dropout(0.5),\n",
        "    layers.Dense(16, activation=\"relu\",kernel_regularizer=regularizers.l2(0.0001)),\n",
        "    layers.Dropout(0.5),\n",
        "    layers.Dense(1, activation=\"sigmoid\")\n",
        "])\n",
        "model_Hyper.compile(optimizer=\"adam\",\n",
        "              loss=\"mse\",\n",
        "              metrics=[\"accuracy\"])\n",
        "history_model_Hyper = model_Hyper.fit(partial_x_train,\n",
        "                    partial_y_train,\n",
        "                    epochs=20,\n",
        "                    batch_size=512,\n",
        "                    validation_data=(x_val, y_val))\n",
        "history_dict_Hyper = history_model_Hyper.history\n",
        "history_dict_Hyper.keys()"
      ],
      "metadata": {
        "colab": {
          "base_uri": "https://localhost:8080/"
        },
        "id": "tUr7a7D2uWAg",
        "outputId": "a9e69867-8052-46f8-824c-ec38779d6fe8"
      },
      "execution_count": 64,
      "outputs": [
        {
          "output_type": "stream",
          "name": "stdout",
          "text": [
            "Epoch 1/20\n",
            "30/30 [==============================] - 3s 62ms/step - loss: 0.2558 - accuracy: 0.5449 - val_loss: 0.2408 - val_accuracy: 0.7975\n",
            "Epoch 2/20\n",
            "30/30 [==============================] - 1s 46ms/step - loss: 0.2213 - accuracy: 0.6889 - val_loss: 0.1695 - val_accuracy: 0.8522\n",
            "Epoch 3/20\n",
            "30/30 [==============================] - 1s 45ms/step - loss: 0.1658 - accuracy: 0.8089 - val_loss: 0.1140 - val_accuracy: 0.8743\n",
            "Epoch 4/20\n",
            "30/30 [==============================] - 1s 46ms/step - loss: 0.1195 - accuracy: 0.8753 - val_loss: 0.1003 - val_accuracy: 0.8814\n",
            "Epoch 5/20\n",
            "30/30 [==============================] - 1s 45ms/step - loss: 0.0957 - accuracy: 0.9041 - val_loss: 0.0950 - val_accuracy: 0.8894\n",
            "Epoch 6/20\n",
            "30/30 [==============================] - 1s 46ms/step - loss: 0.0800 - accuracy: 0.9195 - val_loss: 0.0965 - val_accuracy: 0.8879\n",
            "Epoch 7/20\n",
            "30/30 [==============================] - 1s 46ms/step - loss: 0.0694 - accuracy: 0.9350 - val_loss: 0.1009 - val_accuracy: 0.8869\n",
            "Epoch 8/20\n",
            "30/30 [==============================] - 1s 47ms/step - loss: 0.0611 - accuracy: 0.9458 - val_loss: 0.1040 - val_accuracy: 0.8843\n",
            "Epoch 9/20\n",
            "30/30 [==============================] - 1s 46ms/step - loss: 0.0574 - accuracy: 0.9497 - val_loss: 0.1057 - val_accuracy: 0.8821\n",
            "Epoch 10/20\n",
            "30/30 [==============================] - 1s 46ms/step - loss: 0.0537 - accuracy: 0.9525 - val_loss: 0.1096 - val_accuracy: 0.8808\n",
            "Epoch 11/20\n",
            "30/30 [==============================] - 1s 45ms/step - loss: 0.0517 - accuracy: 0.9573 - val_loss: 0.1116 - val_accuracy: 0.8816\n",
            "Epoch 12/20\n",
            "30/30 [==============================] - 1s 47ms/step - loss: 0.0482 - accuracy: 0.9614 - val_loss: 0.1089 - val_accuracy: 0.8838\n",
            "Epoch 13/20\n",
            "30/30 [==============================] - 1s 46ms/step - loss: 0.0467 - accuracy: 0.9626 - val_loss: 0.1112 - val_accuracy: 0.8843\n",
            "Epoch 14/20\n",
            "30/30 [==============================] - 1s 45ms/step - loss: 0.0442 - accuracy: 0.9659 - val_loss: 0.1131 - val_accuracy: 0.8826\n",
            "Epoch 15/20\n",
            "30/30 [==============================] - 1s 46ms/step - loss: 0.0437 - accuracy: 0.9672 - val_loss: 0.1136 - val_accuracy: 0.8844\n",
            "Epoch 16/20\n",
            "30/30 [==============================] - 1s 46ms/step - loss: 0.0425 - accuracy: 0.9674 - val_loss: 0.1165 - val_accuracy: 0.8804\n",
            "Epoch 17/20\n",
            "30/30 [==============================] - 1s 46ms/step - loss: 0.0419 - accuracy: 0.9701 - val_loss: 0.1161 - val_accuracy: 0.8819\n",
            "Epoch 18/20\n",
            "30/30 [==============================] - 1s 45ms/step - loss: 0.0411 - accuracy: 0.9713 - val_loss: 0.1151 - val_accuracy: 0.8833\n",
            "Epoch 19/20\n",
            "30/30 [==============================] - 1s 46ms/step - loss: 0.0401 - accuracy: 0.9717 - val_loss: 0.1180 - val_accuracy: 0.8820\n",
            "Epoch 20/20\n",
            "30/30 [==============================] - 1s 46ms/step - loss: 0.0404 - accuracy: 0.9716 - val_loss: 0.1204 - val_accuracy: 0.8810\n"
          ]
        },
        {
          "output_type": "execute_result",
          "data": {
            "text/plain": [
              "dict_keys(['loss', 'accuracy', 'val_loss', 'val_accuracy'])"
            ]
          },
          "metadata": {},
          "execution_count": 64
        }
      ]
    },
    {
      "cell_type": "markdown",
      "source": [
        "Plotting graph between Training and Validation loss"
      ],
      "metadata": {
        "id": "8exteBNDuZko"
      }
    },
    {
      "cell_type": "code",
      "source": [
        "loss_values = history_dict_Hyper[\"loss\"]\n",
        "val_loss_values = history_dict_Hyper[\"val_loss\"]\n",
        "epochs = range(1, len(loss_values) + 1)\n",
        "plt.plot(epochs, loss_values, \"bo\", label=\"Training loss\")\n",
        "plt.plot(epochs, val_loss_values, \"b\", label=\"Validation loss\")\n",
        "plt.title(\"Training and validation loss\")\n",
        "plt.xlabel(\"Epochs\")\n",
        "plt.ylabel(\"Loss\")\n",
        "plt.legend()\n",
        "plt.show()\n"
      ],
      "metadata": {
        "colab": {
          "base_uri": "https://localhost:8080/",
          "height": 295
        },
        "id": "0yIKq0IYubLr",
        "outputId": "c293348b-aa08-47dd-a8ac-00ebfc74f936"
      },
      "execution_count": 65,
      "outputs": [
        {
          "output_type": "display_data",
          "data": {
            "text/plain": [
              "<Figure size 432x288 with 1 Axes>"
            ],
            "image/png": "[encoded data removed]"
          },
          "metadata": {
            "needs_background": "light"
          }
        }
      ]
    },
    {
      "cell_type": "markdown",
      "source": [
        "Plotting graph between Training and Validation accuracy"
      ],
      "metadata": {
        "id": "mC_yFtcmuex2"
      }
    },
    {
      "cell_type": "code",
      "source": [
        "plt.clf()\n",
        "acc = history_dict_Hyper[\"accuracy\"]\n",
        "val_acc = history_dict_Hyper[\"val_accuracy\"]\n",
        "plt.plot(epochs, acc, \"bo\", label=\"Training acc\")\n",
        "plt.plot(epochs, val_acc, \"b\", label=\"Validation acc\")\n",
        "plt.title(\"Training and validation accuracy\")\n",
        "plt.xlabel(\"Epochs\")\n",
        "plt.ylabel(\"Accuracy\")\n",
        "plt.legend()\n",
        "plt.show()"
      ],
      "metadata": {
        "colab": {
          "base_uri": "https://localhost:8080/",
          "height": 295
        },
        "id": "5eH5S3VjugOz",
        "outputId": "c058dbf2-061f-4966-a34f-4b46adfe91e2"
      },
      "execution_count": 66,
      "outputs": [
        {
          "output_type": "display_data",
          "data": {
            "text/plain": [
              "<Figure size 432x288 with 1 Axes>"
            ],
            "image/png": "[encoded data removed]"
          },
          "metadata": {
            "needs_background": "light"
          }
        }
      ]
    },
    {
      "cell_type": "code",
      "source": [
        "model_Hyper.fit(x_train, y_train, epochs=8, batch_size=512)\n",
        "results_Hyper = model_Hyper.evaluate(x_test, y_test)\n",
        "results_Hyper"
      ],
      "metadata": {
        "colab": {
          "base_uri": "https://localhost:8080/"
        },
        "id": "aqbV_quyujA3",
        "outputId": "cebf3822-9328-4cfb-90ae-566bb6450edc"
      },
      "execution_count": 67,
      "outputs": [
        {
          "output_type": "stream",
          "name": "stdout",
          "text": [
            "Epoch 1/8\n",
            "49/49 [==============================] - 2s 36ms/step - loss: 0.0772 - accuracy: 0.9260\n",
            "Epoch 2/8\n",
            "49/49 [==============================] - 2s 36ms/step - loss: 0.0722 - accuracy: 0.9337\n",
            "Epoch 3/8\n",
            "49/49 [==============================] - 2s 36ms/step - loss: 0.0676 - accuracy: 0.9404\n",
            "Epoch 4/8\n",
            "49/49 [==============================] - 2s 36ms/step - loss: 0.0637 - accuracy: 0.9462\n",
            "Epoch 5/8\n",
            "49/49 [==============================] - 2s 36ms/step - loss: 0.0608 - accuracy: 0.9496\n",
            "Epoch 6/8\n",
            "49/49 [==============================] - 2s 36ms/step - loss: 0.0596 - accuracy: 0.9530\n",
            "Epoch 7/8\n",
            "49/49 [==============================] - 2s 37ms/step - loss: 0.0555 - accuracy: 0.9574\n",
            "Epoch 8/8\n",
            "49/49 [==============================] - 2s 35ms/step - loss: 0.0561 - accuracy: 0.9570\n",
            "782/782 [==============================] - 3s 4ms/step - loss: 0.1201 - accuracy: 0.8785\n"
          ]
        },
        {
          "output_type": "execute_result",
          "data": {
            "text/plain": [
              "[0.12005572021007538, 0.8785200119018555]"
            ]
          },
          "metadata": {},
          "execution_count": 67
        }
      ]
    },
    {
      "cell_type": "markdown",
      "source": [
        "Summary of all models"
      ],
      "metadata": {
        "id": "slQuI1biulGP"
      }
    },
    {
      "cell_type": "code",
      "source": [
        "All_Loss= np.array([results_Dropout[0],results_Hyper[0],results_MSE[0],results_regularisation[0],results_tanh[0]])*100\n",
        "All_Loss\n",
        "All_Accuracy= np.array([results_Dropout[1],results_Hyper[1],results_MSE[1],results_regularisation[1],results_tanh[1]])*100\n",
        "All_Accuracy\n",
        "Labels=['Model_Dropout','Model_Hyper','Model_MSE','model_regularisation','model_tanh']\n",
        "\n",
        "plt.clf()"
      ],
      "metadata": {
        "colab": {
          "base_uri": "https://localhost:8080/",
          "height": 34
        },
        "id": "DYBfaU7_ulxA",
        "outputId": "524b59ca-da2a-43c6-d972-c735ac4d66af"
      },
      "execution_count": 68,
      "outputs": [
        {
          "output_type": "display_data",
          "data": {
            "text/plain": [
              "<Figure size 432x288 with 0 Axes>"
            ]
          },
          "metadata": {}
        }
      ]
    },
    {
      "cell_type": "markdown",
      "source": [
        "Comparing all models using graph"
      ],
      "metadata": {
        "id": "QZwIr04cuovP"
      }
    },
    {
      "cell_type": "code",
      "source": [
        "fig, ax = plt.subplots()\n",
        "ax.scatter(All_Loss,All_Accuracy)\n",
        "for i, txt in enumerate(Labels):\n",
        "    ax.annotate(txt, (All_Loss[i],All_Accuracy[i] ))\n",
        "plt.title(\"Summary for Accuracy and Loss\")\n",
        "plt.ylabel(\"Accuracy\")\n",
        "plt.xlabel(\"Loss\")\n",
        "\n",
        "plt.show()\n"
      ],
      "metadata": {
        "colab": {
          "base_uri": "https://localhost:8080/",
          "height": 295
        },
        "id": "Wg7CDiCJuqt1",
        "outputId": "9dc0193a-8e2c-4f64-e9ab-4d38daf9a4ef"
      },
      "execution_count": 69,
      "outputs": [
        {
          "output_type": "display_data",
          "data": {
            "text/plain": [
              "<Figure size 432x288 with 1 Axes>"
            ],
            "image/png": "[encoded data removed]"
          },
          "metadata": {
            "needs_background": "light"
          }
        }
      ]
    },
    {
      "cell_type": "markdown",
      "source": [
        "Summary:\n",
        "According to the graph, Model Hyper was used to achieve maximum accuracy and loss. We used three thick layers (32,32,16), each with a drop out rate of 0.5. We use MSE to compare the model's MSE loss to that of any other model (other than Final Hypertuned Model) We can see that the loss is negligible using MSE.\n",
        "\n",
        "Units: As we increase the unit from 16, 32, 64, 128, we see that the accuracy remains relatively constant while the loss function decreases.\n",
        "\n",
        "Increasing the number of Hidden Layers from one to three had no effect on loss function accuracy or deflection.\n",
        "\n",
        "Loss Function: When the loss function \"MSE\" is used on the IMDB dataset, the loss value is minimal when compared to binary cross entropy.\n",
        "\n",
        "The model's tanh Activation Function has a low accuracy, which reduces performance due to the vanishing gradient problem.\n",
        "\n",
        "Regularization results in a much smaller loss with less overfitting when compared to the initial model, with the L-2 model demonstrating slightly superior accuracy.\n",
        "\n",
        "Dropout: The dropout also helps to reduce the loss function but has no effect on accuracy."
      ],
      "metadata": {
        "id": "ESll6kwW5YbP"
      }
    }
  ],
  "metadata": {
    "colab": {
      "collapsed_sections": [],
      "name": "chapter04_getting-started-with-neural-networks.i",
      "provenance": []
    },
    "kernelspec": {
      "display_name": "Python 3",
      "language": "python",
      "name": "python3"
    },
    "language_info": {
      "codemirror_mode": {
        "name": "ipython",
        "version": 3
      },
      "file_extension": ".py",
      "mimetype": "text/x-python",
      "name": "python",
      "nbconvert_exporter": "python",
      "pygments_lexer": "ipython3",
      "version": "3.7.0"
    }
  },
  "nbformat": 4,
  "nbformat_minor": 0
}